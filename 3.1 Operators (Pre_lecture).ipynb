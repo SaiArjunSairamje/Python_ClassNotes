{
  "nbformat": 4,
  "nbformat_minor": 0,
  "metadata": {
    "colab": {
      "provenance": [],
      "authorship_tag": "ABX9TyN+Hjj+1K+YLPQF7jSscTGD",
      "include_colab_link": true
    },
    "kernelspec": {
      "name": "python3",
      "display_name": "Python 3"
    },
    "language_info": {
      "name": "python"
    }
  },
  "cells": [
    {
      "cell_type": "markdown",
      "metadata": {
        "id": "view-in-github",
        "colab_type": "text"
      },
      "source": [
        "<a href=\"https://colab.research.google.com/github/SaiArjunSairamje/Python_ClassNotes/blob/main/3.1%20Operators%20(Pre_lecture).ipynb\" target=\"_parent\"><img src=\"https://colab.research.google.com/assets/colab-badge.svg\" alt=\"Open In Colab\"/></a>"
      ]
    },
    {
      "cell_type": "markdown",
      "source": [
        "# <center><ins>**Beginner: Operators**</ins></center>"
      ],
      "metadata": {
        "id": "vQZ5dmvtLI4a"
      }
    },
    {
      "cell_type": "markdown",
      "source": [
        "## **Pre-lecture Content**\n",
        "\n",
        "**Arithmetic Operators**\n",
        "***\n",
        "1. **Operator**\n",
        "An **operator** is a symbol that indicates an operation to be performed. +, -, /, *, **, // **bold text**  are all **operators**.\n",
        "\n",
        "2. **Operand**\n",
        "An **operand** is an object that an **operator** acts on. In the expression 2 + 3, both 2 and 3 are operands while **+** is the **operator**.\n",
        "\n",
        "3. **Integer Division**           \n",
        "  **Integer division** is division in which the fractional part (remainder) is discarded.          \n",
        "  In Python, **integer division** is performed by using the **//** operator.\n",
        "For example, the expression 11 **//** 3 evaluates to 3.\n",
        "\n",
        "4. **Modulus**        \n",
        "  The **modulus** (or **`modulo`**) is the remainder after dividing one number by another.         \n",
        "  In Python, **modulus** is performed by using the **%** operator. For example,\n",
        "10 **%** 3 evaluates to 1.\n",
        "\n",
        "5. **Concatenation**        \n",
        "  In Python, the **concatenation** is the process of combining or adding strings together.      \n",
        "  **Concatenation** can be performed using the + operator. For example, **“hello” + “World”** evaluates to “helloWorld”.\n",
        "  \n",
        "6. **Conditions**                 \n",
        "  A **condition** is any expression that evaluates to True or False. The expression **2 == 2** evaluates to True and is considered a **condition**.\n",
        "\n"
      ],
      "metadata": {
        "id": "kcFxCVo6La27"
      }
    }
  ]
}