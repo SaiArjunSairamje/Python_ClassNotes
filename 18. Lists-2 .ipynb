{
  "nbformat": 4,
  "nbformat_minor": 0,
  "metadata": {
    "colab": {
      "provenance": [],
      "include_colab_link": true
    },
    "kernelspec": {
      "name": "python3",
      "display_name": "Python 3"
    },
    "language_info": {
      "name": "python"
    }
  },
  "cells": [
    {
      "cell_type": "markdown",
      "metadata": {
        "id": "view-in-github",
        "colab_type": "text"
      },
      "source": [
        "<a href=\"https://colab.research.google.com/github/SaiArjunSairamje/Python_ClassNotes/blob/main/18.%20Lists-2%20.ipynb\" target=\"_parent\"><img src=\"https://colab.research.google.com/assets/colab-badge.svg\" alt=\"Open In Colab\"/></a>"
      ]
    },
    {
      "cell_type": "markdown",
      "source": [
        "## **Contenet**\n",
        "* **`ceil()`**\n",
        "* **`floor()`**\n",
        "* **How to take list as input?**\n",
        "* **`split()`**\n",
        "* **Type Casting `(i.e. String to Integer)`**\n",
        "* **Lists**\n",
        "  - **Store**\n",
        "  - **Access**\n",
        "  - **Modify `(i.e. Mutability)`**\n",
        "* **Multiple Assignments**\n",
        "* **Removing the dat**a\n",
        "  - **`pop()`**\n",
        "  - **`remove()`**\n",
        "* **Linear Search `(NOTE: Next Class)`**"
      ],
      "metadata": {
        "id": "OXMMoNv3YUSg"
      }
    },
    {
      "cell_type": "code",
      "execution_count": null,
      "metadata": {
        "colab": {
          "base_uri": "https://localhost:8080/"
        },
        "id": "U8ySgW8sTfxt",
        "outputId": "d8510948-5885-4951-f111-53b9861333a1"
      },
      "outputs": [
        {
          "output_type": "stream",
          "name": "stdout",
          "text": [
            "Hows the josh??\n"
          ]
        }
      ],
      "source": [
        "|print(\"Hows the josh??\")"
      ]
    },
    {
      "cell_type": "code",
      "source": [
        "'''\n",
        "Q1:\n",
        " given a list of int, print the square of each element.\n",
        "\n",
        " ip: [2,4,5]\n",
        " op: 4, 16, 25\n",
        "\n",
        "'''"
      ],
      "metadata": {
        "colab": {
          "base_uri": "https://localhost:8080/",
          "height": 35
        },
        "id": "50qD0w65Vgwp",
        "outputId": "3dfaf3fa-5989-42b3-8df9-2192a9d58346"
      },
      "execution_count": null,
      "outputs": [
        {
          "output_type": "execute_result",
          "data": {
            "text/plain": [
              "'\\nQ1:\\n given a list of int, print the square of each element.\\n\\n ip: [2,4,5]\\n op: 4, 16, 25\\n \\n'"
            ],
            "application/vnd.google.colaboratory.intrinsic+json": {
              "type": "string"
            }
          },
          "metadata": {},
          "execution_count": 2
        }
      ]
    },
    {
      "cell_type": "code",
      "source": [
        "a = [2,4,5]\n",
        "for elem in a:\n",
        "  print(elem*elem, end = \" \")"
      ],
      "metadata": {
        "colab": {
          "base_uri": "https://localhost:8080/"
        },
        "id": "SVi5weX6WFXF",
        "outputId": "1dbcdf1a-cbd8-41f9-a44f-9581ea8ee9cb"
      },
      "execution_count": null,
      "outputs": [
        {
          "output_type": "stream",
          "name": "stdout",
          "text": [
            "4 16 25 "
          ]
        }
      ]
    },
    {
      "cell_type": "code",
      "source": [
        "a = [2,4,5]\n",
        "for elem in a:\n",
        "  print(elem**2, end = \" \")"
      ],
      "metadata": {
        "colab": {
          "base_uri": "https://localhost:8080/"
        },
        "id": "FQr56AWHWO1f",
        "outputId": "f8c49623-3de9-41dd-b9df-ae132ad01234"
      },
      "execution_count": null,
      "outputs": [
        {
          "output_type": "stream",
          "name": "stdout",
          "text": [
            "4 16 25 "
          ]
        }
      ]
    },
    {
      "cell_type": "code",
      "source": [
        "'''\n",
        "Q1:\n",
        " given a list of int, create a list of squares of it\n",
        "\n",
        " ip: [2,4,5]\n",
        " op: [4, 16, 25]\n",
        "\n",
        "'''"
      ],
      "metadata": {
        "id": "b7Sv966JWVPK"
      },
      "execution_count": null,
      "outputs": []
    },
    {
      "cell_type": "code",
      "source": [
        "b = []\n",
        "a = [2,4,5]\n",
        "\n",
        "for elem in a:\n",
        "  b.append(elem*elem)"
      ],
      "metadata": {
        "id": "g-Cz3ou-XIUt"
      },
      "execution_count": null,
      "outputs": []
    },
    {
      "cell_type": "code",
      "source": [
        "print(b)"
      ],
      "metadata": {
        "colab": {
          "base_uri": "https://localhost:8080/"
        },
        "id": "OnLH3XaUXP1x",
        "outputId": "53a274b7-aef5-46d8-a483-752b7f400d5c"
      },
      "execution_count": null,
      "outputs": [
        {
          "output_type": "stream",
          "name": "stdout",
          "text": [
            "[4, 16, 25]\n"
          ]
        }
      ]
    },
    {
      "cell_type": "code",
      "source": [
        "#how to take list as input"
      ],
      "metadata": {
        "id": "VNliafgRXQnf"
      },
      "execution_count": null,
      "outputs": []
    },
    {
      "cell_type": "code",
      "source": [
        "#way1\n",
        "n = int(input())\n",
        "\n",
        "b = []\n",
        "\n",
        "for i in range(n):\n",
        "  elem = int(input())\n",
        "  b.append(elem)"
      ],
      "metadata": {
        "colab": {
          "base_uri": "https://localhost:8080/"
        },
        "id": "qBqVqkmYXc55",
        "outputId": "b0507c13-b15b-4f5c-a76b-27dee74b8837"
      },
      "execution_count": null,
      "outputs": [
        {
          "name": "stdout",
          "output_type": "stream",
          "text": [
            "4\n",
            "3\n",
            "2\n",
            "7\n",
            "9\n"
          ]
        }
      ]
    },
    {
      "cell_type": "code",
      "source": [
        "print(b)"
      ],
      "metadata": {
        "colab": {
          "base_uri": "https://localhost:8080/"
        },
        "id": "-4uSEDpTX7G7",
        "outputId": "9689b4c6-d2ac-4691-9806-aeebf47acca8"
      },
      "execution_count": null,
      "outputs": [
        {
          "output_type": "stream",
          "name": "stdout",
          "text": [
            "[3, 2, 7, 9]\n"
          ]
        }
      ]
    },
    {
      "cell_type": "code",
      "source": [
        "type(b)"
      ],
      "metadata": {
        "colab": {
          "base_uri": "https://localhost:8080/"
        },
        "id": "K8xY4_ZEX_nn",
        "outputId": "4164aa73-4dcd-404f-be74-06beffbaec91"
      },
      "execution_count": null,
      "outputs": [
        {
          "output_type": "execute_result",
          "data": {
            "text/plain": [
              "list"
            ]
          },
          "metadata": {},
          "execution_count": 11
        }
      ]
    },
    {
      "cell_type": "code",
      "source": [
        "#way2: input given as a string of space separated int\n",
        "\n",
        "# ex: \"2 4 6 7\" - will cover in detail in string class"
      ],
      "metadata": {
        "id": "u2PFk6hlYIAt"
      },
      "execution_count": null,
      "outputs": []
    },
    {
      "cell_type": "code",
      "source": [
        "s = input()\n",
        "\n",
        "b = s.split(\" \")"
      ],
      "metadata": {
        "colab": {
          "base_uri": "https://localhost:8080/"
        },
        "id": "H4vZ4ZJqYYA4",
        "outputId": "5205ea0d-848f-4821-f360-ad97b713b9eb"
      },
      "execution_count": null,
      "outputs": [
        {
          "name": "stdout",
          "output_type": "stream",
          "text": [
            "2 4 8 9\n"
          ]
        }
      ]
    },
    {
      "cell_type": "code",
      "source": [
        "print(b)"
      ],
      "metadata": {
        "colab": {
          "base_uri": "https://localhost:8080/"
        },
        "id": "0Ww0k2_JYyal",
        "outputId": "c479b665-195a-4356-f8a2-7058d9863e3e"
      },
      "execution_count": null,
      "outputs": [
        {
          "output_type": "stream",
          "name": "stdout",
          "text": [
            "['2', '4', '8', '9']\n"
          ]
        }
      ]
    },
    {
      "cell_type": "code",
      "source": [
        "type(b[0])"
      ],
      "metadata": {
        "colab": {
          "base_uri": "https://localhost:8080/"
        },
        "id": "q2Fyx9wUY0qq",
        "outputId": "a49febf2-de6e-4ce4-d667-b9c6b29289e6"
      },
      "execution_count": null,
      "outputs": [
        {
          "output_type": "execute_result",
          "data": {
            "text/plain": [
              "str"
            ]
          },
          "metadata": {},
          "execution_count": 14
        }
      ]
    },
    {
      "cell_type": "code",
      "source": [
        "# we want [2, 4, 8, 9]"
      ],
      "metadata": {
        "id": "kHFHTQHnZBwj"
      },
      "execution_count": null,
      "outputs": []
    },
    {
      "cell_type": "code",
      "source": [
        "ans = []\n",
        "for elem in b:\n",
        "  ans.append(int(elem))"
      ],
      "metadata": {
        "id": "V8gqZBujZGed"
      },
      "execution_count": null,
      "outputs": []
    },
    {
      "cell_type": "code",
      "source": [
        "print(ans)"
      ],
      "metadata": {
        "colab": {
          "base_uri": "https://localhost:8080/"
        },
        "id": "gnUufMqeZNfp",
        "outputId": "5e241644-e91c-4b55-a947-f125c183d14a"
      },
      "execution_count": null,
      "outputs": [
        {
          "output_type": "stream",
          "name": "stdout",
          "text": [
            "[2, 4, 8, 9]\n"
          ]
        }
      ]
    },
    {
      "cell_type": "code",
      "source": [
        "s = input()\n",
        "\n",
        "b = s.split(\" \")\n",
        "\n",
        "ans = []\n",
        "#convert str elements to int\n",
        "for elem in b:\n",
        "  ans.append(int(elem))\n",
        "\n",
        "print(s, b, ans)"
      ],
      "metadata": {
        "colab": {
          "base_uri": "https://localhost:8080/"
        },
        "id": "K4y5UiEoZOyP",
        "outputId": "7244a092-8049-44d1-b2a6-58b812410b0d"
      },
      "execution_count": null,
      "outputs": [
        {
          "output_type": "stream",
          "name": "stdout",
          "text": [
            "4 7 3 2\n",
            "4 7 3 2 ['4', '7', '3', '2'] [4, 7, 3, 2]\n"
          ]
        }
      ]
    },
    {
      "cell_type": "code",
      "source": [
        "type(b[0])"
      ],
      "metadata": {
        "colab": {
          "base_uri": "https://localhost:8080/"
        },
        "id": "cfqYDG2zZkfv",
        "outputId": "135b723d-1da9-43f7-db3f-aff2bd6b3b55"
      },
      "execution_count": null,
      "outputs": [
        {
          "output_type": "execute_result",
          "data": {
            "text/plain": [
              "str"
            ]
          },
          "metadata": {},
          "execution_count": 19
        }
      ]
    },
    {
      "cell_type": "code",
      "source": [
        "type(ans[0])"
      ],
      "metadata": {
        "colab": {
          "base_uri": "https://localhost:8080/"
        },
        "id": "I1w4Py8cZ1kO",
        "outputId": "d21dc3c8-5609-4371-9131-dd83af208efa"
      },
      "execution_count": null,
      "outputs": [
        {
          "output_type": "execute_result",
          "data": {
            "text/plain": [
              "int"
            ]
          },
          "metadata": {},
          "execution_count": 20
        }
      ]
    },
    {
      "cell_type": "code",
      "source": [
        "'''\n",
        "Q3:\n",
        "\n",
        "Write a program, that takes list as input and creates another list having qubes of each of the element\n",
        "\n",
        "eg:\n",
        "ip: [3, 2, 4]\n",
        "op: [27, 8, 64]\n",
        "'''"
      ],
      "metadata": {
        "colab": {
          "base_uri": "https://localhost:8080/",
          "height": 53
        },
        "id": "ttdTdaNjZ4m2",
        "outputId": "b6c785aa-7a05-4705-f07c-ef192134af61"
      },
      "execution_count": null,
      "outputs": [
        {
          "output_type": "execute_result",
          "data": {
            "text/plain": [
              "'\\nQ3:\\n\\nWrite a program, that takes list as input and creates another list having qubes of each of the element\\n\\neg:\\nip: [3, 2, 4]\\nop: [27, 8, 64]\\n'"
            ],
            "application/vnd.google.colaboratory.intrinsic+json": {
              "type": "string"
            }
          },
          "metadata": {},
          "execution_count": 21
        }
      ]
    },
    {
      "cell_type": "code",
      "source": [
        "a = [3, 2, 4]\n",
        "\n",
        "b = []\n",
        "\n",
        "for elem in a:\n",
        "  b.append(elem**3)"
      ],
      "metadata": {
        "id": "flY6A513aMOX"
      },
      "execution_count": null,
      "outputs": []
    },
    {
      "cell_type": "code",
      "source": [
        "print(b)"
      ],
      "metadata": {
        "colab": {
          "base_uri": "https://localhost:8080/"
        },
        "id": "oYdk8bINafVm",
        "outputId": "ad21c494-5fab-46cf-f6f3-cb519947d1c8"
      },
      "execution_count": null,
      "outputs": [
        {
          "output_type": "stream",
          "name": "stdout",
          "text": [
            "[27, 8, 64]\n"
          ]
        }
      ]
    },
    {
      "cell_type": "code",
      "source": [
        "'''\n",
        "IMP - will cover more of split in strings class\n",
        "\n",
        "Q4:\n",
        "\n",
        "Write a program, that takes string as input and creates another list having qubes of each of the element\n",
        "\n",
        "eg:\n",
        "ip: \"3 2 4\"\n",
        "op: [27, 8, 64]\n",
        "'''"
      ],
      "metadata": {
        "id": "ADfyZd2faf-v"
      },
      "execution_count": null,
      "outputs": []
    },
    {
      "cell_type": "code",
      "source": [
        "s = input()\n",
        "\n",
        "b = s.split(\" \")\n",
        "\n",
        "ans = []\n",
        "\n",
        "for elem in b:\n",
        "  ans.append(int(elem)**3)"
      ],
      "metadata": {
        "colab": {
          "base_uri": "https://localhost:8080/"
        },
        "id": "bMdcgQInaoKR",
        "outputId": "9fecb52b-34f2-45d6-d049-4b2db646a548"
      },
      "execution_count": null,
      "outputs": [
        {
          "name": "stdout",
          "output_type": "stream",
          "text": [
            "3 2 4\n"
          ]
        }
      ]
    },
    {
      "cell_type": "code",
      "source": [
        "print(ans)"
      ],
      "metadata": {
        "colab": {
          "base_uri": "https://localhost:8080/"
        },
        "id": "qJI-uKLBbSgl",
        "outputId": "adc89dbc-fa5d-49ba-bb01-f9dfb1cad233"
      },
      "execution_count": null,
      "outputs": [
        {
          "output_type": "stream",
          "name": "stdout",
          "text": [
            "[27, 8, 64]\n"
          ]
        }
      ]
    },
    {
      "cell_type": "code",
      "source": [
        "'''\n",
        "list\n",
        "store\n",
        "access\n",
        "modify\n",
        "\n",
        "'''\n",
        "\n",
        "#store\n",
        "a = [2,4,7]"
      ],
      "metadata": {
        "id": "TZIv-jR8bWLa"
      },
      "execution_count": null,
      "outputs": []
    },
    {
      "cell_type": "code",
      "source": [
        "#access\n",
        "a [2]"
      ],
      "metadata": {
        "colab": {
          "base_uri": "https://localhost:8080/"
        },
        "id": "HmzFIyKIbpFf",
        "outputId": "a305ea8d-b036-4926-cbdc-733b2546326a"
      },
      "execution_count": null,
      "outputs": [
        {
          "output_type": "execute_result",
          "data": {
            "text/plain": [
              "7"
            ]
          },
          "metadata": {},
          "execution_count": 29
        }
      ]
    },
    {
      "cell_type": "code",
      "source": [
        "#modify\n",
        "a[2] = 9\n",
        "\n"
      ],
      "metadata": {
        "id": "4eZNs3vXbs9P"
      },
      "execution_count": null,
      "outputs": []
    },
    {
      "cell_type": "code",
      "source": [
        "print(a)"
      ],
      "metadata": {
        "colab": {
          "base_uri": "https://localhost:8080/"
        },
        "id": "3gULS6SEb0LM",
        "outputId": "2e41e52e-65e1-49f4-c295-309af240d64e"
      },
      "execution_count": null,
      "outputs": [
        {
          "output_type": "stream",
          "name": "stdout",
          "text": [
            "[2, 4, 9]\n"
          ]
        }
      ]
    },
    {
      "cell_type": "code",
      "source": [
        "'''\n",
        "Q5:\n",
        "\n",
        "'''\n",
        "\n",
        "a = [2, 5, 9]\n",
        "\n",
        "a[2] = a[2] + 1\n",
        "\n",
        "print(a)"
      ],
      "metadata": {
        "colab": {
          "base_uri": "https://localhost:8080/"
        },
        "id": "ISE7EVVtb5Vc",
        "outputId": "6c496cee-f532-430a-af6b-dd08cb34993e"
      },
      "execution_count": null,
      "outputs": [
        {
          "output_type": "stream",
          "name": "stdout",
          "text": [
            "[2, 5, 10]\n"
          ]
        }
      ]
    },
    {
      "cell_type": "code",
      "source": [
        "#Q6:\n",
        "\n",
        "a = [3, 5, 9]\n",
        "\n",
        "a[1] = a[1]+1\n",
        "a[2] = a[2] + 5\n",
        "\n",
        "print(a)"
      ],
      "metadata": {
        "colab": {
          "base_uri": "https://localhost:8080/"
        },
        "id": "RmolEB_fcKhZ",
        "outputId": "44d90b1c-6ea0-40c4-bd7e-00d93539e8a3"
      },
      "execution_count": null,
      "outputs": [
        {
          "output_type": "stream",
          "name": "stdout",
          "text": [
            "[3, 6, 14]\n"
          ]
        }
      ]
    },
    {
      "cell_type": "code",
      "source": [
        "#Q7:\n",
        "\n",
        "a = [1,6,8]\n",
        "\n",
        "a[1] = a[0]\n",
        "\n",
        "print(a)"
      ],
      "metadata": {
        "colab": {
          "base_uri": "https://localhost:8080/"
        },
        "id": "zOwMzSJQcc9T",
        "outputId": "fe436224-ccc4-4d04-9886-919c4daa0a17"
      },
      "execution_count": null,
      "outputs": [
        {
          "output_type": "stream",
          "name": "stdout",
          "text": [
            "[1, 1, 8]\n"
          ]
        }
      ]
    },
    {
      "cell_type": "code",
      "source": [
        "#IMP - this ability to modify itself without creating a copy - is called Mutability in Python\n",
        "\n",
        "#Lists are mutable"
      ],
      "metadata": {
        "id": "3WQ99aj_cqVQ"
      },
      "execution_count": null,
      "outputs": []
    },
    {
      "cell_type": "code",
      "source": [
        "'''\n",
        "Q8:\n",
        "\n",
        "Write a program to swap 1st two elements of the list\n",
        "\n",
        "ip: a = [2,5,7]\n",
        "op: [5, 2, 7]\n",
        "'''"
      ],
      "metadata": {
        "id": "pradHfWbc_7J"
      },
      "execution_count": null,
      "outputs": []
    },
    {
      "cell_type": "code",
      "source": [
        "a = [6, 2, 7]\n",
        "a[0] = 5\n",
        "a[1] = 2\n",
        "print(a)"
      ],
      "metadata": {
        "colab": {
          "base_uri": "https://localhost:8080/"
        },
        "id": "X9QRfrMydPA5",
        "outputId": "1584b62b-b821-4846-970d-0ac5e94f3248"
      },
      "execution_count": null,
      "outputs": [
        {
          "output_type": "stream",
          "name": "stdout",
          "text": [
            "[5, 2, 7]\n"
          ]
        }
      ]
    },
    {
      "cell_type": "code",
      "source": [
        "a = [5,3,7]\n",
        "\n",
        "a[0] = a[1]\n",
        "\n",
        "a[1] = a[0]\n",
        "\n",
        "\n",
        "print(a)\n",
        "\n",
        "# issue: a[0] got updated to a[1] and the original information got lost\n"
      ],
      "metadata": {
        "colab": {
          "base_uri": "https://localhost:8080/"
        },
        "id": "FlwRAPSreHhi",
        "outputId": "69cf2426-0225-41cd-aff8-63f7982b2f1b"
      },
      "execution_count": null,
      "outputs": [
        {
          "output_type": "stream",
          "name": "stdout",
          "text": [
            "[3, 3, 7]\n"
          ]
        }
      ]
    },
    {
      "cell_type": "code",
      "source": [
        "#soln1 - store it in some variable"
      ],
      "metadata": {
        "id": "Oij6iNqSeoR3"
      },
      "execution_count": null,
      "outputs": []
    },
    {
      "cell_type": "code",
      "source": [
        "a = [5,3,7]\n",
        "\n",
        "temp = a[0]\n",
        "a[0] = a[1]\n",
        "a[1] = temp\n",
        "\n",
        "print(a)\n"
      ],
      "metadata": {
        "colab": {
          "base_uri": "https://localhost:8080/"
        },
        "id": "pwsSV927fALy",
        "outputId": "fb983c6d-08f8-4755-8aa2-3443e33db06a"
      },
      "execution_count": null,
      "outputs": [
        {
          "output_type": "stream",
          "name": "stdout",
          "text": [
            "[3, 5, 7]\n"
          ]
        }
      ]
    },
    {
      "cell_type": "code",
      "source": [
        "#python - Multiple Assignements"
      ],
      "metadata": {
        "id": "aAbx6Sx_fHxJ"
      },
      "execution_count": null,
      "outputs": []
    },
    {
      "cell_type": "code",
      "source": [
        "a, b = 3, 4 #will teach this cool concept in Tuples class"
      ],
      "metadata": {
        "id": "QhsAq8XgfqYU"
      },
      "execution_count": null,
      "outputs": []
    },
    {
      "cell_type": "code",
      "source": [
        "print(a,b)"
      ],
      "metadata": {
        "colab": {
          "base_uri": "https://localhost:8080/"
        },
        "id": "UDTKei81fsBV",
        "outputId": "6a40778b-fc9e-400e-948e-e1dcf2f0a6f6"
      },
      "execution_count": null,
      "outputs": [
        {
          "output_type": "stream",
          "name": "stdout",
          "text": [
            "3 4\n"
          ]
        }
      ]
    },
    {
      "cell_type": "code",
      "source": [
        "a,b,c = 4,2,6\n",
        "\n",
        "print(a,b,c)"
      ],
      "metadata": {
        "colab": {
          "base_uri": "https://localhost:8080/"
        },
        "id": "8c4uSrmWftAu",
        "outputId": "f727cc22-e443-49d8-fc8b-f2cb7a1e3418"
      },
      "execution_count": null,
      "outputs": [
        {
          "output_type": "stream",
          "name": "stdout",
          "text": [
            "4 2 6\n"
          ]
        }
      ]
    },
    {
      "cell_type": "code",
      "source": [
        "#swapping using python cool concept - without using extra variable"
      ],
      "metadata": {
        "id": "tzw40tljf8mM"
      },
      "execution_count": null,
      "outputs": []
    },
    {
      "cell_type": "code",
      "source": [
        "a = 2\n",
        "b = 3\n",
        "\n",
        "print(\"Before swapping, a =\", a, \" b =\",b)\n",
        "\n",
        "a, b = b, a #unpacking\n",
        "\n",
        "\n",
        "print(\"After swapping, a =\", a, \" b =\",b)"
      ],
      "metadata": {
        "colab": {
          "base_uri": "https://localhost:8080/"
        },
        "id": "Qyv9eCSegBhA",
        "outputId": "d1d54447-99d4-4f0f-cec6-3f4c397d370d"
      },
      "execution_count": null,
      "outputs": [
        {
          "output_type": "stream",
          "name": "stdout",
          "text": [
            "Before swapping, a = 2  b = 3\n",
            "After swapping, a = 3  b = 2\n"
          ]
        }
      ]
    },
    {
      "cell_type": "code",
      "source": [
        "'''\n",
        "Q9:\n",
        "\n",
        "a = [2,4,6,8,10]\n",
        "\n",
        "Swap elements present at 2 and 4 index\n",
        "'''"
      ],
      "metadata": {
        "colab": {
          "base_uri": "https://localhost:8080/",
          "height": 35
        },
        "id": "e-nuQzSBgGSY",
        "outputId": "44e3d14a-6fdf-42d6-dbb8-732067a69e4a"
      },
      "execution_count": null,
      "outputs": [
        {
          "output_type": "execute_result",
          "data": {
            "text/plain": [
              "'\\nQ9:\\n\\na = [2,4,6,8,10]\\n\\nSwap elements present at 2 and 4 index\\n'"
            ],
            "application/vnd.google.colaboratory.intrinsic+json": {
              "type": "string"
            }
          },
          "metadata": {},
          "execution_count": 51
        }
      ]
    },
    {
      "cell_type": "code",
      "source": [
        "a = [2,4,6,8,10]\n",
        "\n",
        "a[2], a[4] = a[4], a[2]\n",
        "\n",
        "print(a)"
      ],
      "metadata": {
        "colab": {
          "base_uri": "https://localhost:8080/"
        },
        "id": "LBqWaS0JglUh",
        "outputId": "9cd7f265-5647-484f-d9eb-db1e146105e3"
      },
      "execution_count": null,
      "outputs": [
        {
          "output_type": "stream",
          "name": "stdout",
          "text": [
            "[2, 4, 10, 8, 6]\n"
          ]
        }
      ]
    },
    {
      "cell_type": "code",
      "source": [
        "'''\n",
        "Q10:\n",
        "This consists of most of the concepts covered.\n",
        "\n",
        "1. Everyone post only on DM\n",
        "2. Take your time- make sure you attempt it at the best of your ability\n",
        "Suggestion: take a pen and paper\n",
        "\n",
        "Tell me the ans after every line\n",
        "\n",
        "'''\n",
        "\n",
        "a = [1, 5, 2, 3]\n",
        "\n",
        "a.append(7)\n",
        "\n",
        "a.insert(0, 5)\n",
        "\n",
        "a[1] = a[2]\n",
        "\n",
        "a[2] , a[0] = a[0], a[2]\n",
        "\n",
        "print(a)"
      ],
      "metadata": {
        "id": "Wj1GHy_3hAeE"
      },
      "execution_count": null,
      "outputs": []
    },
    {
      "cell_type": "code",
      "source": [
        "a = [1, 5, 2, 3]"
      ],
      "metadata": {
        "id": "CQlHOQhgln4y"
      },
      "execution_count": null,
      "outputs": []
    },
    {
      "cell_type": "code",
      "source": [
        "a.append(7)"
      ],
      "metadata": {
        "id": "zfGtWfQXlprO"
      },
      "execution_count": null,
      "outputs": []
    },
    {
      "cell_type": "code",
      "source": [
        "print(a)"
      ],
      "metadata": {
        "colab": {
          "base_uri": "https://localhost:8080/"
        },
        "id": "L0h4tbsrlr5O",
        "outputId": "4ebf31da-7a45-43d8-fe1e-cc340247fd3e"
      },
      "execution_count": null,
      "outputs": [
        {
          "output_type": "stream",
          "name": "stdout",
          "text": [
            "[1, 5, 2, 3, 7]\n"
          ]
        }
      ]
    },
    {
      "cell_type": "code",
      "source": [
        "a.insert(0, 5) #0 --> index, 5 -- > value"
      ],
      "metadata": {
        "id": "dwbr-DW2ltMS"
      },
      "execution_count": null,
      "outputs": []
    },
    {
      "cell_type": "code",
      "source": [
        "print(a)"
      ],
      "metadata": {
        "colab": {
          "base_uri": "https://localhost:8080/"
        },
        "id": "pol-e4xHlyXF",
        "outputId": "2b1c0c70-42f6-4ee9-c721-bb500677f438"
      },
      "execution_count": null,
      "outputs": [
        {
          "output_type": "stream",
          "name": "stdout",
          "text": [
            "[5, 1, 5, 2, 3, 7]\n"
          ]
        }
      ]
    },
    {
      "cell_type": "code",
      "source": [
        "a[1] = a[2]"
      ],
      "metadata": {
        "id": "NQuMnbFxl1Ue"
      },
      "execution_count": null,
      "outputs": []
    },
    {
      "cell_type": "code",
      "source": [
        "print(a)"
      ],
      "metadata": {
        "colab": {
          "base_uri": "https://localhost:8080/"
        },
        "id": "1plgtGmjmEJW",
        "outputId": "38de12f8-963a-498d-998f-e00ec06e21e2"
      },
      "execution_count": null,
      "outputs": [
        {
          "output_type": "stream",
          "name": "stdout",
          "text": [
            "[5, 5, 5, 2, 3, 7]\n"
          ]
        }
      ]
    },
    {
      "cell_type": "code",
      "source": [
        "a[2] , a[0] = a[0], a[2]"
      ],
      "metadata": {
        "id": "f3iYc9eImFur"
      },
      "execution_count": null,
      "outputs": []
    },
    {
      "cell_type": "code",
      "source": [
        "print(a)"
      ],
      "metadata": {
        "colab": {
          "base_uri": "https://localhost:8080/"
        },
        "id": "soYHUa2smIyw",
        "outputId": "ddce253e-1433-4c0e-a68b-d94d1c076954"
      },
      "execution_count": null,
      "outputs": [
        {
          "output_type": "stream",
          "name": "stdout",
          "text": [
            "[5, 5, 5, 2, 3, 7]\n"
          ]
        }
      ]
    },
    {
      "cell_type": "code",
      "source": [
        "#Removing the data"
      ],
      "metadata": {
        "id": "vN_zOgipmKmg"
      },
      "execution_count": null,
      "outputs": []
    },
    {
      "cell_type": "code",
      "source": [
        "# 1. pop()\n",
        "# 2. remove()"
      ],
      "metadata": {
        "id": "VAu7JucqmZh_"
      },
      "execution_count": null,
      "outputs": []
    },
    {
      "cell_type": "code",
      "source": [
        "#pop() : by default, pops or removes the last element of the list and returns the value"
      ],
      "metadata": {
        "id": "tynzw8thmea9"
      },
      "execution_count": null,
      "outputs": []
    },
    {
      "cell_type": "code",
      "source": [
        "a = [4,7,2,1]\n",
        "\n",
        "b = a.pop()"
      ],
      "metadata": {
        "id": "JPdptNN-moa8"
      },
      "execution_count": null,
      "outputs": []
    },
    {
      "cell_type": "code",
      "source": [
        "print(b)"
      ],
      "metadata": {
        "colab": {
          "base_uri": "https://localhost:8080/"
        },
        "id": "1ojn_8cams7W",
        "outputId": "8db21381-c822-4d56-8507-de08d7eea8e0"
      },
      "execution_count": null,
      "outputs": [
        {
          "output_type": "stream",
          "name": "stdout",
          "text": [
            "1\n"
          ]
        }
      ]
    },
    {
      "cell_type": "code",
      "source": [
        "print(a)"
      ],
      "metadata": {
        "colab": {
          "base_uri": "https://localhost:8080/"
        },
        "id": "ETPkUNa1m35K",
        "outputId": "5718114b-5062-4632-b5fa-3da6b206e2d0"
      },
      "execution_count": null,
      "outputs": [
        {
          "output_type": "stream",
          "name": "stdout",
          "text": [
            "[4, 7, 2]\n"
          ]
        }
      ]
    },
    {
      "cell_type": "code",
      "source": [
        "#pop(i): removes and returns the element present at the ith index"
      ],
      "metadata": {
        "id": "3HLR3lGwm6g2"
      },
      "execution_count": null,
      "outputs": []
    },
    {
      "cell_type": "code",
      "source": [
        "a = [5,4,7,3,9,10]\n",
        "\n",
        "b = a.pop(4)"
      ],
      "metadata": {
        "id": "QtQXBMv4nGPz"
      },
      "execution_count": null,
      "outputs": []
    },
    {
      "cell_type": "code",
      "source": [
        "print(b)"
      ],
      "metadata": {
        "colab": {
          "base_uri": "https://localhost:8080/"
        },
        "id": "6h3mBtFVnLvh",
        "outputId": "8a4ccec7-aee1-4033-fd0b-a9c019185ac1"
      },
      "execution_count": null,
      "outputs": [
        {
          "output_type": "stream",
          "name": "stdout",
          "text": [
            "9\n"
          ]
        }
      ]
    },
    {
      "cell_type": "code",
      "source": [
        "print(a)"
      ],
      "metadata": {
        "colab": {
          "base_uri": "https://localhost:8080/"
        },
        "id": "rPYdKCGRnfyl",
        "outputId": "4e980a78-f185-438a-c8f2-784ae1a8a643"
      },
      "execution_count": null,
      "outputs": [
        {
          "output_type": "stream",
          "name": "stdout",
          "text": [
            "[5, 4, 7, 3, 10]\n"
          ]
        }
      ]
    },
    {
      "cell_type": "code",
      "source": [
        "#remove - removes an element based on the element provided\n",
        "\n",
        "#diff from pop(): as pop() uses index whereas remove uses element\n",
        "\n",
        "#remove(x): removes the FIRST occurance of the element x from the list\n",
        "\n",
        "# IMP: doest not return the removed value"
      ],
      "metadata": {
        "id": "U2xV8A7lnm8G"
      },
      "execution_count": null,
      "outputs": []
    },
    {
      "cell_type": "code",
      "source": [
        "a = [1, 4, 7, 2]\n",
        "\n",
        "a.remove(4)\n",
        "\n",
        "print(a)"
      ],
      "metadata": {
        "colab": {
          "base_uri": "https://localhost:8080/"
        },
        "id": "MHiTtxrLoEFY",
        "outputId": "d2449bfb-e58d-467c-f95b-56ec81d073cb"
      },
      "execution_count": null,
      "outputs": [
        {
          "output_type": "stream",
          "name": "stdout",
          "text": [
            "[1, 7, 2]\n"
          ]
        }
      ]
    },
    {
      "cell_type": "code",
      "source": [
        "a = [1, 4, 7, 4, 2]\n",
        "\n",
        "a.remove(4)\n",
        "\n",
        "print(a)"
      ],
      "metadata": {
        "colab": {
          "base_uri": "https://localhost:8080/"
        },
        "id": "BTtKvBqOoNp_",
        "outputId": "f44e0117-2e57-4253-f182-489d2b1f5c32"
      },
      "execution_count": null,
      "outputs": [
        {
          "output_type": "stream",
          "name": "stdout",
          "text": [
            "[1, 7, 4, 2]\n"
          ]
        }
      ]
    },
    {
      "cell_type": "code",
      "source": [
        "a = [1, 4, 7, 4, 2]\n",
        "\n",
        "a.pop(4)\n",
        "\n",
        "print(a)"
      ],
      "metadata": {
        "colab": {
          "base_uri": "https://localhost:8080/"
        },
        "id": "5LhobG50oUQE",
        "outputId": "5e5fc1e5-1243-466b-f8c7-9b9caa255c8a"
      },
      "execution_count": null,
      "outputs": [
        {
          "output_type": "stream",
          "name": "stdout",
          "text": [
            "[1, 4, 7, 4]\n"
          ]
        }
      ]
    },
    {
      "cell_type": "code",
      "source": [
        "a = [1, 4, 5, 5, 5, 5, 1]\n",
        "\n",
        "a.remove(5)\n",
        "\n",
        "print(a)"
      ],
      "metadata": {
        "colab": {
          "base_uri": "https://localhost:8080/"
        },
        "id": "cUfQPyxLooY5",
        "outputId": "79422a9b-1c63-4fa8-b4f1-61771747d887"
      },
      "execution_count": null,
      "outputs": [
        {
          "output_type": "stream",
          "name": "stdout",
          "text": [
            "[1, 4, 5, 5, 5, 1]\n"
          ]
        }
      ]
    },
    {
      "cell_type": "code",
      "source": [
        "a.remove(5)"
      ],
      "metadata": {
        "id": "ctikaoTxpArF"
      },
      "execution_count": null,
      "outputs": []
    },
    {
      "cell_type": "code",
      "source": [
        "print(a)"
      ],
      "metadata": {
        "colab": {
          "base_uri": "https://localhost:8080/"
        },
        "id": "PKiEU5yKpEb_",
        "outputId": "31dc20ca-8ee0-4367-82a8-ec58900cd5b0"
      },
      "execution_count": null,
      "outputs": [
        {
          "output_type": "stream",
          "name": "stdout",
          "text": [
            "[1, 4, 5, 5, 1]\n"
          ]
        }
      ]
    },
    {
      "cell_type": "code",
      "source": [
        "a = [1, 4, 5, 5, 5, 5, 1]\n",
        "\n",
        "x = a.remove(5)\n",
        "\n",
        "print(x)"
      ],
      "metadata": {
        "colab": {
          "base_uri": "https://localhost:8080/"
        },
        "id": "yTiXciXkpFVY",
        "outputId": "ac3e63a5-609c-45d9-8f97-232fa5c33b71"
      },
      "execution_count": null,
      "outputs": [
        {
          "output_type": "stream",
          "name": "stdout",
          "text": [
            "None\n"
          ]
        }
      ]
    },
    {
      "cell_type": "code",
      "source": [
        "a = [1, 4, 5, 5, 5, 5, 1]\n",
        "\n",
        "x = a.pop(5)\n",
        "\n",
        "print(x)"
      ],
      "metadata": {
        "colab": {
          "base_uri": "https://localhost:8080/"
        },
        "id": "ZHXnksCzpbDh",
        "outputId": "0013534b-470d-4d1e-8ad9-5f693c631afc"
      },
      "execution_count": null,
      "outputs": [
        {
          "output_type": "stream",
          "name": "stdout",
          "text": [
            "5\n"
          ]
        }
      ]
    },
    {
      "cell_type": "code",
      "source": [
        "'''\n",
        "Linear Search:\n",
        "\n",
        "Q:\n",
        "part1- Given a list of integers, print the index of the first occurance of an element x\n",
        "\n",
        "# will discuss this in next class, IMP: till then everything , think about it\n",
        "\n",
        "Part2 - extension: Print every index of occurance of the given element x\n",
        "\n",
        "eg: a = [1, 3, 4, 2, 5, 2]\n",
        "\n",
        "x = 2\n",
        "part1-\n",
        "Ans: 3\n",
        "\n",
        "Part2-\n",
        "3, 5\n",
        "'''"
      ],
      "metadata": {
        "id": "hlfkhBXHpiJE"
      },
      "execution_count": null,
      "outputs": []
    }
  ]
}