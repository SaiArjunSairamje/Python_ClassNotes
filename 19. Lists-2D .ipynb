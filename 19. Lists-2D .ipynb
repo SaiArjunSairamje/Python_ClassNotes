{
  "nbformat": 4,
  "nbformat_minor": 0,
  "metadata": {
    "colab": {
      "provenance": [],
      "include_colab_link": true
    },
    "kernelspec": {
      "name": "python3",
      "display_name": "Python 3"
    },
    "language_info": {
      "name": "python"
    }
  },
  "cells": [
    {
      "cell_type": "markdown",
      "metadata": {
        "id": "view-in-github",
        "colab_type": "text"
      },
      "source": [
        "<a href=\"https://colab.research.google.com/github/SaiArjunSairamje/Python_ClassNotes/blob/main/19.%20Lists-2D%20.ipynb\" target=\"_parent\"><img src=\"https://colab.research.google.com/assets/colab-badge.svg\" alt=\"Open In Colab\"/></a>"
      ]
    },
    {
      "cell_type": "code",
      "execution_count": null,
      "metadata": {
        "colab": {
          "base_uri": "https://localhost:8080/"
        },
        "id": "uoMAoxO-nFUD",
        "outputId": "b8f7a685-6d52-4d9c-cdd0-500de80f8570"
      },
      "outputs": [
        {
          "output_type": "stream",
          "name": "stdout",
          "text": [
            "Hows the josh??????\n"
          ]
        }
      ],
      "source": [
        "print(\"Hows the josh??????\")"
      ]
    },
    {
      "cell_type": "code",
      "source": [
        "a = [4, 3.5, \"AJ\", True]"
      ],
      "metadata": {
        "id": "mfZdIwyQp1Y7"
      },
      "execution_count": null,
      "outputs": []
    },
    {
      "cell_type": "code",
      "source": [
        "type(a)"
      ],
      "metadata": {
        "colab": {
          "base_uri": "https://localhost:8080/"
        },
        "id": "aazSHnFXqC5t",
        "outputId": "5d591f28-9588-4cbe-deee-c41b5eb963b5"
      },
      "execution_count": null,
      "outputs": [
        {
          "output_type": "execute_result",
          "data": {
            "text/plain": [
              "list"
            ]
          },
          "metadata": {},
          "execution_count": 3
        }
      ]
    },
    {
      "cell_type": "code",
      "source": [
        "a = [4, 5, [1,2,3]]"
      ],
      "metadata": {
        "id": "-HkD-niRqEO3"
      },
      "execution_count": null,
      "outputs": []
    },
    {
      "cell_type": "code",
      "source": [
        "len(a)"
      ],
      "metadata": {
        "colab": {
          "base_uri": "https://localhost:8080/"
        },
        "id": "zvmyCAceqlba",
        "outputId": "54520460-a18b-41ee-9478-f3c07a689f7c"
      },
      "execution_count": null,
      "outputs": [
        {
          "output_type": "execute_result",
          "data": {
            "text/plain": [
              "3"
            ]
          },
          "metadata": {},
          "execution_count": 5
        }
      ]
    },
    {
      "cell_type": "code",
      "source": [
        "a = [[1,2,3], [4,5,6], [7,8,9]]"
      ],
      "metadata": {
        "id": "4g7fQBwurq2x"
      },
      "execution_count": null,
      "outputs": []
    },
    {
      "cell_type": "code",
      "source": [
        "len(a)"
      ],
      "metadata": {
        "colab": {
          "base_uri": "https://localhost:8080/"
        },
        "id": "l4viNxCQruv6",
        "outputId": "75a48242-ac87-49ef-81dd-babe31599537"
      },
      "execution_count": null,
      "outputs": [
        {
          "output_type": "execute_result",
          "data": {
            "text/plain": [
              "3"
            ]
          },
          "metadata": {},
          "execution_count": 7
        }
      ]
    },
    {
      "cell_type": "code",
      "source": [
        "print(a[0])"
      ],
      "metadata": {
        "colab": {
          "base_uri": "https://localhost:8080/"
        },
        "id": "dRyEq8pQrxNt",
        "outputId": "2f31142f-fa49-4b96-e23b-418ab9cae3a9"
      },
      "execution_count": null,
      "outputs": [
        {
          "output_type": "stream",
          "name": "stdout",
          "text": [
            "[1, 2, 3]\n"
          ]
        }
      ]
    },
    {
      "cell_type": "code",
      "source": [
        "type(a[0])"
      ],
      "metadata": {
        "colab": {
          "base_uri": "https://localhost:8080/"
        },
        "id": "JYLVHF6Tr6rt",
        "outputId": "9abacafa-67a6-4a32-8479-f81fe9083156"
      },
      "execution_count": null,
      "outputs": [
        {
          "output_type": "execute_result",
          "data": {
            "text/plain": [
              "list"
            ]
          },
          "metadata": {},
          "execution_count": 9
        }
      ]
    },
    {
      "cell_type": "code",
      "source": [
        "print(a[1])"
      ],
      "metadata": {
        "colab": {
          "base_uri": "https://localhost:8080/"
        },
        "id": "_yaIYwIhr97D",
        "outputId": "a6b49863-3280-407e-be2a-d05c8a3ee31a"
      },
      "execution_count": null,
      "outputs": [
        {
          "output_type": "stream",
          "name": "stdout",
          "text": [
            "[4, 5, 6]\n"
          ]
        }
      ]
    },
    {
      "cell_type": "code",
      "source": [
        "print(a[2])"
      ],
      "metadata": {
        "colab": {
          "base_uri": "https://localhost:8080/"
        },
        "id": "XvyWQ7YZr_lf",
        "outputId": "ee0aaeb0-a32a-4e5b-a4b8-2100493ab5c7"
      },
      "execution_count": null,
      "outputs": [
        {
          "output_type": "stream",
          "name": "stdout",
          "text": [
            "[7, 8, 9]\n"
          ]
        }
      ]
    },
    {
      "cell_type": "code",
      "source": [
        "n = len(a)\n",
        "for i in range(n):\n",
        "  print(a[i])"
      ],
      "metadata": {
        "colab": {
          "base_uri": "https://localhost:8080/"
        },
        "id": "bUjSHPr2sAco",
        "outputId": "2e522b8f-e7b8-4a64-ee4c-ab1947d69aeb"
      },
      "execution_count": null,
      "outputs": [
        {
          "output_type": "stream",
          "name": "stdout",
          "text": [
            "[1, 2, 3]\n",
            "[4, 5, 6]\n",
            "[7, 8, 9]\n"
          ]
        }
      ]
    },
    {
      "cell_type": "code",
      "source": [
        "print(a[0][0])"
      ],
      "metadata": {
        "colab": {
          "base_uri": "https://localhost:8080/"
        },
        "id": "I_cLDe7UsHKX",
        "outputId": "abe57d1d-bf5f-44bb-e113-806788402498"
      },
      "execution_count": null,
      "outputs": [
        {
          "output_type": "stream",
          "name": "stdout",
          "text": [
            "1\n"
          ]
        }
      ]
    },
    {
      "cell_type": "code",
      "source": [
        "print(a[1][2])"
      ],
      "metadata": {
        "colab": {
          "base_uri": "https://localhost:8080/"
        },
        "id": "HLFBU-BItxYy",
        "outputId": "5d77b3af-30d1-407d-9f8d-2c59a322e46f"
      },
      "execution_count": null,
      "outputs": [
        {
          "output_type": "stream",
          "name": "stdout",
          "text": [
            "6\n"
          ]
        }
      ]
    },
    {
      "cell_type": "code",
      "source": [
        "rows = len(a)\n",
        "\n",
        "cols = len(a[1])"
      ],
      "metadata": {
        "id": "l-P2psWTt5nj"
      },
      "execution_count": null,
      "outputs": []
    },
    {
      "cell_type": "code",
      "source": [
        "print(rows, cols)"
      ],
      "metadata": {
        "colab": {
          "base_uri": "https://localhost:8080/"
        },
        "id": "KTihKoaZu0ad",
        "outputId": "8907833d-9f8d-423a-856c-fd264aa5f550"
      },
      "execution_count": null,
      "outputs": [
        {
          "output_type": "stream",
          "name": "stdout",
          "text": [
            "3 3\n"
          ]
        }
      ]
    },
    {
      "cell_type": "code",
      "source": [
        "b = [\n",
        "    [1,2,3],\n",
        "    [4,5,6]\n",
        "]"
      ],
      "metadata": {
        "id": "Al86o--IvDnA"
      },
      "execution_count": null,
      "outputs": []
    },
    {
      "cell_type": "code",
      "source": [
        "rows = len(b)\n",
        "\n",
        "cols = len(b[0])"
      ],
      "metadata": {
        "id": "9VbLZT4SvKCD"
      },
      "execution_count": null,
      "outputs": []
    },
    {
      "cell_type": "code",
      "source": [
        "print(rows, cols)"
      ],
      "metadata": {
        "colab": {
          "base_uri": "https://localhost:8080/"
        },
        "id": "EN4a6w9evM7f",
        "outputId": "61ba84af-58a2-47e5-f611-2bfd688b940b"
      },
      "execution_count": null,
      "outputs": [
        {
          "output_type": "stream",
          "name": "stdout",
          "text": [
            "2 3\n"
          ]
        }
      ]
    },
    {
      "cell_type": "code",
      "source": [
        "'''\n",
        "Q1-\n",
        "Given a matrix, print each number within it, separated by a space\n",
        "\n",
        "ip: [ [1,2,3], [4,5,6] ]\n",
        "op: 1 2 3 4 5 6\n",
        "'''"
      ],
      "metadata": {
        "id": "eL9OEjwevN5R"
      },
      "execution_count": null,
      "outputs": []
    },
    {
      "cell_type": "code",
      "source": [
        "a = [ [1,2,3],\n",
        "      [4,5,6] ]"
      ],
      "metadata": {
        "id": "wmvz0A3uwJV4"
      },
      "execution_count": null,
      "outputs": []
    },
    {
      "cell_type": "code",
      "source": [
        "#version1\n",
        "\n",
        "for i in range(2):\n",
        "  for j in range(3):\n",
        "    print(a[i][j], end = \" \")"
      ],
      "metadata": {
        "colab": {
          "base_uri": "https://localhost:8080/"
        },
        "id": "68-iUs9CwQR0",
        "outputId": "f50fbce6-e161-4452-e330-8e8119c31b1e"
      },
      "execution_count": null,
      "outputs": [
        {
          "output_type": "stream",
          "name": "stdout",
          "text": [
            "1 2 3 4 5 6 "
          ]
        }
      ]
    },
    {
      "cell_type": "code",
      "source": [
        "a = [ [1,2,3],\n",
        "      [4,5,6],\n",
        "      [7,8,9] ]"
      ],
      "metadata": {
        "id": "uIyV9ECpwhB8"
      },
      "execution_count": null,
      "outputs": []
    },
    {
      "cell_type": "code",
      "source": [
        "#version2\n",
        "\n",
        "rows = len(a)\n",
        "cols = len(a[0])\n",
        "\n",
        "for i in range(rows):\n",
        "  for j in range(cols):\n",
        "    print(a[i][j], end = \" \")"
      ],
      "metadata": {
        "colab": {
          "base_uri": "https://localhost:8080/"
        },
        "id": "yi2GMjBAwrGT",
        "outputId": "65bdf20e-b0d2-4389-a23d-ca35c979b951"
      },
      "execution_count": null,
      "outputs": [
        {
          "output_type": "stream",
          "name": "stdout",
          "text": [
            "1 2 3 4 5 6 7 8 9 "
          ]
        }
      ]
    },
    {
      "cell_type": "code",
      "source": [
        "#version3:\n",
        "\n",
        "for i in a:\n",
        "  print(i)"
      ],
      "metadata": {
        "colab": {
          "base_uri": "https://localhost:8080/"
        },
        "id": "rmmOkqxnw1dZ",
        "outputId": "32ee609d-9680-4f1a-b567-e9298b859fa8"
      },
      "execution_count": null,
      "outputs": [
        {
          "output_type": "stream",
          "name": "stdout",
          "text": [
            "[1, 2, 3]\n",
            "[4, 5, 6]\n",
            "[7, 8, 9]\n"
          ]
        }
      ]
    },
    {
      "cell_type": "code",
      "source": [
        "for row in a:\n",
        "  for elem in row:\n",
        "    print(elem, end = \" \")"
      ],
      "metadata": {
        "colab": {
          "base_uri": "https://localhost:8080/"
        },
        "id": "g0vE2B_KxEUi",
        "outputId": "3184f5d7-9624-4e5c-9c8f-b9a89f9f13c0"
      },
      "execution_count": null,
      "outputs": [
        {
          "output_type": "stream",
          "name": "stdout",
          "text": [
            "1 2 3 4 5 6 7 8 9 "
          ]
        }
      ]
    },
    {
      "cell_type": "code",
      "source": [
        "a = [12,3,5,6]"
      ],
      "metadata": {
        "id": "TXZhSBwuxOhD"
      },
      "execution_count": null,
      "outputs": []
    },
    {
      "cell_type": "code",
      "source": [
        "for elem in a:\n",
        "  print(elem)"
      ],
      "metadata": {
        "colab": {
          "base_uri": "https://localhost:8080/"
        },
        "id": "hdS2lkcBxU3V",
        "outputId": "7be9726a-671e-4a2b-a1b6-b4d96ec6c8c6"
      },
      "execution_count": null,
      "outputs": [
        {
          "output_type": "stream",
          "name": "stdout",
          "text": [
            "12\n",
            "3\n",
            "5\n",
            "6\n"
          ]
        }
      ]
    },
    {
      "cell_type": "code",
      "source": [
        "'''\n",
        "1 2 3 4 5 6 7 8 9\n",
        "\n",
        "op:\n",
        "1 2 3\n",
        "4 5 6\n",
        "7 8 9\n",
        "\n",
        "\n",
        "'''"
      ],
      "metadata": {
        "id": "RB5hB3g5xWPi"
      },
      "execution_count": null,
      "outputs": []
    },
    {
      "cell_type": "code",
      "source": [
        "a = [ [1,2,3],\n",
        "      [4,5,6],\n",
        "      [7,8,9] ]"
      ],
      "metadata": {
        "id": "Y60EAoPyyEWm"
      },
      "execution_count": null,
      "outputs": []
    },
    {
      "cell_type": "code",
      "source": [
        "#version 5:\n",
        "\n",
        "for row in a:\n",
        "  for elem in row:\n",
        "    print(elem, end = \" \")\n",
        "\n",
        "  print()"
      ],
      "metadata": {
        "colab": {
          "base_uri": "https://localhost:8080/"
        },
        "id": "laTQX7aex9GI",
        "outputId": "5267cf02-dce6-4a4c-bd6d-db761400aca8"
      },
      "execution_count": null,
      "outputs": [
        {
          "output_type": "stream",
          "name": "stdout",
          "text": [
            "1 2 3 \n",
            "4 5 6 \n",
            "7 8 9 \n"
          ]
        }
      ]
    },
    {
      "cell_type": "code",
      "source": [
        "'''\n",
        "Q2:\n",
        "Take a 3 x 3 matrix as input from the user\n",
        "\n",
        "'''"
      ],
      "metadata": {
        "id": "C14dxjzsyAwH"
      },
      "execution_count": null,
      "outputs": []
    },
    {
      "cell_type": "code",
      "source": [
        "matrix = []\n",
        "for i in range(3):\n",
        "  row = []\n",
        "  for j in range(3):\n",
        "   row.append(int(input()))\n",
        "\n",
        "  matrix.append(row)"
      ],
      "metadata": {
        "colab": {
          "base_uri": "https://localhost:8080/"
        },
        "id": "WfYSJAK4zRDi",
        "outputId": "021c486d-2c79-4d4e-f709-f460c06eb1c2"
      },
      "execution_count": null,
      "outputs": [
        {
          "name": "stdout",
          "output_type": "stream",
          "text": [
            "1\n",
            "2\n",
            "3\n",
            "4\n",
            "5\n",
            "6\n",
            "7\n",
            "8\n",
            "9\n"
          ]
        }
      ]
    },
    {
      "cell_type": "code",
      "source": [
        "print(matrix)"
      ],
      "metadata": {
        "colab": {
          "base_uri": "https://localhost:8080/"
        },
        "id": "WLr8B-SVztLV",
        "outputId": "a58d96e8-3108-4a22-8c58-38acecb1f116"
      },
      "execution_count": null,
      "outputs": [
        {
          "output_type": "stream",
          "name": "stdout",
          "text": [
            "[[1, 2, 3], [4, 5, 6], [7, 8, 9]]\n"
          ]
        }
      ]
    },
    {
      "cell_type": "code",
      "source": [
        "'''\n",
        "Q3:\n",
        "In the similar way as above, please write a code that takes a 2 x 3 matrix as input\n",
        "'''"
      ],
      "metadata": {
        "id": "sqTPCgKIzxja"
      },
      "execution_count": null,
      "outputs": []
    },
    {
      "cell_type": "code",
      "source": [
        "matrix = []\n",
        "\n",
        "for i in range(2):\n",
        "  row = []\n",
        "  for j in range(3):\n",
        "    elem = int(input())\n",
        "    row.append(elem)\n",
        "\n",
        "  matrix.append(row)"
      ],
      "metadata": {
        "colab": {
          "base_uri": "https://localhost:8080/"
        },
        "id": "AkUt9IBZ0xGZ",
        "outputId": "8f68a710-5fe7-414f-e2e4-8931dc94b6ca"
      },
      "execution_count": null,
      "outputs": [
        {
          "name": "stdout",
          "output_type": "stream",
          "text": [
            "1\n",
            "2\n",
            "3\n",
            "4\n",
            "5\n",
            "6\n"
          ]
        }
      ]
    },
    {
      "cell_type": "code",
      "source": [
        "print(matrix)"
      ],
      "metadata": {
        "colab": {
          "base_uri": "https://localhost:8080/"
        },
        "id": "mjMlOZKj0_da",
        "outputId": "644a7d15-e625-4289-8f0f-f8d2982559a2"
      },
      "execution_count": null,
      "outputs": [
        {
          "output_type": "stream",
          "name": "stdout",
          "text": [
            "[[1, 2, 3], [4, 5, 6]]\n"
          ]
        }
      ]
    },
    {
      "cell_type": "code",
      "source": [
        "'''\n",
        "Q4:\n",
        "Given a 3x3 matrix as input\n",
        "1. Calculate the sum of all the elements in the matrix\n",
        "2. Calculate the sum of each row  - eg: row_sum = [6, 15 24]\n",
        "3. Calculate the sum of each col - HW col_sum = [12, 15, 18]\n",
        "'''\n",
        "\n",
        "a = [ [1,2,3],\n",
        "      [4,5,6],\n",
        "      [7,8,9] ]"
      ],
      "metadata": {
        "id": "Oz6jBWPw1Crl"
      },
      "execution_count": null,
      "outputs": []
    },
    {
      "cell_type": "code",
      "source": [
        "\n"
      ],
      "metadata": {
        "id": "5RC5ivD64V4Q"
      },
      "execution_count": null,
      "outputs": []
    },
    {
      "cell_type": "code",
      "source": [
        "\n",
        "#version1\n",
        "sum = 0\n",
        "\n",
        "for row in a:\n",
        "  for elem in row:\n",
        "    sum += elem\n",
        "\n",
        "print(sum)"
      ],
      "metadata": {
        "colab": {
          "base_uri": "https://localhost:8080/"
        },
        "id": "t5Id36C04oYf",
        "outputId": "80289a12-2e05-4662-831a-949ca33b8da6"
      },
      "execution_count": null,
      "outputs": [
        {
          "output_type": "stream",
          "name": "stdout",
          "text": [
            "45\n"
          ]
        }
      ]
    },
    {
      "cell_type": "code",
      "source": [
        "#version2\n",
        "\n",
        "rows = len(a)\n",
        "cols = len(a[0])\n",
        "sum = 0\n",
        "\n",
        "for i in range(rows):\n",
        "  for j in range(cols):\n",
        "    sum += a[i][j]\n",
        "\n",
        "print(sum)"
      ],
      "metadata": {
        "colab": {
          "base_uri": "https://localhost:8080/"
        },
        "id": "hUbrasOx5W_U",
        "outputId": "ae839463-580b-4cfc-92e4-a0d1363d1c9f"
      },
      "execution_count": null,
      "outputs": [
        {
          "output_type": "stream",
          "name": "stdout",
          "text": [
            "45\n"
          ]
        }
      ]
    },
    {
      "cell_type": "code",
      "source": [
        "#soln to row sum\n",
        "\n",
        "row_sum = []\n",
        "\n",
        "for row in a:\n",
        "  sum = 0\n",
        "  for elem in row:\n",
        "    sum += elem\n",
        "\n",
        "  row_sum.append(sum)\n",
        "\n",
        "print(row_sum)"
      ],
      "metadata": {
        "colab": {
          "base_uri": "https://localhost:8080/"
        },
        "id": "OH3NlQ9z5nbe",
        "outputId": "b3f09862-4d33-48e2-dbbe-485ee2afa2d4"
      },
      "execution_count": null,
      "outputs": [
        {
          "output_type": "stream",
          "name": "stdout",
          "text": [
            "[6, 15, 24]\n"
          ]
        }
      ]
    },
    {
      "cell_type": "code",
      "source": [
        "'''\n",
        "Rotate a list by 1 element\n",
        "\n",
        "input: [1, 2, 3, 4, 5] --> last element should come at the first position\n",
        "output: [5, 1, 2, 3, 4]\n",
        "'''"
      ],
      "metadata": {
        "id": "7ILlWjqc6ky6"
      },
      "execution_count": null,
      "outputs": []
    },
    {
      "cell_type": "code",
      "source": [
        "#version1\n",
        "a = [1, 2, 3, 4, 5]\n",
        "\n",
        "\n",
        "last_elem = a[-1]\n",
        "remaining_list = a[:-1]\n",
        "\n",
        "ans = [last_elem] + remaining_list\n",
        "print(ans)"
      ],
      "metadata": {
        "colab": {
          "base_uri": "https://localhost:8080/"
        },
        "id": "tY1ZzRHV88ch",
        "outputId": "269d9d24-0b93-4ed8-b454-b197cfcb2eb7"
      },
      "execution_count": null,
      "outputs": [
        {
          "output_type": "stream",
          "name": "stdout",
          "text": [
            "[5, 1, 2, 3, 4]\n"
          ]
        }
      ]
    },
    {
      "cell_type": "code",
      "source": [
        "#version2 - without creating a new list- you have modified the original list\n",
        "\n",
        "last_elem = a.pop()\n",
        "a.insert(0,last_elem)\n",
        "\n",
        "print(a)"
      ],
      "metadata": {
        "colab": {
          "base_uri": "https://localhost:8080/"
        },
        "id": "IDBDTQwD89Te",
        "outputId": "f0e51a3e-3e9b-4b9c-e031-54bef78e6502"
      },
      "execution_count": null,
      "outputs": [
        {
          "output_type": "stream",
          "name": "stdout",
          "text": [
            "[5, 1, 2, 3, 4]\n"
          ]
        }
      ]
    },
    {
      "cell_type": "code",
      "source": [
        "dir(list)"
      ],
      "metadata": {
        "colab": {
          "base_uri": "https://localhost:8080/"
        },
        "id": "Uzw-6Scv9jFs",
        "outputId": "fd8412d8-7567-4997-bb0a-e13c975f0e0c"
      },
      "execution_count": null,
      "outputs": [
        {
          "output_type": "execute_result",
          "data": {
            "text/plain": [
              "['__add__',\n",
              " '__class__',\n",
              " '__contains__',\n",
              " '__delattr__',\n",
              " '__delitem__',\n",
              " '__dir__',\n",
              " '__doc__',\n",
              " '__eq__',\n",
              " '__format__',\n",
              " '__ge__',\n",
              " '__getattribute__',\n",
              " '__getitem__',\n",
              " '__gt__',\n",
              " '__hash__',\n",
              " '__iadd__',\n",
              " '__imul__',\n",
              " '__init__',\n",
              " '__init_subclass__',\n",
              " '__iter__',\n",
              " '__le__',\n",
              " '__len__',\n",
              " '__lt__',\n",
              " '__mul__',\n",
              " '__ne__',\n",
              " '__new__',\n",
              " '__reduce__',\n",
              " '__reduce_ex__',\n",
              " '__repr__',\n",
              " '__reversed__',\n",
              " '__rmul__',\n",
              " '__setattr__',\n",
              " '__setitem__',\n",
              " '__sizeof__',\n",
              " '__str__',\n",
              " '__subclasshook__',\n",
              " 'append',\n",
              " 'clear',\n",
              " 'copy',\n",
              " 'count',\n",
              " 'extend',\n",
              " 'index',\n",
              " 'insert',\n",
              " 'pop',\n",
              " 'remove',\n",
              " 'reverse',\n",
              " 'sort']"
            ]
          },
          "metadata": {},
          "execution_count": 53
        }
      ]
    },
    {
      "cell_type": "code",
      "source": [
        "1- count()\n",
        "2- index()"
      ],
      "metadata": {
        "id": "c-G2b4fU-F86"
      },
      "execution_count": null,
      "outputs": []
    },
    {
      "cell_type": "code",
      "source": [
        "# count(elem) --> returns the frequency/count of the element present in the list"
      ],
      "metadata": {
        "id": "HcPlUvQu-hff"
      },
      "execution_count": null,
      "outputs": []
    },
    {
      "cell_type": "code",
      "source": [
        "a = [4,1,2,5,4,3,7,8,4,1]"
      ],
      "metadata": {
        "id": "HwQcOEQj-nP3"
      },
      "execution_count": null,
      "outputs": []
    },
    {
      "cell_type": "code",
      "source": [
        "freq_4 = a.count(4)"
      ],
      "metadata": {
        "id": "XGL4WBF0-toK"
      },
      "execution_count": null,
      "outputs": []
    },
    {
      "cell_type": "code",
      "source": [
        "print(freq_4)"
      ],
      "metadata": {
        "colab": {
          "base_uri": "https://localhost:8080/"
        },
        "id": "6NYPusn0-wQA",
        "outputId": "01eb2ae3-8bff-4808-83d5-c842f4b55b80"
      },
      "execution_count": null,
      "outputs": [
        {
          "output_type": "stream",
          "name": "stdout",
          "text": [
            "3\n"
          ]
        }
      ]
    },
    {
      "cell_type": "code",
      "source": [
        "print(a.count(1))"
      ],
      "metadata": {
        "colab": {
          "base_uri": "https://localhost:8080/"
        },
        "id": "ef7hYzl2-xlY",
        "outputId": "b3bc9072-c26e-4822-ca11-03142e326ee6"
      },
      "execution_count": null,
      "outputs": [
        {
          "output_type": "stream",
          "name": "stdout",
          "text": [
            "2\n"
          ]
        }
      ]
    },
    {
      "cell_type": "code",
      "source": [
        "print(a.count(100))"
      ],
      "metadata": {
        "colab": {
          "base_uri": "https://localhost:8080/"
        },
        "id": "kedoEcSn-5Cv",
        "outputId": "c5b15325-5647-440d-d265-1481bdef6c9c"
      },
      "execution_count": null,
      "outputs": [
        {
          "output_type": "stream",
          "name": "stdout",
          "text": [
            "0\n"
          ]
        }
      ]
    },
    {
      "cell_type": "code",
      "source": [
        "#index(elem)--> retunrs the index of FIRST occurance of the element elem"
      ],
      "metadata": {
        "id": "YbyHMNU_-9kj"
      },
      "execution_count": null,
      "outputs": []
    },
    {
      "cell_type": "code",
      "source": [
        "a = [1,2,4,3,5,4]"
      ],
      "metadata": {
        "id": "TDv7Rnjf_IKS"
      },
      "execution_count": null,
      "outputs": []
    },
    {
      "cell_type": "code",
      "source": [
        "print(a.count(4))"
      ],
      "metadata": {
        "colab": {
          "base_uri": "https://localhost:8080/"
        },
        "id": "uFpkt5G8_LnN",
        "outputId": "da602612-2f54-44c0-a388-f38548b6b481"
      },
      "execution_count": null,
      "outputs": [
        {
          "output_type": "stream",
          "name": "stdout",
          "text": [
            "2\n"
          ]
        }
      ]
    },
    {
      "cell_type": "code",
      "source": [
        "print(a.index(4))"
      ],
      "metadata": {
        "colab": {
          "base_uri": "https://localhost:8080/"
        },
        "id": "wIytiz6c_M41",
        "outputId": "3b2101a9-bf11-41da-df51-236a7267a5fc"
      },
      "execution_count": null,
      "outputs": [
        {
          "output_type": "stream",
          "name": "stdout",
          "text": [
            "2\n"
          ]
        }
      ]
    },
    {
      "cell_type": "code",
      "source": [
        "print(a.index(2))"
      ],
      "metadata": {
        "colab": {
          "base_uri": "https://localhost:8080/"
        },
        "id": "eQ8hzoTm_PyO",
        "outputId": "bff201ab-f250-4c51-9492-814089716f96"
      },
      "execution_count": null,
      "outputs": [
        {
          "output_type": "stream",
          "name": "stdout",
          "text": [
            "1\n"
          ]
        }
      ]
    },
    {
      "cell_type": "code",
      "source": [
        "'''\n",
        "Q6:\n",
        "\n",
        "Given a list and an element x, find the index of 2nd occurance of x\n",
        "\n",
        "a = [1,4,3,2,4,5]\n",
        "x = 4\n",
        "\n",
        "op:  4\n",
        "'''"
      ],
      "metadata": {
        "colab": {
          "base_uri": "https://localhost:8080/",
          "height": 35
        },
        "id": "EUUxxL61_bks",
        "outputId": "01fcd87d-79c4-46bb-cf90-5854fb1d9486"
      },
      "execution_count": null,
      "outputs": [
        {
          "output_type": "execute_result",
          "data": {
            "text/plain": [
              "'\\nQ6:\\n\\nGiven a list and an element x, find the index of 2nd occurance of x\\n\\na = [1,4,3,2,4,5] \\nx = 4\\n\\nop:  4\\n'"
            ],
            "application/vnd.google.colaboratory.intrinsic+json": {
              "type": "string"
            }
          },
          "metadata": {},
          "execution_count": 66
        }
      ]
    },
    {
      "cell_type": "code",
      "source": [
        "a = [1, 4, 3, 2, 4 ,5]\n",
        "x = 4\n",
        "\n",
        "first_occur = a.index(x)"
      ],
      "metadata": {
        "id": "WI40wpY7BJmc"
      },
      "execution_count": null,
      "outputs": []
    },
    {
      "cell_type": "code",
      "source": [
        "print(first_occur)"
      ],
      "metadata": {
        "colab": {
          "base_uri": "https://localhost:8080/"
        },
        "id": "t2ZzTCnmBQJn",
        "outputId": "982d8acc-189a-4c91-acb0-697dfa8eead4"
      },
      "execution_count": null,
      "outputs": [
        {
          "output_type": "stream",
          "name": "stdout",
          "text": [
            "1\n"
          ]
        }
      ]
    },
    {
      "cell_type": "code",
      "source": [
        "remaining_a = a[first_occur+1:]\n",
        "\n",
        "second_occr = remaining_a.index(x)\n",
        "print(second_occr)"
      ],
      "metadata": {
        "colab": {
          "base_uri": "https://localhost:8080/"
        },
        "id": "zQgGBlqiBRwh",
        "outputId": "47077752-a436-4d02-9fa7-ce2759032f38"
      },
      "execution_count": null,
      "outputs": [
        {
          "output_type": "stream",
          "name": "stdout",
          "text": [
            "2\n"
          ]
        }
      ]
    },
    {
      "cell_type": "code",
      "source": [
        "ans = first_occur+1 + second_occr\n",
        "print(ans)"
      ],
      "metadata": {
        "colab": {
          "base_uri": "https://localhost:8080/"
        },
        "id": "zTuzPMQ_Bq5f",
        "outputId": "6ea2c388-d1b5-41a4-b07f-3c5966b8bfc2"
      },
      "execution_count": null,
      "outputs": [
        {
          "output_type": "stream",
          "name": "stdout",
          "text": [
            "4\n"
          ]
        }
      ]
    },
    {
      "cell_type": "code",
      "source": [],
      "metadata": {
        "id": "VTZUmnRuB-e_"
      },
      "execution_count": null,
      "outputs": []
    }
  ]
}