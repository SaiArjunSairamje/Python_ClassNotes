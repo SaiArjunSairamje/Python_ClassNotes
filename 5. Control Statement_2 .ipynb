{
  "nbformat": 4,
  "nbformat_minor": 0,
  "metadata": {
    "colab": {
      "provenance": [],
      "include_colab_link": true
    },
    "kernelspec": {
      "name": "python3",
      "display_name": "Python 3"
    },
    "language_info": {
      "name": "python"
    }
  },
  "cells": [
    {
      "cell_type": "markdown",
      "metadata": {
        "id": "view-in-github",
        "colab_type": "text"
      },
      "source": [
        "<a href=\"https://colab.research.google.com/github/SaiArjunSairamje/Python_ClassNotes/blob/main/5.%20Control%20Statement_2%20.ipynb\" target=\"_parent\"><img src=\"https://colab.research.google.com/assets/colab-badge.svg\" alt=\"Open In Colab\"/></a>"
      ]
    },
    {
      "cell_type": "markdown",
      "source": [
        "## **Content**\n",
        "\n",
        "* Practice **Q's** on **Control Statment** topic."
      ],
      "metadata": {
        "id": "pRtbIepgKWcX"
      }
    },
    {
      "cell_type": "code",
      "execution_count": null,
      "metadata": {
        "colab": {
          "base_uri": "https://localhost:8080/"
        },
        "id": "XHDQ9RBAzV7_",
        "outputId": "5e4e111b-32d3-4589-90c4-d0915453ad7a"
      },
      "outputs": [
        {
          "output_type": "stream",
          "name": "stdout",
          "text": [
            "Hello everyone!\n"
          ]
        }
      ],
      "source": [
        "print(\"Hello everyone!\")"
      ]
    },
    {
      "cell_type": "code",
      "source": [
        "#always gets executed\n",
        "\n",
        "if condition:\n",
        "  # executes only when condition is True\n",
        "else:\n",
        "  #executes only when condition is Flase\n",
        "\n",
        "#always gets executed"
      ],
      "metadata": {
        "id": "wg9tcUm6zrYH"
      },
      "execution_count": null,
      "outputs": []
    },
    {
      "cell_type": "code",
      "source": [
        "'''\n",
        "Q1 - Taken an integer as input from the user and print whether it is \"positive\" or \"negative\".\n",
        "'''"
      ],
      "metadata": {
        "id": "QN38N3zr2d3U"
      },
      "execution_count": null,
      "outputs": []
    },
    {
      "cell_type": "code",
      "source": [
        "n = int(input())\n",
        "\n",
        "if n>=0:\n",
        "  print(\"positive\")\n",
        "else:\n",
        "  print(\"negative\")"
      ],
      "metadata": {
        "id": "j-GudP4N2toO"
      },
      "execution_count": null,
      "outputs": []
    },
    {
      "cell_type": "code",
      "source": [
        "'''\n",
        "Q2 - Taken an integer as input from the user and print whether it is \"zero\" or \"positive\" or \"negative\".\n",
        "'''"
      ],
      "metadata": {
        "colab": {
          "base_uri": "https://localhost:8080/",
          "height": 35
        },
        "id": "XOywVpCH31TN",
        "outputId": "c7afd455-f445-416c-a775-6db00157d1ae"
      },
      "execution_count": null,
      "outputs": [
        {
          "output_type": "execute_result",
          "data": {
            "text/plain": [
              "'\\nQ2 - Taken an integer as input from the user and print whether it is \"zero\" or \"positive\" or \"negative\".\\n'"
            ],
            "application/vnd.google.colaboratory.intrinsic+json": {
              "type": "string"
            }
          },
          "metadata": {},
          "execution_count": 2
        }
      ]
    },
    {
      "cell_type": "code",
      "source": [
        "n = int(input())\n",
        "\n",
        "if n==0:\n",
        "  print(\"zero\")\n",
        "elif n>0:\n",
        "  print(\"positive\")\n",
        "else:\n",
        "  print(\"negative\")"
      ],
      "metadata": {
        "colab": {
          "base_uri": "https://localhost:8080/"
        },
        "id": "sDzEGLJ64TNk",
        "outputId": "537114f0-531d-4945-a7d7-3a17b6b4536c"
      },
      "execution_count": null,
      "outputs": [
        {
          "output_type": "stream",
          "name": "stdout",
          "text": [
            "0\n",
            "zero\n"
          ]
        }
      ]
    },
    {
      "cell_type": "code",
      "source": [
        "'''\n",
        "Q3:\n",
        "\n",
        "Take a non-negative single digit number as input.\n",
        "if (n**5)%40 is >15, then print \"Black\" else print \"Blue\".\n",
        "\n",
        "Note: If input is not a non-negative single digit, print \"Invalid input\"\n",
        "'''"
      ],
      "metadata": {
        "id": "626DzI8o5hGn"
      },
      "execution_count": null,
      "outputs": []
    },
    {
      "cell_type": "code",
      "source": [
        "#version1\n",
        "n = int(input())\n",
        "\n",
        "\n",
        "if n>=0 and n<10:\n",
        "  #do something\n",
        "  if (n**5)%40 > 15:\n",
        "    print(\"Black\")\n",
        "  else:\n",
        "    print(\"Blue\")\n",
        "else:\n",
        "  print(\"Invalid input\")"
      ],
      "metadata": {
        "id": "GjEe0xnh8S_2"
      },
      "execution_count": null,
      "outputs": []
    },
    {
      "cell_type": "code",
      "source": [
        "#version2 - elif\n",
        "\n",
        "n = int(input())\n",
        "\n",
        "if not(n>=0 and n<10):\n",
        "  print(\"Invalid input\")\n",
        "elif (n**5)%40 > 15:\n",
        "  print(\"Black\")\n",
        "else:\n",
        "  print(\"Blue\")"
      ],
      "metadata": {
        "colab": {
          "base_uri": "https://localhost:8080/"
        },
        "id": "nc8H39QX9mnj",
        "outputId": "5f8f64e4-00d1-4b57-d47f-a550f66af1d0"
      },
      "execution_count": null,
      "outputs": [
        {
          "output_type": "stream",
          "name": "stdout",
          "text": [
            "15\n",
            "Invalid input\n"
          ]
        }
      ]
    },
    {
      "cell_type": "code",
      "source": [
        "n = -1\n",
        "\n",
        "not(n>=0 and n<10)"
      ],
      "metadata": {
        "colab": {
          "base_uri": "https://localhost:8080/"
        },
        "id": "oPze4T-t-f60",
        "outputId": "6717024e-8ae0-4452-a849-9072bcc120d9"
      },
      "execution_count": null,
      "outputs": [
        {
          "output_type": "execute_result",
          "data": {
            "text/plain": [
              "True"
            ]
          },
          "metadata": {},
          "execution_count": 6
        }
      ]
    },
    {
      "cell_type": "code",
      "source": [
        "n = 13\n",
        "\n",
        "not(n>=0 and n<10)"
      ],
      "metadata": {
        "colab": {
          "base_uri": "https://localhost:8080/"
        },
        "id": "2lq3kzNy-lpV",
        "outputId": "653f0aba-30ff-4bd8-ce27-5c17316fea8b"
      },
      "execution_count": null,
      "outputs": [
        {
          "output_type": "execute_result",
          "data": {
            "text/plain": [
              "True"
            ]
          },
          "metadata": {},
          "execution_count": 7
        }
      ]
    },
    {
      "cell_type": "code",
      "source": [
        "n = 6\n",
        "\n",
        "not(n>=0 and n<10)"
      ],
      "metadata": {
        "id": "72uvRbXU-4gK"
      },
      "execution_count": null,
      "outputs": []
    },
    {
      "cell_type": "code",
      "source": [
        "#version3 - without using and - extra concept - nothing new\n",
        "\n",
        "n = int(input())\n",
        "\n",
        "if not(0 <= n < 10):\n",
        "  print(\"Invalid input\")\n",
        "elif (n**5)%40 > 15:\n",
        "  print(\"Black\")\n",
        "else:\n",
        "  print(\"Blue\")"
      ],
      "metadata": {
        "colab": {
          "base_uri": "https://localhost:8080/"
        },
        "id": "PHT4Lnla_bn6",
        "outputId": "0cb4ec66-877a-4fd2-fd34-726da36413dd"
      },
      "execution_count": null,
      "outputs": [
        {
          "output_type": "stream",
          "name": "stdout",
          "text": [
            "14\n",
            "Invalid input\n"
          ]
        }
      ]
    },
    {
      "cell_type": "code",
      "source": [
        "'''\n",
        "Q4: Feedback system:\n",
        "\n",
        "Take a string feedback from a user.\n",
        "If the feedback is empty, print(\"Please provide feedback next time\")\n",
        "\n",
        "If feedback is any of \"Super\", \"Great\", \"Awesome\", then print (\"Thanks a lot!\")\n",
        "'''"
      ],
      "metadata": {
        "id": "lbyOqouH_1tQ"
      },
      "execution_count": null,
      "outputs": []
    },
    {
      "cell_type": "code",
      "source": [
        "#incorrect\n",
        "feedback = input()\n",
        "\n",
        "if feedback ==\"\":\n",
        "  print(\"Please provide feedback next time\")\n",
        "else:\n",
        "  print(\"Thanks a lot!\")\n"
      ],
      "metadata": {
        "colab": {
          "base_uri": "https://localhost:8080/"
        },
        "id": "TiaxXq50BrT3",
        "outputId": "eecbcf26-122f-4d74-d559-d8757a6cbe74"
      },
      "execution_count": null,
      "outputs": [
        {
          "output_type": "stream",
          "name": "stdout",
          "text": [
            "hi\n",
            "Thanks a lot!\n"
          ]
        }
      ]
    },
    {
      "cell_type": "code",
      "source": [
        "feedback = input()\n",
        "\n",
        "if feedback ==\"\":\n",
        "  print(\"Please provide feedback next time\")\n",
        "elif feedback == \"Super\" or feedback == \"Great\" or feedback == \"Awesome\":\n",
        "  print(\"Thanks a lot!\")\n",
        "\n",
        "#else is NOT mandatory in your code\n",
        "\n",
        "#Can else exists without if? - NOT at all\n",
        "#Can if exists without else?"
      ],
      "metadata": {
        "colab": {
          "base_uri": "https://localhost:8080/"
        },
        "id": "yQdJ9ogdB91G",
        "outputId": "4156f1f0-1e2e-4fc6-bd57-4c838e0dc8d5"
      },
      "execution_count": null,
      "outputs": [
        {
          "output_type": "stream",
          "name": "stdout",
          "text": [
            "\n",
            "Please provide feedback next time\n"
          ]
        }
      ]
    },
    {
      "cell_type": "code",
      "source": [
        "if n==10:\n",
        "  print(\"10\")"
      ],
      "metadata": {
        "id": "csSi6xvSCqsN"
      },
      "execution_count": null,
      "outputs": []
    },
    {
      "cell_type": "code",
      "source": [
        "10:08 --> 10:18"
      ],
      "metadata": {
        "id": "c2BNnLzTDtMV"
      },
      "execution_count": null,
      "outputs": []
    },
    {
      "cell_type": "code",
      "source": [],
      "metadata": {
        "id": "pSNfMQ7_GDQC"
      },
      "execution_count": null,
      "outputs": []
    },
    {
      "cell_type": "markdown",
      "source": [
        "Q5:\n",
        "Take three inputs from a user which are marks in science, english maths.\n",
        "Assign the stream according to the following criteria (Bad process : - ):\n",
        "\n",
        "1. If marks in science > 90 or marks in all 3 subjects are greater than or equal to 75 - print \"science\"\n",
        "\n",
        "2. if marks in all 3 subjects are greater than or equal to 60 and less than 75 -- print \"commerce\"\n",
        "\n",
        "3. if marks in all 3 subjects are less than 60 -- print \"humanities\"\n",
        "\n",
        "Note:\n",
        "\n",
        "All --> consider individual subjects\n",
        "\n",
        "Learnings:\n",
        "1. Understanding the question is 50% of the problem solved.\n",
        "\n",
        "2. Patiently reading the question"
      ],
      "metadata": {
        "id": "JlI9mlVQGPvM"
      }
    },
    {
      "cell_type": "code",
      "source": [
        "#always give meaningful names to variables\n",
        "\n",
        "science = int(input())\n",
        "english = int(input())\n",
        "maths = int(input())\n",
        "\n",
        "\n",
        "if science > 90 or (science >= 75 and maths >=75 and english >=75):\n",
        "  print(\"Science\")\n",
        "\n",
        "if (science >= 60 and maths >=60 and english >= 60) and (science < 75 and maths < 75 and english < 75):\n",
        "  print(\"Commerce\")\n",
        "\n",
        "if science <60 and maths < 60 and english < 60:\n",
        "  print(\"Humanities\")"
      ],
      "metadata": {
        "colab": {
          "base_uri": "https://localhost:8080/"
        },
        "id": "iT43rDx_HHP5",
        "outputId": "710e9dda-cf57-44ad-ff83-233adf6cd8cd"
      },
      "execution_count": null,
      "outputs": [
        {
          "output_type": "stream",
          "name": "stdout",
          "text": [
            "100\n",
            "40\n",
            "30\n",
            "Science\n"
          ]
        }
      ]
    },
    {
      "cell_type": "code",
      "source": [
        "#always give meaningful names to variables\n",
        "\n",
        "science = int(input())\n",
        "english = int(input())\n",
        "maths = int(input())\n",
        "\n",
        "\n",
        "if science > 90 or (science >= 75 and maths >=75 and english >=75):\n",
        "  print(\"Science\")\n",
        "\n",
        "if (science >= 60 and maths >=60 and english >= 60) and (science < 75 and maths < 75 and english < 75):\n",
        "  print(\"Commerce\")\n",
        "\n",
        "if science <60 and maths < 60 and english < 60:\n",
        "  print(\"Humanities\")"
      ],
      "metadata": {
        "colab": {
          "base_uri": "https://localhost:8080/"
        },
        "id": "CkTfpLh-KztW",
        "outputId": "3b5a80cb-75c9-42c7-c2e2-553ef5590b18"
      },
      "execution_count": null,
      "outputs": [
        {
          "output_type": "stream",
          "name": "stdout",
          "text": [
            "80\n",
            "90\n",
            "90\n",
            "Science\n"
          ]
        }
      ]
    },
    {
      "cell_type": "code",
      "source": [
        "#always give meaningful names to variables\n",
        "\n",
        "science = int(input())\n",
        "english = int(input())\n",
        "maths = int(input())\n",
        "\n",
        "\n",
        "if science > 90 or (science >= 75 and maths >=75 and english >=75):\n",
        "  print(\"Science\")\n",
        "\n",
        "if (science >= 60 and maths >=60 and english >= 60) and (science < 75 and maths < 75 and english < 75):\n",
        "  print(\"Commerce\")\n",
        "\n",
        "if science <60 and maths < 60 and english < 60:\n",
        "  print(\"Humanities\")"
      ],
      "metadata": {
        "colab": {
          "base_uri": "https://localhost:8080/"
        },
        "id": "A1FV16i_LbdN",
        "outputId": "3ee1c069-cf85-4fa5-fce6-9d274b81f4b9"
      },
      "execution_count": null,
      "outputs": [
        {
          "output_type": "stream",
          "name": "stdout",
          "text": [
            "75\n",
            "75\n",
            "75\n",
            "Science\n"
          ]
        }
      ]
    },
    {
      "cell_type": "code",
      "source": [
        "#always give meaningful names to variables\n",
        "\n",
        "science = int(input())\n",
        "english = int(input())\n",
        "maths = int(input())\n",
        "\n",
        "\n",
        "if science > 90 or (science >= 75 and maths >=75 and english >=75):\n",
        "  print(\"Science\")\n",
        "\n",
        "if (science >= 60 and maths >=60 and english >= 60) and (science < 75 and maths < 75 and english < 75):\n",
        "  print(\"Commerce\")\n",
        "\n",
        "if science <60 and maths < 60 and english < 60:\n",
        "  print(\"Humanities\")"
      ],
      "metadata": {
        "colab": {
          "base_uri": "https://localhost:8080/"
        },
        "id": "93Pt33lDLzJZ",
        "outputId": "426535ba-1022-4f8f-e5bf-9181b015cc79"
      },
      "execution_count": null,
      "outputs": [
        {
          "output_type": "stream",
          "name": "stdout",
          "text": [
            "65\n",
            "70\n",
            "72\n",
            "Commerce\n"
          ]
        }
      ]
    },
    {
      "cell_type": "code",
      "source": [
        "#always give meaningful names to variables\n",
        "\n",
        "science = int(input())\n",
        "english = int(input())\n",
        "maths = int(input())\n",
        "\n",
        "\n",
        "if science > 90 or (science >= 75 and maths >=75 and english >=75):\n",
        "  print(\"Science\")\n",
        "\n",
        "if (science >= 60 and maths >=60 and english >= 60) and (science < 75 and maths < 75 and english < 75):\n",
        "  print(\"Commerce\")\n",
        "\n",
        "if science <60 and maths < 60 and english < 60:\n",
        "  print(\"Humanities\")"
      ],
      "metadata": {
        "colab": {
          "base_uri": "https://localhost:8080/"
        },
        "id": "VY56XITaL5fV",
        "outputId": "438f8da5-53ee-46e0-aaaf-b02e670b37ce"
      },
      "execution_count": null,
      "outputs": [
        {
          "output_type": "stream",
          "name": "stdout",
          "text": [
            "30\n",
            "50\n",
            "58\n",
            "Humanities\n"
          ]
        }
      ]
    },
    {
      "cell_type": "code",
      "source": [
        "#always give meaningful names to variables\n",
        "\n",
        "science = int(input())\n",
        "english = int(input())\n",
        "maths = int(input())\n",
        "\n",
        "\n",
        "if science > 90 or (science >= 75 and maths >=75 and english >=75):\n",
        "  print(\"Science\")\n",
        "\n",
        "if (science >= 60 and maths >=60 and english >= 60) and (science < 75 and maths < 75 and english < 75):\n",
        "  print(\"Commerce\")\n",
        "\n",
        "if science <60 and maths < 60 and english < 60:\n",
        "  print(\"Humanities\")"
      ],
      "metadata": {
        "colab": {
          "base_uri": "https://localhost:8080/"
        },
        "id": "7LNqaZ0sMPlH",
        "outputId": "05a3f8a6-0674-49a4-dca2-33774c7f1490"
      },
      "execution_count": null,
      "outputs": [
        {
          "name": "stdout",
          "output_type": "stream",
          "text": [
            "65\n",
            "40\n",
            "50\n"
          ]
        }
      ]
    },
    {
      "cell_type": "code",
      "source": [
        "#always give meaningful names to variables\n",
        "#version2 - write in a better way\n",
        "\n",
        "science = int(input())\n",
        "english = int(input())\n",
        "maths = int(input())\n",
        "\n",
        "\n",
        "if science > 90 or (science >= 75 and maths >=75 and english >=75):\n",
        "  print(\"Science\")\n",
        "\n",
        "if ( 60 <= science <75 and 60 <= maths <75 and 60 <= english <75):\n",
        "  print(\"Commerce\")\n",
        "\n",
        "if science <60 and maths < 60 and english < 60:\n",
        "  print(\"Humanities\")"
      ],
      "metadata": {
        "id": "nTgalo3OMXuh"
      },
      "execution_count": null,
      "outputs": []
    },
    {
      "cell_type": "code",
      "source": [
        "#always give meaningful names to variables\n",
        "#version2 - write in a better way\n",
        "\n",
        "science = int(input())\n",
        "english = int(input())\n",
        "maths = int(input())\n",
        "\n",
        "\n",
        "if science > 90 or (science >= 75 and maths >=75 and english >=75):\n",
        "  print(\"Science\")\n",
        "\n",
        "if ( 60 <= science <75 and 60 <= maths <75 and 60 <= english <75):\n",
        "  print(\"Commerce\")\n",
        "\n",
        "else:\n",
        "  print(\"Humanities\")"
      ],
      "metadata": {
        "colab": {
          "base_uri": "https://localhost:8080/"
        },
        "id": "sbwU_uNpNTTL",
        "outputId": "410b8068-524a-4bd6-c987-141dfc0622d9"
      },
      "execution_count": null,
      "outputs": [
        {
          "output_type": "stream",
          "name": "stdout",
          "text": [
            "65\n",
            "40\n",
            "30\n",
            "Humanities\n"
          ]
        }
      ]
    },
    {
      "cell_type": "code",
      "source": [
        "'''\n",
        "VVV frequently asked in Interviews:  HW\n",
        "\n",
        "Take an input n from the user (n is a positive int)\n",
        "\n",
        "1. n is a multiple of 3 - print \"FIZZ\"\n",
        "2. n is a multiple of 5 print \"BUZZ\"\n",
        "3. n is a multiple of both 3 and 5, print \"FIZZBUZZ\"\n",
        "\n",
        "Note: Understand the question carefully\n",
        "'''"
      ],
      "metadata": {
        "id": "HbzGaARuNVow"
      },
      "execution_count": null,
      "outputs": []
    },
    {
      "cell_type": "code",
      "source": [
        "#always give meaningful names to variables\n",
        "\n",
        "science = int(input())\n",
        "english = int(input())\n",
        "maths = int(input())\n",
        "\n",
        "\n",
        "if  (science >= 75 and maths >=75 and english >=75):\n",
        "  print(\"Science\")\n",
        "\n",
        "if (science >= 60 and maths >=60 and english >= 60) and (science < 75 and maths < 75 and english < 75):\n",
        "  print(\"Commerce\")\n",
        "\n",
        "if science <60 and maths < 60 and english < 60:\n",
        "  print(\"Humanities\")"
      ],
      "metadata": {
        "colab": {
          "base_uri": "https://localhost:8080/"
        },
        "id": "Xkx-M68VP8ba",
        "outputId": "76ae5ca2-c7a8-4ba0-9010-ecf2121bb986"
      },
      "execution_count": null,
      "outputs": [
        {
          "name": "stdout",
          "output_type": "stream",
          "text": [
            "95\n",
            "70\n",
            "70\n"
          ]
        }
      ]
    },
    {
      "cell_type": "code",
      "source": [],
      "metadata": {
        "id": "T6K8o74eP-1b"
      },
      "execution_count": null,
      "outputs": []
    }
  ]
}