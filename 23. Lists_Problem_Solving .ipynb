{
  "nbformat": 4,
  "nbformat_minor": 0,
  "metadata": {
    "colab": {
      "provenance": [],
      "include_colab_link": true
    },
    "kernelspec": {
      "name": "python3",
      "display_name": "Python 3"
    },
    "language_info": {
      "name": "python"
    }
  },
  "cells": [
    {
      "cell_type": "markdown",
      "metadata": {
        "id": "view-in-github",
        "colab_type": "text"
      },
      "source": [
        "<a href=\"https://colab.research.google.com/github/SaiArjunSairamje/Python_ClassNotes/blob/main/23.%20Lists_Problem_Solving%20.ipynb\" target=\"_parent\"><img src=\"https://colab.research.google.com/assets/colab-badge.svg\" alt=\"Open In Colab\"/></a>"
      ]
    },
    {
      "cell_type": "code",
      "execution_count": null,
      "metadata": {
        "id": "xgkO4K-qrtls"
      },
      "outputs": [],
      "source": [
        "def solve(a,n):\n",
        "\n",
        "  for i in range(n-1):\n",
        "    if a[i] == a[i+1]:\n",
        "      return True\n",
        "\n",
        "  return False"
      ]
    },
    {
      "cell_type": "code",
      "source": [
        "a = [1,3,3,4]\n",
        "n = 4\n",
        "\n",
        "ans = solve(a,n)\n",
        "print(ans)"
      ],
      "metadata": {
        "colab": {
          "base_uri": "https://localhost:8080/"
        },
        "id": "OE2uNpEEuq8G",
        "outputId": "5b42cc69-3914-40c5-b435-2dfa6a8038b7"
      },
      "execution_count": null,
      "outputs": [
        {
          "output_type": "stream",
          "name": "stdout",
          "text": [
            "True\n"
          ]
        }
      ]
    },
    {
      "cell_type": "code",
      "source": [
        "#infinite loop\n",
        "while True:\n",
        "\n",
        "  print(1)\n",
        "  break"
      ],
      "metadata": {
        "colab": {
          "base_uri": "https://localhost:8080/"
        },
        "id": "b1mzGtOCuq0m",
        "outputId": "d02aca5a-82a2-449d-aebb-1e1663d19d35"
      },
      "execution_count": null,
      "outputs": [
        {
          "output_type": "stream",
          "name": "stdout",
          "text": [
            "1\n"
          ]
        }
      ]
    },
    {
      "cell_type": "code",
      "source": [
        "shopping_list = []\n",
        "\n",
        "while True:\n",
        "\n",
        "  item = input()\n",
        "\n",
        "  if item == \"end\":\n",
        "    break\n",
        "  else:\n",
        "    shopping_list.append(item)\n",
        ""
      ],
      "metadata": {
        "colab": {
          "base_uri": "https://localhost:8080/"
        },
        "id": "8OnRH-OMw7bb",
        "outputId": "085fedd1-a5b9-4f6c-c813-8b3a0c970eec"
      },
      "execution_count": null,
      "outputs": [
        {
          "name": "stdout",
          "output_type": "stream",
          "text": [
            "shoes\n",
            "maggi\n",
            "vegies\n",
            "end\n"
          ]
        }
      ]
    },
    {
      "cell_type": "code",
      "source": [
        "print(shopping_list)"
      ],
      "metadata": {
        "colab": {
          "base_uri": "https://localhost:8080/"
        },
        "id": "0msRq8P6xvSD",
        "outputId": "d7c17b12-9977-4512-d2d7-771be878007d"
      },
      "execution_count": null,
      "outputs": [
        {
          "output_type": "stream",
          "name": "stdout",
          "text": [
            "['shoes', 'maggi', 'vegies']\n"
          ]
        }
      ]
    },
    {
      "cell_type": "code",
      "source": [
        "b = [-1]*5\n",
        "print(b)"
      ],
      "metadata": {
        "colab": {
          "base_uri": "https://localhost:8080/"
        },
        "id": "5OP-nCg7x2Fe",
        "outputId": "b240bbc1-e25f-4b6f-9733-72a706bbce40"
      },
      "execution_count": null,
      "outputs": [
        {
          "output_type": "stream",
          "name": "stdout",
          "text": [
            "[-1, -1, -1, -1, -1]\n"
          ]
        }
      ]
    },
    {
      "cell_type": "code",
      "source": [
        "s = \"a\"*5\n",
        "print(s)"
      ],
      "metadata": {
        "colab": {
          "base_uri": "https://localhost:8080/"
        },
        "id": "rl7uRw3J1JXU",
        "outputId": "d7f1e698-d68b-4987-b815-296b97a321ee"
      },
      "execution_count": null,
      "outputs": [
        {
          "output_type": "stream",
          "name": "stdout",
          "text": [
            "aaaaa\n"
          ]
        }
      ]
    },
    {
      "cell_type": "code",
      "source": [
        "'''\n",
        "Create a list of size 7 and and initialize it to all 0s\n",
        "'''\n"
      ],
      "metadata": {
        "id": "a1nTLi5O1SZn"
      },
      "execution_count": null,
      "outputs": []
    },
    {
      "cell_type": "code",
      "source": [
        "l = [0]*7\n",
        "print(l)"
      ],
      "metadata": {
        "colab": {
          "base_uri": "https://localhost:8080/"
        },
        "id": "uktMcv5H1pgN",
        "outputId": "d4c4483e-92cc-4c74-e87c-73fceb81ed37"
      },
      "execution_count": null,
      "outputs": [
        {
          "output_type": "stream",
          "name": "stdout",
          "text": [
            "[0, 0, 0, 0, 0, 0, 0]\n"
          ]
        }
      ]
    },
    {
      "cell_type": "code",
      "source": [
        "def inverse_a(a):\n",
        "\n",
        "  n = len(a)\n",
        "\n",
        "  #initializing a list b of size n, all -1\n",
        "  b = [-1]*n\n",
        "\n",
        "  for i in range(n):\n",
        "    b[a[i]] = i\n",
        "\n",
        "  print(b)"
      ],
      "metadata": {
        "id": "nNUBfLgN1rgE"
      },
      "execution_count": null,
      "outputs": []
    },
    {
      "cell_type": "code",
      "source": [
        "a = [2,0,1]\n",
        "inverse_a(a)"
      ],
      "metadata": {
        "colab": {
          "base_uri": "https://localhost:8080/"
        },
        "id": "XKHHwpTQ2J0b",
        "outputId": "8ac780fc-cb69-4107-8ed9-9b6892f9574e"
      },
      "execution_count": null,
      "outputs": [
        {
          "output_type": "stream",
          "name": "stdout",
          "text": [
            "[1, 2, 0]\n"
          ]
        }
      ]
    },
    {
      "cell_type": "code",
      "source": [
        "a = [1,5,20,4]\n",
        "\n",
        "b[20]"
      ],
      "metadata": {
        "id": "YOaqc6qh2NU8"
      },
      "execution_count": null,
      "outputs": []
    },
    {
      "cell_type": "code",
      "source": [
        "2 in [5,4,3,2,1]"
      ],
      "metadata": {
        "colab": {
          "base_uri": "https://localhost:8080/"
        },
        "id": "Hs5nwvEC_Lpf",
        "outputId": "a691dc53-0462-422a-96e7-fb0357843c5f"
      },
      "execution_count": null,
      "outputs": [
        {
          "output_type": "execute_result",
          "data": {
            "text/plain": [
              "True"
            ]
          },
          "metadata": {},
          "execution_count": 18
        }
      ]
    },
    {
      "cell_type": "code",
      "source": [
        "7 in [5,4,3,2,1]"
      ],
      "metadata": {
        "colab": {
          "base_uri": "https://localhost:8080/"
        },
        "id": "Ql9bx_HF_VDh",
        "outputId": "bebd6366-7c84-4d01-bcfd-527fa6f56d25"
      },
      "execution_count": null,
      "outputs": [
        {
          "output_type": "execute_result",
          "data": {
            "text/plain": [
              "False"
            ]
          },
          "metadata": {},
          "execution_count": 19
        }
      ]
    },
    {
      "cell_type": "code",
      "source": [
        "#search in array"
      ],
      "metadata": {
        "id": "DxO-qXAI_Yv5"
      },
      "execution_count": null,
      "outputs": []
    },
    {
      "cell_type": "code",
      "source": [
        "t = int(input())\n",
        "\n",
        "i = 0\n",
        "while i < t:\n",
        "\n",
        "  #task\n",
        "\n",
        "  n = int(input())\n",
        "  str_a = input()\n",
        "  x = int(input())\n",
        "\n",
        "  lst = str_a.split(\" \")\n",
        "\n",
        "  int_a = []\n",
        "  for elem in lst:\n",
        "    int_a.append(int(elem))\n",
        "\n",
        "\n",
        "  ans = x in int_a\n",
        "  print(ans)\n",
        "\n",
        "\n",
        "  i += 1"
      ],
      "metadata": {
        "id": "JoqRJdEqAXeu"
      },
      "execution_count": null,
      "outputs": []
    },
    {
      "cell_type": "code",
      "source": [
        "ip = \"3 4 5 8 7\"\n",
        "\n",
        "type(ip)\n"
      ],
      "metadata": {
        "colab": {
          "base_uri": "https://localhost:8080/"
        },
        "id": "8R7U-NGRAn_D",
        "outputId": "b92cb3e9-951f-4467-b04a-ea778bfd0684"
      },
      "execution_count": null,
      "outputs": [
        {
          "output_type": "execute_result",
          "data": {
            "text/plain": [
              "str"
            ]
          },
          "metadata": {},
          "execution_count": 21
        }
      ]
    },
    {
      "cell_type": "code",
      "source": [
        "lst = ip.split()\n",
        "print(lst)"
      ],
      "metadata": {
        "colab": {
          "base_uri": "https://localhost:8080/"
        },
        "id": "iTMZ_1fwBWKn",
        "outputId": "7da72a68-e64f-4736-f59e-53a605aebd75"
      },
      "execution_count": null,
      "outputs": [
        {
          "output_type": "stream",
          "name": "stdout",
          "text": [
            "['3', '4', '5', '8', '7']\n"
          ]
        }
      ]
    },
    {
      "cell_type": "code",
      "source": [
        "type(lst[0])"
      ],
      "metadata": {
        "colab": {
          "base_uri": "https://localhost:8080/"
        },
        "id": "6-WtsvsRBdNq",
        "outputId": "8ee7cadb-26e7-40a4-9784-0b669571d642"
      },
      "execution_count": null,
      "outputs": [
        {
          "output_type": "execute_result",
          "data": {
            "text/plain": [
              "str"
            ]
          },
          "metadata": {},
          "execution_count": 23
        }
      ]
    },
    {
      "cell_type": "code",
      "source": [
        "result = []\n",
        "\n",
        "for c in lst:\n",
        "  result.append(int(c))\n",
        "\n",
        "print(result)"
      ],
      "metadata": {
        "colab": {
          "base_uri": "https://localhost:8080/"
        },
        "id": "f431-8MRBiPr",
        "outputId": "7e5d287f-1955-45c1-9eb3-081fbfb3a4e2"
      },
      "execution_count": null,
      "outputs": [
        {
          "output_type": "stream",
          "name": "stdout",
          "text": [
            "[3, 4, 5, 8, 7]\n"
          ]
        }
      ]
    },
    {
      "cell_type": "code",
      "source": [
        "actual_ip = [3,4,5,8,7]"
      ],
      "metadata": {
        "id": "VJ_FslmtAysU"
      },
      "execution_count": null,
      "outputs": []
    },
    {
      "cell_type": "code",
      "source": [
        "#reverse the list"
      ],
      "metadata": {
        "id": "H2AeTBEMDb3h"
      },
      "execution_count": null,
      "outputs": []
    },
    {
      "cell_type": "code",
      "source": [
        "ip= \"5 1 2 3 4 5\"\n",
        "\n",
        "lst = ip.split(\" \")\n",
        "print(lst)"
      ],
      "metadata": {
        "colab": {
          "base_uri": "https://localhost:8080/"
        },
        "id": "HZVrdtfTDdZz",
        "outputId": "5a685a18-2d94-4d9d-c3b1-3d004033a512"
      },
      "execution_count": null,
      "outputs": [
        {
          "output_type": "stream",
          "name": "stdout",
          "text": [
            "['5', '1', '2', '3', '4', '5']\n"
          ]
        }
      ]
    },
    {
      "cell_type": "code",
      "source": [
        "int_a = []\n",
        "for elem in lst:\n",
        "  int_a.append(int(elem))\n",
        "\n",
        "print(int_a)"
      ],
      "metadata": {
        "colab": {
          "base_uri": "https://localhost:8080/"
        },
        "id": "4dXW4e7-DlYW",
        "outputId": "2b4db798-ffda-41d3-a2bc-478eac2e8cfd"
      },
      "execution_count": null,
      "outputs": [
        {
          "output_type": "stream",
          "name": "stdout",
          "text": [
            "[5, 1, 2, 3, 4, 5]\n"
          ]
        }
      ]
    },
    {
      "cell_type": "code",
      "source": [
        "n = int_a[0]\n",
        "\n",
        "arr = int_a[1:]\n",
        "\n",
        "print(n, arr)"
      ],
      "metadata": {
        "colab": {
          "base_uri": "https://localhost:8080/"
        },
        "id": "UTD3dlx_DvTL",
        "outputId": "6209dea3-33a9-4060-e1b8-8e8dd760d94e"
      },
      "execution_count": null,
      "outputs": [
        {
          "output_type": "stream",
          "name": "stdout",
          "text": [
            "5 [1, 2, 3, 4, 5]\n"
          ]
        }
      ]
    },
    {
      "cell_type": "code",
      "source": [
        "arr[::-1]"
      ],
      "metadata": {
        "colab": {
          "base_uri": "https://localhost:8080/"
        },
        "id": "4TviV0uiD6Fl",
        "outputId": "156e1bf1-e895-4924-942d-d22964cf5f5b"
      },
      "execution_count": null,
      "outputs": [
        {
          "output_type": "execute_result",
          "data": {
            "text/plain": [
              "[5, 4, 3, 2, 1]"
            ]
          },
          "metadata": {},
          "execution_count": 32
        }
      ]
    },
    {
      "cell_type": "code",
      "source": [],
      "metadata": {
        "id": "yXqpe1YbEpWJ"
      },
      "execution_count": null,
      "outputs": []
    }
  ]
}