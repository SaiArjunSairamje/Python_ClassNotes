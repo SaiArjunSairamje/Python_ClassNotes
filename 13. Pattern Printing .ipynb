{
  "nbformat": 4,
  "nbformat_minor": 0,
  "metadata": {
    "colab": {
      "provenance": [],
      "include_colab_link": true
    },
    "kernelspec": {
      "name": "python3",
      "display_name": "Python 3"
    },
    "language_info": {
      "name": "python"
    }
  },
  "cells": [
    {
      "cell_type": "markdown",
      "metadata": {
        "id": "view-in-github",
        "colab_type": "text"
      },
      "source": [
        "<a href=\"https://colab.research.google.com/github/SaiArjunSairamje/Python_ClassNotes/blob/main/13.%20Pattern%20Printing%20.ipynb\" target=\"_parent\"><img src=\"https://colab.research.google.com/assets/colab-badge.svg\" alt=\"Open In Colab\"/></a>"
      ]
    },
    {
      "cell_type": "code",
      "execution_count": null,
      "metadata": {
        "colab": {
          "base_uri": "https://localhost:8080/"
        },
        "id": "dqf7--28OCC5",
        "outputId": "b1b813f6-1447-42d1-82e9-e3264f97f268"
      },
      "outputs": [
        {
          "output_type": "stream",
          "name": "stdout",
          "text": [
            "You guys are awwwwesome!!\n"
          ]
        }
      ],
      "source": [
        "print(\"You guys are awwwwesome!!\")"
      ]
    },
    {
      "cell_type": "code",
      "source": [
        "'''\n",
        "Question1: Print the following pattern:\n",
        "\n",
        "n=5\n",
        "\n",
        "*\n",
        "**\n",
        "***\n",
        "****\n",
        "*****\n",
        "\n",
        "'''"
      ],
      "metadata": {
        "id": "1M6eVyfsPNdD"
      },
      "execution_count": null,
      "outputs": []
    },
    {
      "cell_type": "code",
      "source": [
        "for i in range(1,6):\n",
        "  #print the pattern on the line\n",
        "  print(\"HI\", end=\"\")\n",
        "  print()"
      ],
      "metadata": {
        "colab": {
          "base_uri": "https://localhost:8080/"
        },
        "id": "vFuBE7E6P-is",
        "outputId": "8747d6d8-8459-4d3e-87c6-eea4f77386c8"
      },
      "execution_count": null,
      "outputs": [
        {
          "output_type": "stream",
          "name": "stdout",
          "text": [
            "HI\n",
            "HI\n",
            "HI\n",
            "HI\n",
            "HI\n"
          ]
        }
      ]
    },
    {
      "cell_type": "code",
      "source": [
        "n = int(input())\n",
        "for i in range(1, n+1):\n",
        "\n",
        "  #print the pattern in the ith row\n",
        "\n",
        "  for j in range(i):\n",
        "    print(\"*\", end = \"\")\n",
        "\n",
        "  # print(\"\\n\" , end = \"\")\n",
        "  print()"
      ],
      "metadata": {
        "colab": {
          "base_uri": "https://localhost:8080/"
        },
        "id": "2MmqAN2CQOHv",
        "outputId": "e24c760f-2a82-4b84-8dba-6463d74e31a7"
      },
      "execution_count": null,
      "outputs": [
        {
          "output_type": "stream",
          "name": "stdout",
          "text": [
            "5\n",
            "*\n",
            "**\n",
            "***\n",
            "****\n",
            "*****\n"
          ]
        }
      ]
    },
    {
      "cell_type": "code",
      "source": [
        "for j in range(5):\n",
        "  # print(j, end = \"\")\n",
        "  print(\"*\", end = \"\")"
      ],
      "metadata": {
        "colab": {
          "base_uri": "https://localhost:8080/"
        },
        "id": "lVbke9I7RaZZ",
        "outputId": "de2ec13e-2403-4627-a3f7-177dadcec942"
      },
      "execution_count": null,
      "outputs": [
        {
          "output_type": "stream",
          "name": "stdout",
          "text": [
            "*****"
          ]
        }
      ]
    },
    {
      "cell_type": "code",
      "source": [
        "n = int(input())\n",
        "for i in range(1, n+1):\n",
        "\n",
        "  #print the pattern in the ith row - print i stars on a single line\n",
        "  for j in range(i):\n",
        "    print(\"*\", end = \"\")\n",
        "\n",
        "  # print(\"\\n\" , end = \"\")\n",
        "  print(i)"
      ],
      "metadata": {
        "colab": {
          "base_uri": "https://localhost:8080/"
        },
        "id": "aA6X75p4R9Gf",
        "outputId": "7f3674bd-10e7-4cd7-a4aa-111e3a007b16"
      },
      "execution_count": null,
      "outputs": [
        {
          "output_type": "stream",
          "name": "stdout",
          "text": [
            "5\n",
            "1\n",
            "2\n",
            "3\n",
            "4\n",
            "5\n"
          ]
        }
      ]
    },
    {
      "cell_type": "code",
      "source": [
        "n = int(input())\n",
        "for i in range(n):\n",
        "  print(\"*\", end = \"\")"
      ],
      "metadata": {
        "colab": {
          "base_uri": "https://localhost:8080/"
        },
        "id": "Mvh2ieDISji2",
        "outputId": "2ddcff16-9a44-4364-ba54-2054d837e4eb"
      },
      "execution_count": null,
      "outputs": [
        {
          "output_type": "stream",
          "name": "stdout",
          "text": [
            "3\n",
            "***"
          ]
        }
      ]
    },
    {
      "cell_type": "code",
      "source": [
        "'''\n",
        "Q2-\n",
        "Print the following pattern:\n",
        "\n",
        "n = 6\n",
        "\n",
        "1\n",
        "12\n",
        "123\n",
        "1234\n",
        "12345\n",
        "123456\n",
        "\n",
        "'''"
      ],
      "metadata": {
        "id": "rWv9vJQOT3Qv"
      },
      "execution_count": null,
      "outputs": []
    },
    {
      "cell_type": "code",
      "source": [
        "n = int(input())\n",
        "\n",
        "for i in range(1,n+1):\n",
        "\n",
        "  #print the ith row: print elemnts from 1 to i both included\n",
        "  for j in range(1,i+1):\n",
        "    print(j, end = \"\")\n",
        "\n",
        "  print()\n"
      ],
      "metadata": {
        "colab": {
          "base_uri": "https://localhost:8080/"
        },
        "id": "-t0rxUShUjBe",
        "outputId": "e2ef3185-f325-4115-9d32-8b84bb9ef4f7"
      },
      "execution_count": null,
      "outputs": [
        {
          "output_type": "stream",
          "name": "stdout",
          "text": [
            "5\n",
            "1\n",
            "12\n",
            "123\n",
            "1234\n",
            "12345\n"
          ]
        }
      ]
    },
    {
      "cell_type": "code",
      "source": [
        "n=5\n",
        "for j in range(1,n+1):\n",
        "  print(j, end = \"\")"
      ],
      "metadata": {
        "colab": {
          "base_uri": "https://localhost:8080/"
        },
        "id": "b3LyM83eWHzj",
        "outputId": "8b1ec516-242a-4a72-8747-873cb1bd49da"
      },
      "execution_count": null,
      "outputs": [
        {
          "output_type": "stream",
          "name": "stdout",
          "text": [
            "12345"
          ]
        }
      ]
    },
    {
      "cell_type": "code",
      "source": [
        "'''\n",
        "Q3-\n",
        "Print the following pattern:\n",
        "\n",
        "n = 6\n",
        "\n",
        "*\n",
        "*2\n",
        "*2*\n",
        "*2*4\n",
        "*2*4*\n",
        "*2*4*6\n",
        "'''"
      ],
      "metadata": {
        "id": "r9g6oB8gS4gK"
      },
      "execution_count": null,
      "outputs": []
    },
    {
      "cell_type": "code",
      "source": [
        "n = int(input())\n",
        "\n",
        "for i in range(1, n+1):\n",
        "\n",
        "  #print ith row\n",
        "  for j in range(1, i+1):\n",
        "\n",
        "    if j%2 == 0:\n",
        "      print(j, end = \"\")\n",
        "    else:\n",
        "      print(\"*\", end = \"\")\n",
        "\n",
        "  print()"
      ],
      "metadata": {
        "colab": {
          "base_uri": "https://localhost:8080/"
        },
        "id": "QneMiu1uXNE-",
        "outputId": "4664743f-227d-4f60-95ce-23ec92442a2f"
      },
      "execution_count": null,
      "outputs": [
        {
          "output_type": "stream",
          "name": "stdout",
          "text": [
            "6\n",
            "*\n",
            "*2\n",
            "*2*\n",
            "*2*4\n",
            "*2*4*\n",
            "*2*4*6\n"
          ]
        }
      ]
    },
    {
      "cell_type": "code",
      "source": [
        "'''\n",
        "Q4-\n",
        "Print the following pattern:\n",
        "\n",
        "n = 5\n",
        "\n",
        "*****\n",
        "****\n",
        "***\n",
        "**\n",
        "*\n",
        "\n",
        "'''"
      ],
      "metadata": {
        "id": "LQTAj8m7XYA2"
      },
      "execution_count": null,
      "outputs": []
    },
    {
      "cell_type": "code",
      "source": [
        "n = int(input())\n",
        "\n",
        "for i in range(n):\n",
        "\n",
        "  #print the ith row - print n-i stars\n",
        "  for j in range(n-i):\n",
        "    print('*', end = \"\")\n",
        "\n",
        "  print()"
      ],
      "metadata": {
        "colab": {
          "base_uri": "https://localhost:8080/"
        },
        "id": "6yFnkKUiZ6Az",
        "outputId": "b6f10e1c-97aa-4e97-d189-5f8032c70d70"
      },
      "execution_count": null,
      "outputs": [
        {
          "output_type": "stream",
          "name": "stdout",
          "text": [
            "5\n",
            "*****\n",
            "****\n",
            "***\n",
            "**\n",
            "*\n"
          ]
        }
      ]
    },
    {
      "cell_type": "code",
      "source": [
        "n = int(input())\n",
        "\n",
        "for i in range(2,n+2):\n",
        "\n",
        "  #print the ith row - print n-i stars\n",
        "  for j in range(n+2-i):\n",
        "    print('*', end = \"\")\n",
        "\n",
        "  print()"
      ],
      "metadata": {
        "colab": {
          "base_uri": "https://localhost:8080/"
        },
        "id": "mv1xO1LuaJMe",
        "outputId": "d89ece89-c910-41b8-e7f8-5260b537fc0b"
      },
      "execution_count": null,
      "outputs": [
        {
          "output_type": "stream",
          "name": "stdout",
          "text": [
            "5\n",
            "*****\n",
            "****\n",
            "***\n",
            "**\n",
            "*\n"
          ]
        }
      ]
    },
    {
      "cell_type": "code",
      "source": [
        "'''\n",
        "Q5-\n",
        "Print the following pattern:\n",
        "\n",
        "n = 7\n",
        "\n",
        "      *\n",
        "     **\n",
        "    ***\n",
        "   ****\n",
        "  *****\n",
        " ******\n",
        "*******\n",
        "\n",
        "\n",
        "'''"
      ],
      "metadata": {
        "id": "KkcAMXh_a92k"
      },
      "execution_count": null,
      "outputs": []
    },
    {
      "cell_type": "code",
      "source": [
        "n = int(input())\n",
        "for i in range(1, n+1):\n",
        "\n",
        "    #space part = for a given i, print n-i stars\n",
        "    for space in range(1,n-i+1):\n",
        "      print(\" \", end =  \"\")\n",
        "\n",
        "    #star part\n",
        "    for star in range(i):\n",
        "      print(\"*\", end =\"\")\n",
        "\n",
        "\n",
        "    print()"
      ],
      "metadata": {
        "colab": {
          "base_uri": "https://localhost:8080/"
        },
        "id": "3OfAn-pJg4jj",
        "outputId": "1a274de0-9339-48e4-c186-2cb9f9779d68"
      },
      "execution_count": null,
      "outputs": [
        {
          "output_type": "stream",
          "name": "stdout",
          "text": [
            "7\n",
            "      *\n",
            "     **\n",
            "    ***\n",
            "   ****\n",
            "  *****\n",
            " ******\n",
            "*******\n"
          ]
        }
      ]
    },
    {
      "cell_type": "code",
      "source": [
        "n = int(input())\n",
        "for i in range(1, n+1):\n",
        "\n",
        "    #space part = for a given i, print n-i stars\n",
        "    for space in range(0,n-i):\n",
        "      print(\" \", end =  \"\")\n",
        "\n",
        "    #star part\n",
        "    for star in range(i):\n",
        "      print(\"*\", end =\"\")\n",
        "\n",
        "\n",
        "    print()"
      ],
      "metadata": {
        "colab": {
          "base_uri": "https://localhost:8080/"
        },
        "id": "FBriI3ryhnB7",
        "outputId": "a95577e0-46be-4706-c52a-637ac0a17cf3"
      },
      "execution_count": null,
      "outputs": [
        {
          "output_type": "stream",
          "name": "stdout",
          "text": [
            "7\n",
            "      *\n",
            "     **\n",
            "    ***\n",
            "   ****\n",
            "  *****\n",
            " ******\n",
            "*******\n"
          ]
        }
      ]
    },
    {
      "cell_type": "code",
      "source": [
        "n = int(input())\n",
        "for i in range(1, n+1):\n",
        "\n",
        "    #space part = for a given i, print n-i stars\n",
        "    for space in range(n-i):\n",
        "      print(\" \", end =  \"\")\n",
        "\n",
        "    #star part\n",
        "    for star in range(i):\n",
        "      print(\"*\", end =\"\")\n",
        "\n",
        "\n",
        "    print()"
      ],
      "metadata": {
        "colab": {
          "base_uri": "https://localhost:8080/"
        },
        "id": "NPmztgqoixBI",
        "outputId": "7b5f3e28-0028-4c77-80dc-479a6c3e0229"
      },
      "execution_count": null,
      "outputs": [
        {
          "output_type": "stream",
          "name": "stdout",
          "text": [
            "7\n",
            "      *\n",
            "     **\n",
            "    ***\n",
            "   ****\n",
            "  *****\n",
            " ******\n",
            "*******\n"
          ]
        }
      ]
    },
    {
      "cell_type": "code",
      "source": [],
      "metadata": {
        "id": "-H9T_262jRKP"
      },
      "execution_count": null,
      "outputs": []
    }
  ]
}