{
  "nbformat": 4,
  "nbformat_minor": 0,
  "metadata": {
    "colab": {
      "provenance": [],
      "include_colab_link": true
    },
    "kernelspec": {
      "name": "python3",
      "display_name": "Python 3"
    },
    "language_info": {
      "name": "python"
    }
  },
  "cells": [
    {
      "cell_type": "markdown",
      "metadata": {
        "id": "view-in-github",
        "colab_type": "text"
      },
      "source": [
        "<a href=\"https://colab.research.google.com/github/SaiArjunSairamje/Python_ClassNotes/blob/main/11.%20Nested%20Loops%20%2B%20Jump%20Statements%20.ipynb\" target=\"_parent\"><img src=\"https://colab.research.google.com/assets/colab-badge.svg\" alt=\"Open In Colab\"/></a>"
      ]
    },
    {
      "cell_type": "markdown",
      "source": [
        "## **Content:**\n",
        "\n",
        "* **Revision of Loops & Jump Statements**\n",
        "* **Nested Loops**\n",
        "* **Pattern Printing sample**\n",
        "* **Greatest Common Divisor (GCD)** **`(a.k.a Highest Common Factor (HCF))`**\n",
        "* **Least Common Multiple (LCM)**"
      ],
      "metadata": {
        "id": "PEH1F2TnnaRY"
      }
    },
    {
      "cell_type": "code",
      "execution_count": null,
      "metadata": {
        "colab": {
          "base_uri": "https://localhost:8080/"
        },
        "id": "QSxtckNSdfhl",
        "outputId": "c04c8419-f9eb-4ef3-c639-8ba549285e7f"
      },
      "outputs": [
        {
          "output_type": "stream",
          "name": "stdout",
          "text": [
            "0 1 2 3 4 "
          ]
        }
      ],
      "source": [
        "for i in range(0,5):\n",
        "  print(i, end = \" \")"
      ]
    },
    {
      "cell_type": "code",
      "source": [
        "for i in range(6):\n",
        "  print(i, end = \" \")"
      ],
      "metadata": {
        "colab": {
          "base_uri": "https://localhost:8080/"
        },
        "id": "w7CxE41Rfqrs",
        "outputId": "14481060-e230-430c-b444-53cd9315efad"
      },
      "execution_count": null,
      "outputs": [
        {
          "output_type": "stream",
          "name": "stdout",
          "text": [
            "0 1 2 3 4 5 "
          ]
        }
      ]
    },
    {
      "cell_type": "code",
      "source": [
        "'''\n",
        "Write a loop to print the following numbers: 1, 4, 7, 10, 13, 16\n",
        "'''\n",
        "\n",
        "for i in range(1, 17, 3):\n",
        "  print(i, end = \", \")"
      ],
      "metadata": {
        "colab": {
          "base_uri": "https://localhost:8080/"
        },
        "id": "F_tzNphbf4n4",
        "outputId": "ad406dd9-dcef-49d1-c236-2987ce453d4d"
      },
      "execution_count": null,
      "outputs": [
        {
          "output_type": "stream",
          "name": "stdout",
          "text": [
            "1, 4, 7, 10, 13, 16, "
          ]
        }
      ]
    },
    {
      "cell_type": "code",
      "source": [
        "for i in range(1, 17, 3):\n",
        "  if i == 16:\n",
        "    print(i, end = \"\")\n",
        "  else:\n",
        "    print(i, end = \", \")\n"
      ],
      "metadata": {
        "colab": {
          "base_uri": "https://localhost:8080/"
        },
        "id": "sa8-W32vhGJ8",
        "outputId": "db05e9ec-1cf6-4a11-ecda-281fce192edc"
      },
      "execution_count": null,
      "outputs": [
        {
          "output_type": "stream",
          "name": "stdout",
          "text": [
            "1, 4, 7, 10, 13, 16"
          ]
        }
      ]
    },
    {
      "cell_type": "code",
      "source": [
        "i = 1\n",
        "\n",
        "while i <= 16:\n",
        "\n",
        "  if i == 16:\n",
        "    print(i, end =\"\")\n",
        "  else:\n",
        "    print(i, end = \", \")\n",
        "\n",
        "  #updation\n",
        "  i = i+3"
      ],
      "metadata": {
        "colab": {
          "base_uri": "https://localhost:8080/"
        },
        "id": "D6kw1uiKhifx",
        "outputId": "9f2d5e4f-76c4-429b-d29a-8777d687f319"
      },
      "execution_count": null,
      "outputs": [
        {
          "output_type": "stream",
          "name": "stdout",
          "text": [
            "1, 4, 7, 10, 13, 16"
          ]
        }
      ]
    },
    {
      "cell_type": "code",
      "source": [
        "'''\n",
        "Write a while loop to print the following numbers: 1, 3, 7, 13, 21, 31, 43\n",
        "'''\n",
        "\n"
      ],
      "metadata": {
        "id": "pASCvZ6kikaf"
      },
      "execution_count": null,
      "outputs": []
    },
    {
      "cell_type": "code",
      "source": [
        "n=1\n",
        "i = 1\n",
        "\n",
        "while n < 44:\n",
        "\n",
        "  if n == 43:\n",
        "    print(n, end = \"\")\n",
        "  else:\n",
        "    print(n, end =\", \")\n",
        "\n",
        "  n = n + 2*i\n",
        "  i = i+1\n",
        "\n"
      ],
      "metadata": {
        "colab": {
          "base_uri": "https://localhost:8080/"
        },
        "id": "wZ5FWMNyk4q0",
        "outputId": "643d113b-9d9c-49f5-ff6f-c27824b8e126"
      },
      "execution_count": null,
      "outputs": [
        {
          "output_type": "stream",
          "name": "stdout",
          "text": [
            "1, 3, 7, 13, 21, 31, 43"
          ]
        }
      ]
    },
    {
      "cell_type": "code",
      "source": [
        "#code to visualize the detail working of the logic\n",
        "n=1\n",
        "i = 1\n",
        "\n",
        "while n < 44:\n",
        "\n",
        "  print(\" n = \", n, \" i = \", i, \"   2*i = \", 2*i)\n",
        "\n",
        "  n = n + 2*i\n",
        "  i = i+1\n",
        "\n"
      ],
      "metadata": {
        "colab": {
          "base_uri": "https://localhost:8080/"
        },
        "id": "q_ThJAiTl0-h",
        "outputId": "aa3818a0-c1cb-475a-c188-8540f018af9e"
      },
      "execution_count": null,
      "outputs": [
        {
          "output_type": "stream",
          "name": "stdout",
          "text": [
            " n =  1  i =  1    2*i =  2\n",
            " n =  3  i =  2    2*i =  4\n",
            " n =  7  i =  3    2*i =  6\n",
            " n =  13  i =  4    2*i =  8\n",
            " n =  21  i =  5    2*i =  10\n",
            " n =  31  i =  6    2*i =  12\n",
            " n =  43  i =  7    2*i =  14\n"
          ]
        }
      ]
    },
    {
      "cell_type": "code",
      "source": [
        "#Jump statements:\n",
        "'''\n",
        "pass\n",
        "continue\n",
        "break\n",
        "'''"
      ],
      "metadata": {
        "id": "klJwXjX0mNeF"
      },
      "execution_count": null,
      "outputs": []
    },
    {
      "cell_type": "code",
      "source": [
        "i = 1\n",
        "\n",
        "while i< 10:\n",
        "\n",
        "  if i == 5:\n",
        "    pass\n",
        "\n",
        "  print(i, end = \" \")\n",
        "\n",
        "  i += 2"
      ],
      "metadata": {
        "colab": {
          "base_uri": "https://localhost:8080/"
        },
        "id": "tmUrlEKgnB5g",
        "outputId": "99093b1c-7296-4f26-c8ac-f48cba581607"
      },
      "execution_count": null,
      "outputs": [
        {
          "output_type": "stream",
          "name": "stdout",
          "text": [
            "1 3 5 7 9 "
          ]
        }
      ]
    },
    {
      "cell_type": "code",
      "source": [
        "#revision of use-case of pass keyword\n",
        "i = 1\n",
        "\n",
        "while i< 10:\n",
        "\n",
        "  if i == 5:\n",
        "\n",
        "  print(i, end = \" \")\n",
        "\n",
        "  i += 2"
      ],
      "metadata": {
        "colab": {
          "base_uri": "https://localhost:8080/",
          "height": 131
        },
        "id": "FAfd5rNcnTGJ",
        "outputId": "4d18c96b-034a-42bc-e58d-87dadb9943f0"
      },
      "execution_count": null,
      "outputs": [
        {
          "output_type": "error",
          "ename": "IndentationError",
          "evalue": "ignored",
          "traceback": [
            "\u001b[0;36m  File \u001b[0;32m\"<ipython-input-14-b252a65a663f>\"\u001b[0;36m, line \u001b[0;32m7\u001b[0m\n\u001b[0;31m    print(i, end = \" \")\u001b[0m\n\u001b[0m        ^\u001b[0m\n\u001b[0;31mIndentationError\u001b[0m\u001b[0;31m:\u001b[0m expected an indented block\n"
          ]
        }
      ]
    },
    {
      "cell_type": "code",
      "source": [
        "i = 1\n",
        "\n",
        "while i< 10:\n",
        "\n",
        "  if i == 5:\n",
        "    continue\n",
        "\n",
        "  print(i, end = \" \")\n",
        "\n",
        "  i += 2"
      ],
      "metadata": {
        "colab": {
          "base_uri": "https://localhost:8080/",
          "height": 253
        },
        "id": "PgQypP_JnYNh",
        "outputId": "84e2303d-587e-4cd5-89f7-50711a3385ea"
      },
      "execution_count": null,
      "outputs": [
        {
          "output_type": "stream",
          "name": "stdout",
          "text": [
            "1 3 "
          ]
        },
        {
          "output_type": "error",
          "ename": "KeyboardInterrupt",
          "evalue": "ignored",
          "traceback": [
            "\u001b[0;31m---------------------------------------------------------------------------\u001b[0m",
            "\u001b[0;31mKeyboardInterrupt\u001b[0m                         Traceback (most recent call last)",
            "\u001b[0;32m<ipython-input-16-5436002b48c4>\u001b[0m in \u001b[0;36m<module>\u001b[0;34m\u001b[0m\n\u001b[1;32m      3\u001b[0m \u001b[0;32mwhile\u001b[0m \u001b[0mi\u001b[0m\u001b[0;34m<\u001b[0m \u001b[0;36m10\u001b[0m\u001b[0;34m:\u001b[0m\u001b[0;34m\u001b[0m\u001b[0;34m\u001b[0m\u001b[0m\n\u001b[1;32m      4\u001b[0m \u001b[0;34m\u001b[0m\u001b[0m\n\u001b[0;32m----> 5\u001b[0;31m   \u001b[0;32mif\u001b[0m \u001b[0mi\u001b[0m \u001b[0;34m==\u001b[0m \u001b[0;36m5\u001b[0m\u001b[0;34m:\u001b[0m\u001b[0;34m\u001b[0m\u001b[0;34m\u001b[0m\u001b[0m\n\u001b[0m\u001b[1;32m      6\u001b[0m     \u001b[0;32mcontinue\u001b[0m\u001b[0;34m\u001b[0m\u001b[0;34m\u001b[0m\u001b[0m\n\u001b[1;32m      7\u001b[0m \u001b[0;34m\u001b[0m\u001b[0m\n",
            "\u001b[0;31mKeyboardInterrupt\u001b[0m: "
          ]
        }
      ]
    },
    {
      "cell_type": "code",
      "source": [
        "#auto-updation in range within for loop\n",
        "\n",
        "for i in range(1,5):\n",
        "\n",
        "  if i == 3:\n",
        "    continue\n",
        "\n",
        "  print(i, end = \" \")\n"
      ],
      "metadata": {
        "colab": {
          "base_uri": "https://localhost:8080/"
        },
        "id": "nlHZGFI0nrS3",
        "outputId": "b8e43468-0ba7-484c-b10c-4c0998993a4c"
      },
      "execution_count": null,
      "outputs": [
        {
          "output_type": "stream",
          "name": "stdout",
          "text": [
            "1 2 4 "
          ]
        }
      ]
    },
    {
      "cell_type": "code",
      "source": [
        "i = 1\n",
        "\n",
        "while i< 10:\n",
        "\n",
        "  i += 2\n",
        "\n",
        "  if i == 5:\n",
        "    continue\n",
        "\n",
        "  print(i, end = \" \")\n",
        "\n"
      ],
      "metadata": {
        "colab": {
          "base_uri": "https://localhost:8080/"
        },
        "id": "BkYgvnoMos7r",
        "outputId": "a0c8640c-ba3f-4ad9-86c6-f1692dba850d"
      },
      "execution_count": null,
      "outputs": [
        {
          "output_type": "stream",
          "name": "stdout",
          "text": [
            "3 7 9 11 "
          ]
        }
      ]
    },
    {
      "cell_type": "code",
      "source": [
        "i = 1\n",
        "\n",
        "while i< 10:\n",
        "\n",
        "  if i == 2:\n",
        "    break\n",
        "\n",
        "  print(i, end = \" \")\n",
        "\n",
        "  i += 2"
      ],
      "metadata": {
        "colab": {
          "base_uri": "https://localhost:8080/"
        },
        "id": "OCQkeSMlpCFO",
        "outputId": "3688ee77-7786-4377-e3f6-1f5f3fd9d046"
      },
      "execution_count": null,
      "outputs": [
        {
          "output_type": "stream",
          "name": "stdout",
          "text": [
            "1 3 5 7 9 "
          ]
        }
      ]
    },
    {
      "cell_type": "code",
      "source": [
        "i = 2\n",
        "\n",
        "while i< 10:\n",
        "\n",
        "  if i == 7:\n",
        "    break\n",
        "\n",
        "  print(i, end = \" \")\n",
        "\n",
        "  i += 2"
      ],
      "metadata": {
        "colab": {
          "base_uri": "https://localhost:8080/"
        },
        "id": "mYe9lQKwpyYM",
        "outputId": "ae6ec31b-b2b1-4e19-ece3-3bc6b91c4ca8"
      },
      "execution_count": null,
      "outputs": [
        {
          "output_type": "stream",
          "name": "stdout",
          "text": [
            "2 4 6 8 "
          ]
        }
      ]
    },
    {
      "cell_type": "code",
      "source": [
        "i = 1\n",
        "\n",
        "while i< 10:\n",
        "\n",
        "  if i == 7:\n",
        "    break\n",
        "\n",
        "  print(i, end = \" \")\n",
        "\n",
        "  i += 2"
      ],
      "metadata": {
        "colab": {
          "base_uri": "https://localhost:8080/"
        },
        "id": "XRr753Alqhp6",
        "outputId": "1da393b7-a11a-4fe1-fef4-8fb0bc49e580"
      },
      "execution_count": null,
      "outputs": [
        {
          "output_type": "stream",
          "name": "stdout",
          "text": [
            "1 3 5 "
          ]
        }
      ]
    },
    {
      "cell_type": "code",
      "source": [
        "We will resume sharp at 10:08"
      ],
      "metadata": {
        "id": "Qe233hVsqykP"
      },
      "execution_count": null,
      "outputs": []
    },
    {
      "cell_type": "code",
      "source": [
        "#nested loops:\n",
        "\n",
        "for i in range(3):\n",
        "  for j in range(3):\n",
        "    print(i, j)"
      ],
      "metadata": {
        "colab": {
          "base_uri": "https://localhost:8080/"
        },
        "id": "qh9HF7f0uKzL",
        "outputId": "720412f0-6c35-4159-f346-8aa1de3705da"
      },
      "execution_count": null,
      "outputs": [
        {
          "output_type": "stream",
          "name": "stdout",
          "text": [
            "0 0\n",
            "0 1\n",
            "0 2\n",
            "1 0\n",
            "1 1\n",
            "1 2\n",
            "2 0\n",
            "2 1\n",
            "2 2\n"
          ]
        }
      ]
    },
    {
      "cell_type": "code",
      "source": [
        "#nested loops:\n",
        "\n",
        "for i in range(3):\n",
        "  for j in range(3):\n",
        "    print(\"i = \", i, \" j = \", j)\n"
      ],
      "metadata": {
        "colab": {
          "base_uri": "https://localhost:8080/"
        },
        "id": "iWfpg_T_uQ1N",
        "outputId": "568928f8-3152-49c7-875e-d47dcf03832b"
      },
      "execution_count": null,
      "outputs": [
        {
          "output_type": "stream",
          "name": "stdout",
          "text": [
            "i =  0  j =  0\n",
            "i =  0  j =  1\n",
            "i =  0  j =  2\n",
            "i =  1  j =  0\n",
            "i =  1  j =  1\n",
            "i =  1  j =  2\n",
            "i =  2  j =  0\n",
            "i =  2  j =  1\n",
            "i =  2  j =  2\n"
          ]
        }
      ]
    },
    {
      "cell_type": "code",
      "source": [
        "'''\n",
        "This will be discussed in detail in pattern printing class\n",
        "Write a program that takes n as input\n",
        "and print a nxn matrix of *\n",
        "\n",
        "n = 3\n",
        "\n",
        "* * *\n",
        "* * *\n",
        "* * *\n",
        "\n",
        "'''"
      ],
      "metadata": {
        "id": "UZerXP06uVxJ"
      },
      "execution_count": null,
      "outputs": []
    },
    {
      "cell_type": "code",
      "source": [
        "n = int(input())\n",
        "\n",
        "for i in range(n):\n",
        "  for j in range(n):\n",
        "    print('*', end = \" \")\n",
        "\n",
        "  print()"
      ],
      "metadata": {
        "colab": {
          "base_uri": "https://localhost:8080/"
        },
        "id": "opjgWTbGvU3R",
        "outputId": "6a2850b6-d3ab-4a27-cf0b-b857ea8e32bd"
      },
      "execution_count": null,
      "outputs": [
        {
          "output_type": "stream",
          "name": "stdout",
          "text": [
            "3\n",
            "* * * \n",
            "* * * \n",
            "* * * \n"
          ]
        }
      ]
    },
    {
      "cell_type": "code",
      "source": [
        "'''\n",
        "Given two positive integers as input,\n",
        "write a program to calculate the GCD of these two numbers\n",
        "\n",
        "a = 3\n",
        "b = 6\n",
        "\n",
        "gcd(a,b) = 3\n",
        "\n",
        "\n",
        "\n",
        "a = 8\n",
        "b = 12\n",
        "\n",
        "gcd(a,b) = 4\n",
        "\n",
        "'''"
      ],
      "metadata": {
        "id": "I7xSZ4Zdvno7"
      },
      "execution_count": null,
      "outputs": []
    },
    {
      "cell_type": "code",
      "source": [
        "#4-5 concepts in this code\n",
        "\n",
        "#code to find common divisors of a and b\n",
        "a = int(input())\n",
        "b = int(input())\n",
        "\n",
        "x = min(a,b)\n",
        "\n",
        "for i in range(x, 0, -1):\n",
        "\n",
        "  if a%i == 0 and b%i == 0:\n",
        "    print(i)\n",
        "\n"
      ],
      "metadata": {
        "colab": {
          "base_uri": "https://localhost:8080/"
        },
        "id": "0TtyImXhz5KY",
        "outputId": "9c9f87e8-8e1f-41f6-859f-3e039514ef5f"
      },
      "execution_count": null,
      "outputs": [
        {
          "output_type": "stream",
          "name": "stdout",
          "text": [
            "4\n",
            "6\n",
            "2\n",
            "1\n"
          ]
        }
      ]
    },
    {
      "cell_type": "code",
      "source": [
        "#4-5 concepts in this code\n",
        "\n",
        "#code to find greatest common divisors of a and b\n",
        "a = int(input())\n",
        "b = int(input())\n",
        "\n",
        "x = min(a,b)\n",
        "\n",
        "for i in range(x, 0, -1):\n",
        "\n",
        "  if a%i == 0 and b%i == 0:\n",
        "    print(\"The GCD is \", i)\n",
        "    break\n"
      ],
      "metadata": {
        "colab": {
          "base_uri": "https://localhost:8080/"
        },
        "id": "Ai3nBmRo0WU6",
        "outputId": "8c872091-15fb-4eb6-e0ce-967e8937ed62"
      },
      "execution_count": null,
      "outputs": [
        {
          "output_type": "stream",
          "name": "stdout",
          "text": [
            "16\n",
            "24\n",
            "The GCD is  8\n"
          ]
        }
      ]
    },
    {
      "cell_type": "code",
      "source": [
        "min(2,4)"
      ],
      "metadata": {
        "colab": {
          "base_uri": "https://localhost:8080/"
        },
        "id": "_LwKc_8J0i2p",
        "outputId": "2ee09f15-ed0a-4187-d939-36a772b80c64"
      },
      "execution_count": null,
      "outputs": [
        {
          "output_type": "execute_result",
          "data": {
            "text/plain": [
              "2"
            ]
          },
          "metadata": {},
          "execution_count": 32
        }
      ]
    },
    {
      "cell_type": "code",
      "source": [
        "min(5,6)"
      ],
      "metadata": {
        "colab": {
          "base_uri": "https://localhost:8080/"
        },
        "id": "shcUAO6f1Ri7",
        "outputId": "93ca510e-6a5c-46f1-e505-d6faecbff5be"
      },
      "execution_count": null,
      "outputs": [
        {
          "output_type": "execute_result",
          "data": {
            "text/plain": [
              "5"
            ]
          },
          "metadata": {},
          "execution_count": 33
        }
      ]
    },
    {
      "cell_type": "code",
      "source": [
        "max(2,4)"
      ],
      "metadata": {
        "colab": {
          "base_uri": "https://localhost:8080/"
        },
        "id": "UkEgNrsy1St4",
        "outputId": "248e0f87-fc7a-4785-e56b-b80d6cc56c42"
      },
      "execution_count": null,
      "outputs": [
        {
          "output_type": "execute_result",
          "data": {
            "text/plain": [
              "4"
            ]
          },
          "metadata": {},
          "execution_count": 34
        }
      ]
    },
    {
      "cell_type": "code",
      "source": [
        "max(2,4,5)"
      ],
      "metadata": {
        "colab": {
          "base_uri": "https://localhost:8080/"
        },
        "id": "_8wLjH8y1VM0",
        "outputId": "0d5dd0b1-17ed-48bf-ed82-0878cb24be1f"
      },
      "execution_count": null,
      "outputs": [
        {
          "output_type": "execute_result",
          "data": {
            "text/plain": [
              "5"
            ]
          },
          "metadata": {},
          "execution_count": 35
        }
      ]
    },
    {
      "cell_type": "code",
      "source": [
        "max(2,2,4)"
      ],
      "metadata": {
        "colab": {
          "base_uri": "https://localhost:8080/"
        },
        "id": "kpZVBN9T1WqJ",
        "outputId": "3d276691-37d2-485e-9f7d-8552dfdb6367"
      },
      "execution_count": null,
      "outputs": [
        {
          "output_type": "execute_result",
          "data": {
            "text/plain": [
              "4"
            ]
          },
          "metadata": {},
          "execution_count": 36
        }
      ]
    },
    {
      "cell_type": "code",
      "source": [
        "max(1,1,1)"
      ],
      "metadata": {
        "colab": {
          "base_uri": "https://localhost:8080/"
        },
        "id": "xjRJ6iqA1Y2P",
        "outputId": "4fc6d5fb-8cb4-40bb-c006-4d52383fc5ce"
      },
      "execution_count": null,
      "outputs": [
        {
          "output_type": "execute_result",
          "data": {
            "text/plain": [
              "1"
            ]
          },
          "metadata": {},
          "execution_count": 37
        }
      ]
    },
    {
      "cell_type": "code",
      "source": [
        "'''\n",
        "Given two positive integers as input,\n",
        "write a program to calculate the LCM of these two numbers\n",
        "\n",
        "a = 2\n",
        "b = 3\n",
        "\n",
        "lcm(a,b) = 6\n",
        "\n",
        "\n",
        "'''"
      ],
      "metadata": {
        "id": "frH6cPnc1aeJ"
      },
      "execution_count": null,
      "outputs": []
    },
    {
      "cell_type": "code",
      "source": [
        "a = int(input())\n",
        "b = int(input())\n",
        "\n",
        "x = max(a,b)\n",
        "\n",
        "#infinite loop\n",
        "while True:\n",
        "\n",
        "  if x%a ==0 and x%b == 0:\n",
        "    print(x)\n",
        "    break\n",
        "\n",
        "  x = x+1"
      ],
      "metadata": {
        "colab": {
          "base_uri": "https://localhost:8080/"
        },
        "id": "BccjKOOM2-GO",
        "outputId": "419bf910-aad9-420d-8c82-548e751d1f76"
      },
      "execution_count": null,
      "outputs": [
        {
          "output_type": "stream",
          "name": "stdout",
          "text": [
            "8\n",
            "12\n",
            "24\n"
          ]
        }
      ]
    },
    {
      "cell_type": "code",
      "source": [
        "print(list(range(15,8,-1)))"
      ],
      "metadata": {
        "colab": {
          "base_uri": "https://localhost:8080/"
        },
        "id": "X-aBR3j84j12",
        "outputId": "ad41cff0-57f5-438e-b017-731dfce5965c"
      },
      "execution_count": null,
      "outputs": [
        {
          "output_type": "stream",
          "name": "stdout",
          "text": [
            "[15, 14, 13, 12, 11, 10, 9]\n"
          ]
        }
      ]
    },
    {
      "cell_type": "code",
      "source": [],
      "metadata": {
        "id": "k5mzuuJ26SqL"
      },
      "execution_count": null,
      "outputs": []
    }
  ]
}