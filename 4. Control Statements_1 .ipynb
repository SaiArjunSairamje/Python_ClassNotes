{
  "nbformat": 4,
  "nbformat_minor": 0,
  "metadata": {
    "colab": {
      "provenance": [],
      "include_colab_link": true
    },
    "kernelspec": {
      "name": "python3",
      "display_name": "Python 3"
    },
    "language_info": {
      "name": "python"
    }
  },
  "cells": [
    {
      "cell_type": "markdown",
      "metadata": {
        "id": "view-in-github",
        "colab_type": "text"
      },
      "source": [
        "<a href=\"https://colab.research.google.com/github/SaiArjunSairamje/Python_ClassNotes/blob/main/4.%20Control%20Statements_1%20.ipynb\" target=\"_parent\"><img src=\"https://colab.research.google.com/assets/colab-badge.svg\" alt=\"Open In Colab\"/></a>"
      ]
    },
    {
      "cell_type": "markdown",
      "source": [
        "## **Content**\n",
        "\n",
        "* **Logical Operators (`AND, OR, NOT`)**\n",
        "* **Control Statement**\n",
        "  - **If-Else**\n",
        "  - **`Control Flow Chart`**\n",
        "  - **If-elif-else**"
      ],
      "metadata": {
        "id": "xoMdEMqgJZ9w"
      }
    },
    {
      "cell_type": "code",
      "execution_count": null,
      "metadata": {
        "colab": {
          "base_uri": "https://localhost:8080/"
        },
        "id": "LfmBS98DWsZt",
        "outputId": "c018fbe7-cf0c-45d3-8d0c-0c156b22b708"
      },
      "outputs": [
        {
          "output_type": "stream",
          "name": "stdout",
          "text": [
            "Hello world!\n"
          ]
        }
      ],
      "source": [
        "print(\"Hello world!\")"
      ]
    },
    {
      "cell_type": "code",
      "source": [
        "54 <= 67 #conditional statement"
      ],
      "metadata": {
        "colab": {
          "base_uri": "https://localhost:8080/"
        },
        "id": "cogmmuo5Wyqz",
        "outputId": "a52d95dd-126c-4a70-b1e9-6e98007cb73a"
      },
      "execution_count": null,
      "outputs": [
        {
          "output_type": "execute_result",
          "data": {
            "text/plain": [
              "True"
            ]
          },
          "metadata": {},
          "execution_count": 2
        }
      ]
    },
    {
      "cell_type": "code",
      "source": [
        "#OR operator\n",
        "\n",
        "a = 10"
      ],
      "metadata": {
        "id": "BPhhR9bibggZ"
      },
      "execution_count": null,
      "outputs": []
    },
    {
      "cell_type": "code",
      "source": [
        "a >5 or a==20 or a<2"
      ],
      "metadata": {
        "colab": {
          "base_uri": "https://localhost:8080/"
        },
        "id": "hSikPfQjbn6e",
        "outputId": "c512bb35-fc72-4a97-bfa0-1937503592c8"
      },
      "execution_count": null,
      "outputs": [
        {
          "output_type": "execute_result",
          "data": {
            "text/plain": [
              "True"
            ]
          },
          "metadata": {},
          "execution_count": 4
        }
      ]
    },
    {
      "cell_type": "code",
      "source": [
        "a <5 or a==20 or a<2"
      ],
      "metadata": {
        "colab": {
          "base_uri": "https://localhost:8080/"
        },
        "id": "nYhxo-_4bztG",
        "outputId": "2a7d8102-468f-480e-a52b-6e3c79d796d4"
      },
      "execution_count": null,
      "outputs": [
        {
          "output_type": "execute_result",
          "data": {
            "text/plain": [
              "False"
            ]
          },
          "metadata": {},
          "execution_count": 5
        }
      ]
    },
    {
      "cell_type": "code",
      "source": [
        "#And operator"
      ],
      "metadata": {
        "id": "yyqz__cSb6rP"
      },
      "execution_count": null,
      "outputs": []
    },
    {
      "cell_type": "code",
      "source": [
        "a >5 and a==20 and a<2"
      ],
      "metadata": {
        "colab": {
          "base_uri": "https://localhost:8080/"
        },
        "id": "W3zXHpktcCWc",
        "outputId": "76a61a21-3aa4-4cd8-9bc5-d23fa448f304"
      },
      "execution_count": null,
      "outputs": [
        {
          "output_type": "execute_result",
          "data": {
            "text/plain": [
              "False"
            ]
          },
          "metadata": {},
          "execution_count": 6
        }
      ]
    },
    {
      "cell_type": "code",
      "source": [
        "a=10\n",
        "a >5 and a>7 and a<100"
      ],
      "metadata": {
        "colab": {
          "base_uri": "https://localhost:8080/"
        },
        "id": "8MV2xWU9cMps",
        "outputId": "e7e04443-c950-47df-88e2-de9d0899f473"
      },
      "execution_count": null,
      "outputs": [
        {
          "output_type": "execute_result",
          "data": {
            "text/plain": [
              "True"
            ]
          },
          "metadata": {},
          "execution_count": 7
        }
      ]
    },
    {
      "cell_type": "code",
      "source": [
        "10 < 5"
      ],
      "metadata": {
        "colab": {
          "base_uri": "https://localhost:8080/"
        },
        "id": "Vi50ncqAcVxZ",
        "outputId": "0bdcf850-a367-4eb4-a593-6ae72541f260"
      },
      "execution_count": null,
      "outputs": [
        {
          "output_type": "execute_result",
          "data": {
            "text/plain": [
              "False"
            ]
          },
          "metadata": {},
          "execution_count": 8
        }
      ]
    },
    {
      "cell_type": "code",
      "source": [
        "not (10<5)"
      ],
      "metadata": {
        "colab": {
          "base_uri": "https://localhost:8080/"
        },
        "id": "R4oEObkjcxvF",
        "outputId": "1c2f801a-bec8-4f2d-d30a-cd161679559f"
      },
      "execution_count": null,
      "outputs": [
        {
          "output_type": "execute_result",
          "data": {
            "text/plain": [
              "True"
            ]
          },
          "metadata": {},
          "execution_count": 9
        }
      ]
    },
    {
      "cell_type": "code",
      "source": [
        "not (5==5)"
      ],
      "metadata": {
        "colab": {
          "base_uri": "https://localhost:8080/"
        },
        "id": "qs3JvFZGc0Vl",
        "outputId": "f6dbc10e-a0ec-449d-cb2e-c77447ea4460"
      },
      "execution_count": null,
      "outputs": [
        {
          "output_type": "execute_result",
          "data": {
            "text/plain": [
              "False"
            ]
          },
          "metadata": {},
          "execution_count": 10
        }
      ]
    },
    {
      "cell_type": "code",
      "source": [
        "a = 10\n",
        "not (a>5 and a>7)"
      ],
      "metadata": {
        "colab": {
          "base_uri": "https://localhost:8080/"
        },
        "id": "mQYO3gzPc5-M",
        "outputId": "c3fb1864-b5c4-42d4-dd38-3b68199cabe2"
      },
      "execution_count": null,
      "outputs": [
        {
          "output_type": "execute_result",
          "data": {
            "text/plain": [
              "False"
            ]
          },
          "metadata": {},
          "execution_count": 11
        }
      ]
    },
    {
      "cell_type": "code",
      "source": [
        "#example of control flow - using if-else statement"
      ],
      "metadata": {
        "id": "3Jp8QMcDdEf6"
      },
      "execution_count": null,
      "outputs": []
    },
    {
      "cell_type": "code",
      "source": [
        "n = 5"
      ],
      "metadata": {
        "id": "B9sO46PrdltG"
      },
      "execution_count": null,
      "outputs": []
    },
    {
      "cell_type": "code",
      "source": [
        "n%2 == 0"
      ],
      "metadata": {
        "colab": {
          "base_uri": "https://localhost:8080/"
        },
        "id": "6IyvOKO6dmtw",
        "outputId": "405b15cd-566b-499a-9963-03812813bf63"
      },
      "execution_count": null,
      "outputs": [
        {
          "output_type": "execute_result",
          "data": {
            "text/plain": [
              "False"
            ]
          },
          "metadata": {},
          "execution_count": 14
        }
      ]
    },
    {
      "cell_type": "code",
      "source": [
        "n = 5\n",
        "\n",
        "if n%2 == 0:\n",
        "  print(\"even\")\n",
        "else:\n",
        "  print(\"odd\")"
      ],
      "metadata": {
        "colab": {
          "base_uri": "https://localhost:8080/"
        },
        "id": "pTS-T9bAduib",
        "outputId": "b81f38d8-84d9-4820-af26-dd32731c4dc0"
      },
      "execution_count": null,
      "outputs": [
        {
          "output_type": "stream",
          "name": "stdout",
          "text": [
            "odd\n"
          ]
        }
      ]
    },
    {
      "cell_type": "code",
      "source": [
        "n = 6\n",
        "\n",
        "if n%2 == 0:\n",
        "  print(\"even\")\n",
        "else:\n",
        "  print(\"odd\")"
      ],
      "metadata": {
        "colab": {
          "base_uri": "https://localhost:8080/"
        },
        "id": "JVa8Kw1DfWog",
        "outputId": "571213d5-425a-4730-caf1-78e4ab8640fc"
      },
      "execution_count": null,
      "outputs": [
        {
          "output_type": "stream",
          "name": "stdout",
          "text": [
            "even\n"
          ]
        }
      ]
    },
    {
      "cell_type": "code",
      "source": [
        "if 56 < 60:\n",
        "  print(\"1\")\n",
        "  print(\"2\")\n",
        "else:\n",
        "  print(\"3\")"
      ],
      "metadata": {
        "colab": {
          "base_uri": "https://localhost:8080/"
        },
        "id": "WRqN4JxBffb1",
        "outputId": "da5e2d3a-2f3e-4cf3-c79f-ef870b1de3ef"
      },
      "execution_count": null,
      "outputs": [
        {
          "output_type": "stream",
          "name": "stdout",
          "text": [
            "1\n",
            "2\n"
          ]
        }
      ]
    },
    {
      "cell_type": "code",
      "source": [
        "if 56 > 60:\n",
        "  print(\"1\")\n",
        "  print(\"2\")\n",
        "else:\n",
        "  print(\"3\")"
      ],
      "metadata": {
        "colab": {
          "base_uri": "https://localhost:8080/"
        },
        "id": "ktM9oE68gFVP",
        "outputId": "a584d1ed-322a-4add-b7d5-06b679d3a379"
      },
      "execution_count": null,
      "outputs": [
        {
          "output_type": "stream",
          "name": "stdout",
          "text": [
            "3\n"
          ]
        }
      ]
    },
    {
      "cell_type": "code",
      "source": [
        "print(\"0\")\n",
        "\n",
        "if 56 < 60:\n",
        "  print(\"1\")\n",
        "  print(\"2\")\n",
        "else:\n",
        "  print(\"3\")\n",
        "  print(\"4\")\n",
        "\n",
        "print(\"5\")"
      ],
      "metadata": {
        "colab": {
          "base_uri": "https://localhost:8080/"
        },
        "id": "h1mQRFwggQi4",
        "outputId": "4f171cfb-fad6-4d6c-d89a-1fe3f9bd84e3"
      },
      "execution_count": null,
      "outputs": [
        {
          "output_type": "stream",
          "name": "stdout",
          "text": [
            "0\n",
            "1\n",
            "2\n",
            "5\n"
          ]
        }
      ]
    },
    {
      "cell_type": "code",
      "source": [
        "print(\"0\")\n",
        "\n",
        "if 56 > 60:\n",
        "  print(\"1\")\n",
        "  print(\"2\")\n",
        "else:\n",
        "  print(\"3\")\n",
        "  print(\"4\")\n",
        "\n",
        "print(\"5\")"
      ],
      "metadata": {
        "colab": {
          "base_uri": "https://localhost:8080/"
        },
        "id": "JEC3ljVgh4lD",
        "outputId": "108962b3-bf4b-4169-9577-964398f6da41"
      },
      "execution_count": null,
      "outputs": [
        {
          "output_type": "stream",
          "name": "stdout",
          "text": [
            "0\n",
            "3\n",
            "4\n",
            "5\n"
          ]
        }
      ]
    },
    {
      "cell_type": "code",
      "source": [
        "#notes + explanation"
      ],
      "metadata": {
        "id": "A8CYGuP2iWNw"
      },
      "execution_count": null,
      "outputs": []
    },
    {
      "cell_type": "code",
      "source": [
        "#run these always - because it is NOT part of the if-else block\n",
        "\n",
        "if condition:\n",
        "  #run this block of code ONLY when the condition is True\n",
        "else:\n",
        "  #run this block of code only when the condition is False\n",
        "\n",
        "\n",
        "#run these always- because it is NOT the part of the if-else block"
      ],
      "metadata": {
        "id": "0oE0dT-sidWm"
      },
      "execution_count": null,
      "outputs": []
    },
    {
      "cell_type": "code",
      "source": [
        "a = int(input())\n",
        "\n",
        "result = a**2\n",
        "\n",
        "if result > 25:\n",
        "  print(\"It's inside if-block\")\n",
        "else:\n",
        "  print(\"It's inside else-block\")\n",
        "\n",
        "\n",
        "print(\"outside if-else block\")"
      ],
      "metadata": {
        "colab": {
          "base_uri": "https://localhost:8080/"
        },
        "id": "bEuFfj30jI0E",
        "outputId": "926738a8-59a6-45ad-f9e6-89ac3b1f0aab"
      },
      "execution_count": null,
      "outputs": [
        {
          "output_type": "stream",
          "name": "stdout",
          "text": [
            "4\n",
            "It's inside else-block\n",
            "outside if-else block\n"
          ]
        }
      ]
    },
    {
      "cell_type": "code",
      "source": [
        "a = int(input())\n",
        "\n",
        "result = a**2\n",
        "\n",
        "if result > 25:\n",
        "  print(\"It's inside if-block\")\n",
        "else:\n",
        "  print(\"It's inside else-block\")\n",
        "\n",
        "\n",
        "print(\"outside if-else block\")"
      ],
      "metadata": {
        "colab": {
          "base_uri": "https://localhost:8080/"
        },
        "id": "K_RG8qLejGu1",
        "outputId": "4a5da494-118d-4947-f87b-3fce79a86205"
      },
      "execution_count": null,
      "outputs": [
        {
          "output_type": "stream",
          "name": "stdout",
          "text": [
            "7\n",
            "It's inside if-block\n",
            "outside if-else block\n"
          ]
        }
      ]
    },
    {
      "cell_type": "code",
      "source": [
        "a = int(input())\n",
        "\n",
        "result = a**2\n",
        "\n",
        "if result > 25:\n",
        "  print(\"It's inside if-block\")\n",
        "else:\n",
        "  print(\"It's inside else-block\")\n",
        "\n",
        "\n",
        "print(\"outside if-else block\")"
      ],
      "metadata": {
        "colab": {
          "base_uri": "https://localhost:8080/"
        },
        "id": "l1dar34Akj99",
        "outputId": "a0a0f4b5-18ed-4902-a620-cc8270783a18"
      },
      "execution_count": null,
      "outputs": [
        {
          "output_type": "stream",
          "name": "stdout",
          "text": [
            "5\n",
            "It's inside else-block\n",
            "outside if-else block\n"
          ]
        }
      ]
    },
    {
      "cell_type": "code",
      "source": [
        "'''\n",
        "Write a program which takes a student's marks as input.\n",
        "Print \"Pass\" if marks are more than 35\n",
        "Print \"you can do better\" otherwise\n",
        "'''"
      ],
      "metadata": {
        "id": "-62uJOOxkx7N"
      },
      "execution_count": null,
      "outputs": []
    },
    {
      "cell_type": "code",
      "source": [
        "marks = int(input())\n",
        "\n",
        "if marks > 35:\n",
        "  print(\"Pass\")\n",
        "else:\n",
        "  print(\"you can do better\")\n"
      ],
      "metadata": {
        "colab": {
          "base_uri": "https://localhost:8080/"
        },
        "id": "FL1AxIeZpJIE",
        "outputId": "57ce6fa2-d975-491d-fea1-b977377cf108"
      },
      "execution_count": null,
      "outputs": [
        {
          "output_type": "stream",
          "name": "stdout",
          "text": [
            "35\n",
            "you can do better\n"
          ]
        }
      ]
    },
    {
      "cell_type": "code",
      "source": [
        "3"
      ],
      "metadata": {
        "colab": {
          "base_uri": "https://localhost:8080/"
        },
        "id": "ipQLx7ZEpZhg",
        "outputId": "3df91584-23bc-4c61-ee71-a6834cd0d732"
      },
      "execution_count": null,
      "outputs": [
        {
          "output_type": "execute_result",
          "data": {
            "text/plain": [
              "3"
            ]
          },
          "metadata": {},
          "execution_count": 29
        }
      ]
    },
    {
      "cell_type": "code",
      "source": [
        "marks = int(input())\n",
        "\n",
        "if marks > 95:\n",
        "  print(\"A\")\n",
        "else:\n",
        "  if marks >= 70 and marks <=95:\n",
        "    print(\"B\")\n",
        "  else:\n",
        "    if marks >= 30 and marks <= 69:\n",
        "      print(\"C\")\n",
        "    else:\n",
        "      print(\"D\")"
      ],
      "metadata": {
        "colab": {
          "base_uri": "https://localhost:8080/"
        },
        "id": "iOhIhVEepkth",
        "outputId": "2ff8e68e-eec0-4972-c7f4-d30a8093f813"
      },
      "execution_count": null,
      "outputs": [
        {
          "output_type": "stream",
          "name": "stdout",
          "text": [
            "15\n",
            "D\n"
          ]
        }
      ]
    },
    {
      "cell_type": "code",
      "source": [
        "marks = int(input())\n",
        "\n",
        "if marks > 95:\n",
        "  print(\"A\")\n",
        "elif marks >= 70 and marks <=95:\n",
        "  print(\"B\")\n",
        "elif marks >= 30 and marks <= 69:\n",
        "  print(\"C\")\n",
        "else:\n",
        "  print(\"D\")"
      ],
      "metadata": {
        "colab": {
          "base_uri": "https://localhost:8080/"
        },
        "id": "M1DjjEnttEmS",
        "outputId": "6794d1d7-1b3d-46c8-f26c-1c404f54c4da"
      },
      "execution_count": null,
      "outputs": [
        {
          "output_type": "stream",
          "name": "stdout",
          "text": [
            "22\n",
            "D\n"
          ]
        }
      ]
    },
    {
      "cell_type": "code",
      "source": [
        "marks = 75"
      ],
      "metadata": {
        "id": "6vx-H2oit9rz"
      },
      "execution_count": null,
      "outputs": []
    },
    {
      "cell_type": "code",
      "source": [
        "marks >= 70 and marks <=95"
      ],
      "metadata": {
        "colab": {
          "base_uri": "https://localhost:8080/"
        },
        "id": "lMIsT7iuvG23",
        "outputId": "a70302f4-f833-434c-f80b-48c45057245d"
      },
      "execution_count": null,
      "outputs": [
        {
          "output_type": "execute_result",
          "data": {
            "text/plain": [
              "True"
            ]
          },
          "metadata": {},
          "execution_count": 39
        }
      ]
    },
    {
      "cell_type": "code",
      "source": [
        "70 <= marks <= 95"
      ],
      "metadata": {
        "colab": {
          "base_uri": "https://localhost:8080/"
        },
        "id": "IKWLc3uBvKio",
        "outputId": "cf57cf54-6778-46c2-9b24-cfc5d067b456"
      },
      "execution_count": null,
      "outputs": [
        {
          "output_type": "execute_result",
          "data": {
            "text/plain": [
              "True"
            ]
          },
          "metadata": {},
          "execution_count": 41
        }
      ]
    },
    {
      "cell_type": "code",
      "source": [
        "marks >= 30 and marks <= 69"
      ],
      "metadata": {
        "colab": {
          "base_uri": "https://localhost:8080/"
        },
        "id": "sS98bBCovaij",
        "outputId": "c16e79e6-6bb7-4f41-f8c4-823ee7902048"
      },
      "execution_count": null,
      "outputs": [
        {
          "output_type": "execute_result",
          "data": {
            "text/plain": [
              "False"
            ]
          },
          "metadata": {},
          "execution_count": 42
        }
      ]
    },
    {
      "cell_type": "code",
      "source": [
        "30 <= marks <= 69"
      ],
      "metadata": {
        "colab": {
          "base_uri": "https://localhost:8080/"
        },
        "id": "_w1awgycv1b5",
        "outputId": "c5bc62d0-101f-41f2-b46d-c94bed7710df"
      },
      "execution_count": null,
      "outputs": [
        {
          "output_type": "execute_result",
          "data": {
            "text/plain": [
              "False"
            ]
          },
          "metadata": {},
          "execution_count": 45
        }
      ]
    },
    {
      "cell_type": "code",
      "source": [
        "#cuter version\n",
        "\n",
        "marks = int(input())\n",
        "\n",
        "if marks > 95:\n",
        "  print(\"A\")\n",
        "elif 70 <= marks <= 95:\n",
        "  print(\"B\")\n",
        "elif 30 <= marks <= 69:\n",
        "  print(\"C\")\n",
        "else:\n",
        "  print(\"D\")"
      ],
      "metadata": {
        "colab": {
          "base_uri": "https://localhost:8080/"
        },
        "id": "FX1wzkzyv7mS",
        "outputId": "a6ba8986-90b7-42e3-e75a-18330d1a0cdc"
      },
      "execution_count": null,
      "outputs": [
        {
          "output_type": "stream",
          "name": "stdout",
          "text": [
            "6\n",
            "D\n"
          ]
        }
      ]
    },
    {
      "cell_type": "code",
      "source": [
        "#extra knowledge - most amazing way to write this code\n",
        "\n",
        "marks = int(input())\n",
        "\n",
        "if marks > 95:\n",
        "  print(\"A\")\n",
        "elif 70 <= marks:\n",
        "  print(\"B\")\n",
        "elif 30 <= marks:\n",
        "  print(\"C\")\n",
        "else:\n",
        "  print(\"D\")"
      ],
      "metadata": {
        "colab": {
          "base_uri": "https://localhost:8080/"
        },
        "id": "kwCGzhkhwhsJ",
        "outputId": "6850f04f-a2af-4f4b-a93d-89b31448b4c6"
      },
      "execution_count": null,
      "outputs": [
        {
          "output_type": "stream",
          "name": "stdout",
          "text": [
            "10\n",
            "D\n"
          ]
        }
      ]
    },
    {
      "cell_type": "code",
      "source": [],
      "metadata": {
        "id": "wj7ct6rByLZP"
      },
      "execution_count": null,
      "outputs": []
    }
  ]
}