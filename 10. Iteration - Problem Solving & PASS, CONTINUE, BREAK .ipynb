{
  "nbformat": 4,
  "nbformat_minor": 0,
  "metadata": {
    "colab": {
      "provenance": [],
      "include_colab_link": true
    },
    "kernelspec": {
      "name": "python3",
      "display_name": "Python 3"
    },
    "language_info": {
      "name": "python"
    }
  },
  "cells": [
    {
      "cell_type": "markdown",
      "metadata": {
        "id": "view-in-github",
        "colab_type": "text"
      },
      "source": [
        "<a href=\"https://colab.research.google.com/github/SaiArjunSairamje/Python_ClassNotes/blob/main/10.%20Iteration%20-%20Problem%20Solving%20%26%20PASS%2C%20CONTINUE%2C%20BREAK%20.ipynb\" target=\"_parent\"><img src=\"https://colab.research.google.com/assets/colab-badge.svg\" alt=\"Open In Colab\"/></a>"
      ]
    },
    {
      "cell_type": "markdown",
      "source": [
        "**Contenet**\n",
        "* Assignments Q's\n",
        "* **Pass**\n",
        "* **Continute**\n",
        "* **Break**"
      ],
      "metadata": {
        "id": "LZuIKF-U91bX"
      }
    },
    {
      "cell_type": "code",
      "execution_count": null,
      "metadata": {
        "colab": {
          "base_uri": "https://localhost:8080/"
        },
        "id": "tyUSYC-1MS5c",
        "outputId": "aa6b8b15-e1a9-47f9-ce68-fd03d431fab1"
      },
      "outputs": [
        {
          "output_type": "stream",
          "name": "stdout",
          "text": [
            "Hows the josh?\n"
          ]
        }
      ],
      "source": [
        "print(\"Hows the josh?\")"
      ]
    },
    {
      "cell_type": "code",
      "source": [
        "# pass\n",
        "# continue\n",
        "# break"
      ],
      "metadata": {
        "id": "L8-vojs9MZHY"
      },
      "execution_count": null,
      "outputs": []
    },
    {
      "cell_type": "code",
      "source": [
        "def main():\n",
        "    # YOUR CODE GOES HERE\n",
        "    # Please take input and print output to standard input/output (stdin/stdout)\n",
        "    # E.g. 'input()/raw_input()' for input & 'print' for output\n",
        "\n",
        "    t = int(input())\n",
        "\n",
        "    i = 1\n",
        "\n",
        "    while(i<=t):\n",
        "\n",
        "        n = int(input())\n",
        "        count = 0\n",
        "\n",
        "        while(n != 0 ):\n",
        "            count += 1\n",
        "            n = n//10\n",
        "\n",
        "        print(count)\n",
        "        i += 1\n",
        "    return 0\n",
        "\n",
        "\n",
        "#this code is not handling the edge case which is when n=0, when n=0, we print 0 whereas the ans is 1\n",
        "if __name__ == '__main__':\n",
        "    main()"
      ],
      "metadata": {
        "id": "cPW9LyZxMlzW"
      },
      "execution_count": null,
      "outputs": []
    },
    {
      "cell_type": "code",
      "source": [
        "# The code that handles the edge case as well\n",
        "\n",
        "\n",
        "def main():\n",
        "    # YOUR CODE GOES HERE\n",
        "    # Please take input and print output to standard input/output (stdin/stdout)\n",
        "    # E.g. 'input()/raw_input()' for input & 'print' for output\n",
        "\n",
        "    t = int(input())\n",
        "\n",
        "    i = 1\n",
        "\n",
        "    while(i<=t):\n",
        "\n",
        "        n = int(input())\n",
        "        count = 0\n",
        "\n",
        "        if n==0:\n",
        "            count = 1\n",
        "        else:\n",
        "\n",
        "            while(n != 0 ):\n",
        "                count += 1\n",
        "                n = n//10\n",
        "\n",
        "        print(count)\n",
        "        i += 1\n",
        "    return 0\n",
        "\n",
        "if __name__ == '__main__':\n",
        "    main()"
      ],
      "metadata": {
        "id": "AYaApdvUSF-r"
      },
      "execution_count": null,
      "outputs": []
    },
    {
      "cell_type": "code",
      "source": [
        "    t = int(input())\n",
        "\n",
        "    i = 1\n",
        "\n",
        "    while(i<=t):\n",
        "\n",
        "        n = int(input())\n",
        "        count = 0\n",
        "\n",
        "        if n==0:\n",
        "            count = 1\n",
        "       else:\n",
        "        while(n != 0 ):\n",
        "            count += 1\n",
        "            n = n//10\n",
        "\n",
        "        print(count)\n",
        "        i += 1\n",
        "    return 0"
      ],
      "metadata": {
        "id": "WgjhV-k1S8J6"
      },
      "execution_count": null,
      "outputs": []
    },
    {
      "cell_type": "code",
      "source": [
        "#sum of all the digits of a number\n",
        "\n",
        "def main():\n",
        "    # YOUR CODE GOES HERE\n",
        "    # Please take input and print output to standard input/output (stdin/stdout)\n",
        "    # E.g. 'input()/raw_input()' for input & 'print' for output\n",
        "\n",
        "    t = int(input())\n",
        "\n",
        "    i = 1\n",
        "\n",
        "    while(i<=t):\n",
        "\n",
        "        #the task is  to take an integer as input and count the sum of digits in it\n",
        "\n",
        "        n = int(input())\n",
        "\n",
        "        sum = 0\n",
        "\n",
        "        while(n != 0):\n",
        "\n",
        "            last_digit = n % 10\n",
        "            sum += last_digit\n",
        "            n = n//10\n",
        "\n",
        "        print(sum)\n",
        "        i += 1\n",
        "\n",
        "\n",
        "    return 0\n",
        "\n",
        "if __name__ == '__main__':\n",
        "    main()"
      ],
      "metadata": {
        "id": "y8F_zZimYHLO"
      },
      "execution_count": null,
      "outputs": []
    },
    {
      "cell_type": "code",
      "source": [
        "#pass keyword"
      ],
      "metadata": {
        "id": "ClZdbj-SbL_3"
      },
      "execution_count": null,
      "outputs": []
    },
    {
      "cell_type": "code",
      "source": [
        "for i in range(1,6):\n",
        "  print(i)"
      ],
      "metadata": {
        "colab": {
          "base_uri": "https://localhost:8080/"
        },
        "id": "nilMJkb2bNIM",
        "outputId": "31345442-2422-45eb-bfa9-8b28d22a91ec"
      },
      "execution_count": null,
      "outputs": [
        {
          "output_type": "stream",
          "name": "stdout",
          "text": [
            "1\n",
            "2\n",
            "3\n",
            "4\n",
            "5\n"
          ]
        }
      ]
    },
    {
      "cell_type": "code",
      "source": [
        "for i in range(1,6):\n",
        "\n",
        "  if i==3:\n",
        "\n",
        "\n",
        "  print(i)"
      ],
      "metadata": {
        "colab": {
          "base_uri": "https://localhost:8080/",
          "height": 131
        },
        "id": "b2KzmcHzbU9Q",
        "outputId": "34c13acf-6c75-41ca-d5fc-fd0c0ef1aae0"
      },
      "execution_count": null,
      "outputs": [
        {
          "output_type": "error",
          "ename": "IndentationError",
          "evalue": "ignored",
          "traceback": [
            "\u001b[0;36m  File \u001b[0;32m\"<ipython-input-10-f9b366d53955>\"\u001b[0;36m, line \u001b[0;32m6\u001b[0m\n\u001b[0;31m    print(i)\u001b[0m\n\u001b[0m        ^\u001b[0m\n\u001b[0;31mIndentationError\u001b[0m\u001b[0;31m:\u001b[0m expected an indented block\n"
          ]
        }
      ]
    },
    {
      "cell_type": "code",
      "source": [
        "for i in range(1,6):\n",
        "\n",
        "  if i==3:\n",
        "    pass\n",
        "\n",
        "  print(i)"
      ],
      "metadata": {
        "colab": {
          "base_uri": "https://localhost:8080/"
        },
        "id": "dI2B2cPrbeEX",
        "outputId": "8df688c3-2e46-4dd2-ede2-df9bb1c3e635"
      },
      "execution_count": null,
      "outputs": [
        {
          "output_type": "stream",
          "name": "stdout",
          "text": [
            "1\n",
            "2\n",
            "3\n",
            "4\n",
            "5\n"
          ]
        }
      ]
    },
    {
      "cell_type": "code",
      "source": [
        "for i in range(3,7):\n",
        "\n",
        "  if i==8:\n",
        "    pass\n",
        "\n",
        "  print(i, end = \" \")"
      ],
      "metadata": {
        "colab": {
          "base_uri": "https://localhost:8080/"
        },
        "id": "eP-jTKg5b3or",
        "outputId": "e866eabd-57ba-4896-a423-23212387ebb2"
      },
      "execution_count": null,
      "outputs": [
        {
          "output_type": "stream",
          "name": "stdout",
          "text": [
            "3 4 5 6 "
          ]
        }
      ]
    },
    {
      "cell_type": "code",
      "source": [
        "for i in range(3,7):\n",
        "\n",
        "  if i==3:\n",
        "    pass\n",
        "    print(3)\n",
        "\n",
        "  print(i, end = \" \")"
      ],
      "metadata": {
        "colab": {
          "base_uri": "https://localhost:8080/"
        },
        "id": "ppCBN83xcMQU",
        "outputId": "adf29206-f719-42e5-effd-f50e94130b39"
      },
      "execution_count": null,
      "outputs": [
        {
          "output_type": "stream",
          "name": "stdout",
          "text": [
            "3\n",
            "3 4 5 6 "
          ]
        }
      ]
    },
    {
      "cell_type": "code",
      "source": [
        "#continue statement"
      ],
      "metadata": {
        "id": "IGlspxwCcVQE"
      },
      "execution_count": null,
      "outputs": []
    },
    {
      "cell_type": "code",
      "source": [
        "for i in range(1,6):\n",
        "\n",
        "  if i==3:\n",
        "    continue #continue to the next iteration without going any further in your loop\n",
        "\n",
        "  print(i)"
      ],
      "metadata": {
        "colab": {
          "base_uri": "https://localhost:8080/"
        },
        "id": "Ayhe7QYQdFQG",
        "outputId": "ab10bf51-71bd-4612-818b-5b3e1865b65e"
      },
      "execution_count": null,
      "outputs": [
        {
          "output_type": "stream",
          "name": "stdout",
          "text": [
            "1\n",
            "2\n",
            "4\n",
            "5\n"
          ]
        }
      ]
    },
    {
      "cell_type": "code",
      "source": [
        "for i in range(1,6):\n",
        "\n",
        "  if i==8:\n",
        "    continue\n",
        "\n",
        "  print(i)"
      ],
      "metadata": {
        "colab": {
          "base_uri": "https://localhost:8080/"
        },
        "id": "u5FG6FOUdHe6",
        "outputId": "7b0d839a-2e72-4e7e-c0fb-e353d4cc84bd"
      },
      "execution_count": null,
      "outputs": [
        {
          "output_type": "stream",
          "name": "stdout",
          "text": [
            "1\n",
            "2\n",
            "3\n",
            "4\n",
            "5\n"
          ]
        }
      ]
    },
    {
      "cell_type": "code",
      "source": [
        "count = 0\n",
        "for i in range(1,6):\n",
        "  count += 1\n",
        "  continue\n",
        "  print(i)"
      ],
      "metadata": {
        "id": "Dn5U8ThWdt2P"
      },
      "execution_count": null,
      "outputs": []
    },
    {
      "cell_type": "code",
      "source": [
        "print(count)"
      ],
      "metadata": {
        "colab": {
          "base_uri": "https://localhost:8080/"
        },
        "id": "fjh_QhyHd61F",
        "outputId": "2e322a6f-bcbb-4176-ff9d-aa4459521093"
      },
      "execution_count": null,
      "outputs": [
        {
          "output_type": "stream",
          "name": "stdout",
          "text": [
            "5\n"
          ]
        }
      ]
    },
    {
      "cell_type": "code",
      "source": [
        "count = 0\n",
        "for i in range(1,6):\n",
        "  if i==1 or i == 3:\n",
        "    continue\n",
        "\n",
        "  print(i)"
      ],
      "metadata": {
        "colab": {
          "base_uri": "https://localhost:8080/"
        },
        "id": "8aQT79bBeXwo",
        "outputId": "0d331db6-c21b-428b-82cd-9159aaab5681"
      },
      "execution_count": null,
      "outputs": [
        {
          "output_type": "stream",
          "name": "stdout",
          "text": [
            "2\n",
            "4\n",
            "5\n"
          ]
        }
      ]
    },
    {
      "cell_type": "code",
      "source": [
        "for i in range(5):\n",
        "\n",
        "  if i==3:\n",
        "    pass\n",
        "\n",
        "  print(i)"
      ],
      "metadata": {
        "colab": {
          "base_uri": "https://localhost:8080/"
        },
        "id": "OQF2c1nke-Dj",
        "outputId": "cb4f8bfe-a154-4283-ee75-7213e99e1b85"
      },
      "execution_count": null,
      "outputs": [
        {
          "output_type": "stream",
          "name": "stdout",
          "text": [
            "0\n",
            "1\n",
            "2\n",
            "3\n",
            "4\n"
          ]
        }
      ]
    },
    {
      "cell_type": "code",
      "source": [
        "print(list(range(5)))"
      ],
      "metadata": {
        "colab": {
          "base_uri": "https://localhost:8080/"
        },
        "id": "kDRJXachfa0m",
        "outputId": "9b385dd8-38dd-4a76-abd4-6cd0352f4277"
      },
      "execution_count": null,
      "outputs": [
        {
          "output_type": "stream",
          "name": "stdout",
          "text": [
            "[0, 1, 2, 3, 4]\n"
          ]
        }
      ]
    },
    {
      "cell_type": "code",
      "source": [
        "for i in range(5):\n",
        "\n",
        "  if i==3:\n",
        "    continue\n",
        "\n",
        "  print(i)"
      ],
      "metadata": {
        "colab": {
          "base_uri": "https://localhost:8080/"
        },
        "id": "XOd5ksivfcWx",
        "outputId": "14cb8cf1-3503-4250-b58c-3c60adbde44a"
      },
      "execution_count": null,
      "outputs": [
        {
          "output_type": "stream",
          "name": "stdout",
          "text": [
            "0\n",
            "1\n",
            "2\n",
            "4\n"
          ]
        }
      ]
    },
    {
      "cell_type": "code",
      "source": [
        "#break"
      ],
      "metadata": {
        "id": "kBc3vNt_fkLo"
      },
      "execution_count": null,
      "outputs": []
    },
    {
      "cell_type": "code",
      "source": [
        "for i in range(5):\n",
        "\n",
        "  if i==3:\n",
        "    break #break the loop - get out of the loop\n",
        "\n",
        "  print(i)"
      ],
      "metadata": {
        "colab": {
          "base_uri": "https://localhost:8080/"
        },
        "id": "53lWiUtNfslW",
        "outputId": "88b98aa6-da44-452b-e4d6-0acf032243ba"
      },
      "execution_count": null,
      "outputs": [
        {
          "output_type": "stream",
          "name": "stdout",
          "text": [
            "0\n",
            "1\n",
            "2\n"
          ]
        }
      ]
    },
    {
      "cell_type": "code",
      "source": [
        "print(\"AJ\")\n",
        "for i in range(5):\n",
        "\n",
        "  if i==3:\n",
        "    break #break the loop - get out of the loop\n",
        "\n",
        "  print(i)\n",
        "\n",
        "\n",
        "print(\"Outside the loop!!\")"
      ],
      "metadata": {
        "colab": {
          "base_uri": "https://localhost:8080/"
        },
        "id": "K3DYU_lAfwUB",
        "outputId": "b6417fa9-210c-4524-93dc-e07d10f32ba3"
      },
      "execution_count": null,
      "outputs": [
        {
          "output_type": "stream",
          "name": "stdout",
          "text": [
            "AJ\n",
            "0\n",
            "1\n",
            "2\n",
            "Outside the loop!!\n"
          ]
        }
      ]
    },
    {
      "cell_type": "code",
      "source": [
        "for i in range(10,15):\n",
        "\n",
        "  if i==10:\n",
        "    pass\n",
        "\n",
        "  print(i)"
      ],
      "metadata": {
        "colab": {
          "base_uri": "https://localhost:8080/"
        },
        "id": "vUOJLPSzgska",
        "outputId": "2421cb3b-cb65-4ccb-c3a8-ab87d987b71e"
      },
      "execution_count": null,
      "outputs": [
        {
          "output_type": "stream",
          "name": "stdout",
          "text": [
            "10\n",
            "11\n",
            "12\n",
            "13\n",
            "14\n"
          ]
        }
      ]
    },
    {
      "cell_type": "code",
      "source": [
        "for i in range(10,15):\n",
        "\n",
        "  if i==13:\n",
        "    continue\n",
        "\n",
        "  print(i)"
      ],
      "metadata": {
        "colab": {
          "base_uri": "https://localhost:8080/"
        },
        "id": "iUGy4DyhhIdx",
        "outputId": "44d85a4b-53fe-466f-a3dc-701822c955da"
      },
      "execution_count": null,
      "outputs": [
        {
          "output_type": "stream",
          "name": "stdout",
          "text": [
            "10\n",
            "11\n",
            "12\n",
            "14\n"
          ]
        }
      ]
    },
    {
      "cell_type": "code",
      "source": [
        "for i in range(10,15):\n",
        "\n",
        "  if i==13:\n",
        "    break\n",
        "\n",
        "  print(i)"
      ],
      "metadata": {
        "colab": {
          "base_uri": "https://localhost:8080/"
        },
        "id": "alKO9sK7hORK",
        "outputId": "97d83a9d-6cb0-4ecc-8da7-a628e7769c55"
      },
      "execution_count": null,
      "outputs": [
        {
          "output_type": "stream",
          "name": "stdout",
          "text": [
            "10\n",
            "11\n",
            "12\n"
          ]
        }
      ]
    },
    {
      "cell_type": "code",
      "source": [
        "a = int(input())\n",
        "i=1\n",
        "while i <= a:\n",
        "  print(i*i, end = \" \")\n",
        "  i += 1"
      ],
      "metadata": {
        "colab": {
          "base_uri": "https://localhost:8080/"
        },
        "id": "cUEydvUbhT7f",
        "outputId": "d8629957-a77f-4bb9-9a0c-a575c5d1aeb0"
      },
      "execution_count": null,
      "outputs": [
        {
          "output_type": "stream",
          "name": "stdout",
          "text": [
            "5\n",
            "1 4 9 16 25 "
          ]
        }
      ]
    },
    {
      "cell_type": "code",
      "source": [
        "a = int(input())\n",
        "i=1\n",
        "while i*i <= a:\n",
        "  print(i*i, end = \" \")\n",
        "  i += 1"
      ],
      "metadata": {
        "colab": {
          "base_uri": "https://localhost:8080/"
        },
        "id": "KyUb49_Zixd8",
        "outputId": "cd275c84-085e-47e3-a46a-b104c11299fa"
      },
      "execution_count": null,
      "outputs": [
        {
          "output_type": "stream",
          "name": "stdout",
          "text": [
            "5\n",
            "1 4 "
          ]
        }
      ]
    },
    {
      "cell_type": "code",
      "source": [
        "a = int(input())\n",
        "i=1\n",
        "while i <= a:\n",
        "\n",
        "  if i**2 <= a:\n",
        "    print(i*i, end = \" \")\n",
        "  i += 1"
      ],
      "metadata": {
        "colab": {
          "base_uri": "https://localhost:8080/"
        },
        "id": "HJXvssGujM5t",
        "outputId": "98b68bc3-3717-4028-8250-dc71cef58005"
      },
      "execution_count": null,
      "outputs": [
        {
          "output_type": "stream",
          "name": "stdout",
          "text": [
            "5\n",
            "1 4 "
          ]
        }
      ]
    },
    {
      "cell_type": "code",
      "source": [
        "a = int(input())\n",
        "i=1\n",
        "while i*i <= a:\n",
        "  print(i**2, end = \" \")\n",
        "  i += 1"
      ],
      "metadata": {
        "colab": {
          "base_uri": "https://localhost:8080/"
        },
        "id": "8xGSVStnjZbk",
        "outputId": "d7656383-e56b-4319-fead-696a15632636"
      },
      "execution_count": null,
      "outputs": [
        {
          "output_type": "stream",
          "name": "stdout",
          "text": [
            "9\n",
            "1 4 9 "
          ]
        }
      ]
    },
    {
      "cell_type": "code",
      "source": [],
      "metadata": {
        "id": "Q_VbuRyJk2eZ"
      },
      "execution_count": null,
      "outputs": []
    }
  ]
}