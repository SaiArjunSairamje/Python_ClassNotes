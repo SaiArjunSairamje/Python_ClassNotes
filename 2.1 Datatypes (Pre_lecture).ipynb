{
  "nbformat": 4,
  "nbformat_minor": 0,
  "metadata": {
    "colab": {
      "provenance": [],
      "authorship_tag": "ABX9TyOJYshM+iF+eKVd6sIa5SFV",
      "include_colab_link": true
    },
    "kernelspec": {
      "name": "python3",
      "display_name": "Python 3"
    },
    "language_info": {
      "name": "python"
    }
  },
  "cells": [
    {
      "cell_type": "markdown",
      "metadata": {
        "id": "view-in-github",
        "colab_type": "text"
      },
      "source": [
        "<a href=\"https://colab.research.google.com/github/SaiArjunSairamje/Python_ClassNotes/blob/main/2.1%20Datatypes%20(Pre_lecture).ipynb\" target=\"_parent\"><img src=\"https://colab.research.google.com/assets/colab-badge.svg\" alt=\"Open In Colab\"/></a>"
      ]
    },
    {
      "cell_type": "markdown",
      "source": [
        "# <center><ins>**Beginner: Data Types, Variables and Input**</ins></center>"
      ],
      "metadata": {
        "id": "oqVj4wFiSjq4"
      }
    },
    {
      "cell_type": "markdown",
      "source": [
        "## **Pre-lecture Content**\n",
        "\n",
        "**Data Types**\n",
        "***\n",
        "1. **Int**\n",
        "  * In Python, the **int** data type can represent all integers, positive or negative.\n",
        "  * **..., -2, -1, 0, 1, 2, ...** are all ints in Python.\n",
        "\n",
        "2. **Float**\n",
        "  * In Python, the **float** data type represents floating point numbers, positive or negative.\n",
        "  * **2.1, .2, 7., -90.234, 0.222321, 3.14** are all floats in Python.\n",
        "  * Even numbers like **2.0** that are whole numbers are considered floats because of the presence of the decimal point (the period).\n",
        "\n",
        "3. **String**\n",
        "  * The **str** data type represents a sequence of characters.\n",
        "  * In Python, they start and end with\n",
        "      - \" (double quote)\n",
        "      - ' (single quote)\n",
        "      - \"\"\" (triple double quotes)\n",
        "      - ''' (triple single quotes)\n",
        "  * The following are examples of valid Python strings,\n",
        "      - **\"hello\", \"2.0\", 'str', \"\"\"False\"\"\", '''true''**\n",
        "\n",
        "4. **Bool**\n",
        "  * In Python, the bool data type represents one of two values:\n",
        "      - **True**\n",
        "      - **False**\n",
        "\n",
        "**Variable**\n",
        "***\n",
        "\n",
        "  * A **variable** can be thought of as a container that stores a value.\n",
        "  * As a programmer, you can create your own variables that store different data types.\n",
        "  * The following is an example of a variable,\n",
        "    - **hello_world = \"this variable holds a string\"**\n",
        "  * In python, variable names must:\n",
        "    - not start with a number\n",
        "    - not contain any special characters other than underscores (_).\n",
        "    - not contain any spaces.\n",
        "\n",
        "**Input**\n",
        "***\n",
        "* The **input** function is built directly into Python as a means to gather user input from the command line.\n",
        "* An important note is that it will always return a **str** object which will need to be converted to an **int** (for example) if you expect the user input to be an integer.           \n",
        "    - **user_name = input()**            \n",
        "      **print(\"Hello\", user_name + \"!\")**"
      ],
      "metadata": {
        "id": "kdXoZdtWSqfv"
      }
    }
  ]
}