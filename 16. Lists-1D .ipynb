{
  "nbformat": 4,
  "nbformat_minor": 0,
  "metadata": {
    "colab": {
      "provenance": [],
      "include_colab_link": true
    },
    "kernelspec": {
      "name": "python3",
      "display_name": "Python 3"
    },
    "language_info": {
      "name": "python"
    }
  },
  "cells": [
    {
      "cell_type": "markdown",
      "metadata": {
        "id": "view-in-github",
        "colab_type": "text"
      },
      "source": [
        "<a href=\"https://colab.research.google.com/github/SaiArjunSairamje/Python_ClassNotes/blob/main/16.%20Lists-1D%20.ipynb\" target=\"_parent\"><img src=\"https://colab.research.google.com/assets/colab-badge.svg\" alt=\"Open In Colab\"/></a>"
      ]
    },
    {
      "cell_type": "markdown",
      "source": [
        "## **Content**\n",
        "* **Need for Data Structure**\n",
        "* **Create a List**\n",
        "* **Lists are Indexable**\n",
        "* **Find no. of elements in a list `(i.e. len())`**\n",
        "* **Negative Indexing**\n",
        "* **Methods to add in a List**\n",
        "  - **`<var>.append()`**\n",
        "  - **`insert(<index>, <value>)`**\n",
        "  - **`<var>.extend([ , , ])`**\n",
        "* **Plus operator (+) in order to store values of one variable to another variable**"
      ],
      "metadata": {
        "id": "hv6LJnC9sWMx"
      }
    },
    {
      "cell_type": "code",
      "execution_count": null,
      "metadata": {
        "colab": {
          "base_uri": "https://localhost:8080/"
        },
        "id": "f6Xx6qRJkGwD",
        "outputId": "ebc060f9-6054-47e0-f61a-9ac80854ac2c"
      },
      "outputs": [
        {
          "output_type": "stream",
          "name": "stdout",
          "text": [
            "Hows the josh????????????\n"
          ]
        }
      ],
      "source": [
        "print(\"Hows the josh????????????\")"
      ]
    },
    {
      "cell_type": "code",
      "source": [
        "#runs1, runs2, runs3,....."
      ],
      "metadata": {
        "id": "fzv6DGyFnMVS"
      },
      "execution_count": null,
      "outputs": []
    },
    {
      "cell_type": "code",
      "source": [
        "#create a list : []"
      ],
      "metadata": {
        "id": "CQTzjoyZnVoj"
      },
      "execution_count": null,
      "outputs": []
    },
    {
      "cell_type": "code",
      "source": [
        "runs = [50,32,20,80]"
      ],
      "metadata": {
        "id": "09tjsosVnaSI"
      },
      "execution_count": null,
      "outputs": []
    },
    {
      "cell_type": "code",
      "source": [
        "type(runs)"
      ],
      "metadata": {
        "colab": {
          "base_uri": "https://localhost:8080/"
        },
        "id": "3sjOiFGxndjD",
        "outputId": "78b1ea6f-aeda-41a0-dd37-4f46d646d7ab"
      },
      "execution_count": null,
      "outputs": [
        {
          "output_type": "execute_result",
          "data": {
            "text/plain": [
              "list"
            ]
          },
          "metadata": {},
          "execution_count": 5
        }
      ]
    },
    {
      "cell_type": "code",
      "source": [
        "print(runs)"
      ],
      "metadata": {
        "colab": {
          "base_uri": "https://localhost:8080/"
        },
        "id": "p3PCudW1nhKX",
        "outputId": "f72255ed-6e3e-46e2-c7db-9afcb6a2a29f"
      },
      "execution_count": null,
      "outputs": [
        {
          "output_type": "stream",
          "name": "stdout",
          "text": [
            "[50, 32, 20, 80]\n"
          ]
        }
      ]
    },
    {
      "cell_type": "code",
      "source": [
        "'''\n",
        "1. store\n",
        "2. access\n",
        "3. modify\n",
        "'''"
      ],
      "metadata": {
        "colab": {
          "base_uri": "https://localhost:8080/",
          "height": 35
        },
        "id": "ikv1_lQknlnZ",
        "outputId": "b31084b8-c0c1-4020-9c22-30e6381c6493"
      },
      "execution_count": null,
      "outputs": [
        {
          "output_type": "execute_result",
          "data": {
            "text/plain": [
              "'\\n1. store\\n2. access\\n3. modify\\n'"
            ],
            "application/vnd.google.colaboratory.intrinsic+json": {
              "type": "string"
            }
          },
          "metadata": {},
          "execution_count": 7
        }
      ]
    },
    {
      "cell_type": "code",
      "source": [
        "'''\n",
        "Lists are accessbile using indexes - lists are idexable\n",
        "Indexing starts from 0\n",
        "'''"
      ],
      "metadata": {
        "colab": {
          "base_uri": "https://localhost:8080/",
          "height": 35
        },
        "id": "A1cst7oqnvR_",
        "outputId": "26655266-2f83-453b-cfff-adfb2d38f1f6"
      },
      "execution_count": null,
      "outputs": [
        {
          "output_type": "execute_result",
          "data": {
            "text/plain": [
              "'\\nLists are accessbile using indexes - lists are idexable\\nIndexing starts from 0\\n'"
            ],
            "application/vnd.google.colaboratory.intrinsic+json": {
              "type": "string"
            }
          },
          "metadata": {},
          "execution_count": 8
        }
      ]
    },
    {
      "cell_type": "code",
      "source": [
        "a = [5,4,1, 2]"
      ],
      "metadata": {
        "id": "jBd571fIoc1D"
      },
      "execution_count": null,
      "outputs": []
    },
    {
      "cell_type": "code",
      "source": [
        "type(a)"
      ],
      "metadata": {
        "colab": {
          "base_uri": "https://localhost:8080/"
        },
        "id": "qFkjOsDsofaR",
        "outputId": "66a2e8c8-fab6-4073-cad3-09673e1f85ea"
      },
      "execution_count": null,
      "outputs": [
        {
          "output_type": "execute_result",
          "data": {
            "text/plain": [
              "list"
            ]
          },
          "metadata": {},
          "execution_count": 10
        }
      ]
    },
    {
      "cell_type": "code",
      "source": [
        "print(a[0])"
      ],
      "metadata": {
        "colab": {
          "base_uri": "https://localhost:8080/"
        },
        "id": "G_jji5Skof2d",
        "outputId": "2f7c8548-16be-4b79-ba62-99d5f8d6387e"
      },
      "execution_count": null,
      "outputs": [
        {
          "output_type": "stream",
          "name": "stdout",
          "text": [
            "5\n"
          ]
        }
      ]
    },
    {
      "cell_type": "code",
      "source": [
        "print(a[2])"
      ],
      "metadata": {
        "colab": {
          "base_uri": "https://localhost:8080/"
        },
        "id": "KXFDyr93ohQ9",
        "outputId": "a25a0b05-659a-44eb-a8f9-d985141ba9a3"
      },
      "execution_count": null,
      "outputs": [
        {
          "output_type": "stream",
          "name": "stdout",
          "text": [
            "1\n"
          ]
        }
      ]
    },
    {
      "cell_type": "code",
      "source": [
        "a[1] = -7"
      ],
      "metadata": {
        "id": "2ex5EScaonWV"
      },
      "execution_count": null,
      "outputs": []
    },
    {
      "cell_type": "code",
      "source": [
        "print(a)"
      ],
      "metadata": {
        "colab": {
          "base_uri": "https://localhost:8080/"
        },
        "id": "BrID61K6ov72",
        "outputId": "fee964f0-f958-44c5-ea2e-319384a6d8c6"
      },
      "execution_count": null,
      "outputs": [
        {
          "output_type": "stream",
          "name": "stdout",
          "text": [
            "[5, -7, 1, 2]\n"
          ]
        }
      ]
    },
    {
      "cell_type": "code",
      "source": [
        "#find no. of elements in a list - length of the list"
      ],
      "metadata": {
        "id": "AM7OT5s7owyj"
      },
      "execution_count": null,
      "outputs": []
    },
    {
      "cell_type": "code",
      "source": [
        "n = len(a)"
      ],
      "metadata": {
        "id": "-DkIqdTSo7mD"
      },
      "execution_count": null,
      "outputs": []
    },
    {
      "cell_type": "code",
      "source": [
        "print(n)"
      ],
      "metadata": {
        "colab": {
          "base_uri": "https://localhost:8080/"
        },
        "id": "M6HUC44vo-Mo",
        "outputId": "4a83ab81-b5dd-441f-cf71-be996194b199"
      },
      "execution_count": null,
      "outputs": [
        {
          "output_type": "stream",
          "name": "stdout",
          "text": [
            "4\n"
          ]
        }
      ]
    },
    {
      "cell_type": "code",
      "source": [
        "runs = [50,20,55, 101, 90]"
      ],
      "metadata": {
        "id": "NEjQ7BsgpBfE"
      },
      "execution_count": null,
      "outputs": []
    },
    {
      "cell_type": "code",
      "source": [
        "#print the runs scored by VK in last match"
      ],
      "metadata": {
        "id": "VLfTxMnqpKEe"
      },
      "execution_count": null,
      "outputs": []
    },
    {
      "cell_type": "code",
      "source": [
        "n = len(runs)"
      ],
      "metadata": {
        "id": "Pi9FQkU_pT_I"
      },
      "execution_count": null,
      "outputs": []
    },
    {
      "cell_type": "code",
      "source": [
        "print(n)"
      ],
      "metadata": {
        "colab": {
          "base_uri": "https://localhost:8080/"
        },
        "id": "kg2_QXWGpVQZ",
        "outputId": "1e3c9cca-a2ee-45f7-fa22-df49326e52c8"
      },
      "execution_count": null,
      "outputs": [
        {
          "output_type": "stream",
          "name": "stdout",
          "text": [
            "5\n"
          ]
        }
      ]
    },
    {
      "cell_type": "code",
      "source": [
        "print(runs[4])"
      ],
      "metadata": {
        "colab": {
          "base_uri": "https://localhost:8080/"
        },
        "id": "Uhdw3Zy9pXPd",
        "outputId": "f04da3b4-dabf-4f91-d7e9-34a671a972bd"
      },
      "execution_count": null,
      "outputs": [
        {
          "output_type": "stream",
          "name": "stdout",
          "text": [
            "90\n"
          ]
        }
      ]
    },
    {
      "cell_type": "code",
      "source": [
        "print(runs[n-1])"
      ],
      "metadata": {
        "colab": {
          "base_uri": "https://localhost:8080/"
        },
        "id": "j42izBlopcvU",
        "outputId": "748eae60-8085-4ac5-e885-4d5f02cf5468"
      },
      "execution_count": null,
      "outputs": [
        {
          "output_type": "stream",
          "name": "stdout",
          "text": [
            "90\n"
          ]
        }
      ]
    },
    {
      "cell_type": "code",
      "source": [
        "a = [50,20,55, 101, 90]"
      ],
      "metadata": {
        "id": "lFr69nSSpmm9"
      },
      "execution_count": null,
      "outputs": []
    },
    {
      "cell_type": "code",
      "source": [
        "print(a[0])"
      ],
      "metadata": {
        "colab": {
          "base_uri": "https://localhost:8080/"
        },
        "id": "xV4Py-ZFqbUP",
        "outputId": "05421423-67e0-41bb-a1e5-4f85afe93c32"
      },
      "execution_count": null,
      "outputs": [
        {
          "output_type": "stream",
          "name": "stdout",
          "text": [
            "50\n"
          ]
        }
      ]
    },
    {
      "cell_type": "code",
      "source": [
        "n = len(a)"
      ],
      "metadata": {
        "id": "Ejsa3OcSqeGq"
      },
      "execution_count": null,
      "outputs": []
    },
    {
      "cell_type": "code",
      "source": [
        "print(a[n-1])"
      ],
      "metadata": {
        "colab": {
          "base_uri": "https://localhost:8080/"
        },
        "id": "ckVNh_pCqfbR",
        "outputId": "498f1ade-f053-4800-d6de-a35c728151ce"
      },
      "execution_count": null,
      "outputs": [
        {
          "output_type": "stream",
          "name": "stdout",
          "text": [
            "90\n"
          ]
        }
      ]
    },
    {
      "cell_type": "code",
      "source": [
        "print(a[-1])"
      ],
      "metadata": {
        "colab": {
          "base_uri": "https://localhost:8080/"
        },
        "id": "gb8bNleYqhUT",
        "outputId": "a00b96bb-f189-4bbb-d129-2fa4797428b8"
      },
      "execution_count": null,
      "outputs": [
        {
          "output_type": "stream",
          "name": "stdout",
          "text": [
            "90\n"
          ]
        }
      ]
    },
    {
      "cell_type": "code",
      "source": [
        "print(a[-3])"
      ],
      "metadata": {
        "colab": {
          "base_uri": "https://localhost:8080/"
        },
        "id": "fdooXRyaqjga",
        "outputId": "a89d8f77-443c-4ca3-aa78-b5d839586f99"
      },
      "execution_count": null,
      "outputs": [
        {
          "output_type": "stream",
          "name": "stdout",
          "text": [
            "55\n"
          ]
        }
      ]
    },
    {
      "cell_type": "code",
      "source": [
        "vk = [50,20,55, 101, 90]"
      ],
      "metadata": {
        "id": "ojsyd6YQqoEX"
      },
      "execution_count": null,
      "outputs": []
    },
    {
      "cell_type": "code",
      "source": [
        "#append(): to add an element at the end of the list: list_name.append(value_to_be_appended)"
      ],
      "metadata": {
        "id": "6fq6QZdmrIMf"
      },
      "execution_count": null,
      "outputs": []
    },
    {
      "cell_type": "code",
      "source": [
        "vk.append(120)"
      ],
      "metadata": {
        "id": "S99yo9VrrT4b"
      },
      "execution_count": null,
      "outputs": []
    },
    {
      "cell_type": "code",
      "source": [
        "print(vk)"
      ],
      "metadata": {
        "colab": {
          "base_uri": "https://localhost:8080/"
        },
        "id": "HiLf0gAxrYFW",
        "outputId": "68498584-74e9-4f4e-f9f7-f6fd82d73a4e"
      },
      "execution_count": null,
      "outputs": [
        {
          "output_type": "stream",
          "name": "stdout",
          "text": [
            "[50, 20, 55, 101, 90, 120]\n"
          ]
        }
      ]
    },
    {
      "cell_type": "code",
      "source": [
        "vk.append(200)"
      ],
      "metadata": {
        "id": "QKUqX8JTrZKd"
      },
      "execution_count": null,
      "outputs": []
    },
    {
      "cell_type": "code",
      "source": [
        "print(vk)"
      ],
      "metadata": {
        "colab": {
          "base_uri": "https://localhost:8080/"
        },
        "id": "jxRs_l3Frvcg",
        "outputId": "034a5736-095a-432c-afd1-116da0b128bc"
      },
      "execution_count": null,
      "outputs": [
        {
          "output_type": "stream",
          "name": "stdout",
          "text": [
            "[50, 20, 55, 101, 90, 120, 200]\n"
          ]
        }
      ]
    },
    {
      "cell_type": "code",
      "source": [
        "#add element at a specific index?"
      ],
      "metadata": {
        "id": "Yyo9em8Yryt4"
      },
      "execution_count": null,
      "outputs": []
    },
    {
      "cell_type": "code",
      "source": [
        "#insert(index, val): is used to insert at any index"
      ],
      "metadata": {
        "id": "v_oibwbQr7ak"
      },
      "execution_count": null,
      "outputs": []
    },
    {
      "cell_type": "code",
      "source": [
        "vk.insert(3, 77)"
      ],
      "metadata": {
        "id": "YsRYNUPbsMSh"
      },
      "execution_count": null,
      "outputs": []
    },
    {
      "cell_type": "code",
      "source": [
        "print(vk)"
      ],
      "metadata": {
        "colab": {
          "base_uri": "https://localhost:8080/"
        },
        "id": "xFwrFKw0sOmF",
        "outputId": "2711fb30-71d2-4405-c7b8-417e5acace09"
      },
      "execution_count": null,
      "outputs": [
        {
          "output_type": "stream",
          "name": "stdout",
          "text": [
            "[50, 20, 55, 77, 101, 90, 120, 200]\n"
          ]
        }
      ]
    },
    {
      "cell_type": "code",
      "source": [
        "vk.extend([1,2,3])"
      ],
      "metadata": {
        "id": "r7JVAOOUsPat"
      },
      "execution_count": null,
      "outputs": []
    },
    {
      "cell_type": "code",
      "source": [
        "print(vk)"
      ],
      "metadata": {
        "colab": {
          "base_uri": "https://localhost:8080/"
        },
        "id": "GWbyNW5NshTF",
        "outputId": "40511a00-7c46-49a0-9a0d-684b5c3db26c"
      },
      "execution_count": null,
      "outputs": [
        {
          "output_type": "stream",
          "name": "stdout",
          "text": [
            "[50, 20, 55, 77, 101, 90, 120, 200, 1, 2, 3]\n"
          ]
        }
      ]
    },
    {
      "cell_type": "code",
      "source": [
        "#append, insert and extend --> inplace: it desont return a new list but makes modifications to the original list"
      ],
      "metadata": {
        "id": "NPe-2rR1siIK"
      },
      "execution_count": null,
      "outputs": []
    },
    {
      "cell_type": "code",
      "source": [
        "a = [5,6,1,2]"
      ],
      "metadata": {
        "id": "DGyyJ2Mms6sy"
      },
      "execution_count": null,
      "outputs": []
    },
    {
      "cell_type": "code",
      "source": [
        "d = a.append(7)"
      ],
      "metadata": {
        "id": "WjnbVfNas8M6"
      },
      "execution_count": null,
      "outputs": []
    },
    {
      "cell_type": "code",
      "source": [
        "print(a,d)"
      ],
      "metadata": {
        "colab": {
          "base_uri": "https://localhost:8080/"
        },
        "id": "jBhiaSV1s-Pb",
        "outputId": "dcf405cd-eadf-4ce5-8590-fcf5a9b59c5d"
      },
      "execution_count": null,
      "outputs": [
        {
          "output_type": "stream",
          "name": "stdout",
          "text": [
            "[5, 6, 1, 2, 7] None\n"
          ]
        }
      ]
    },
    {
      "cell_type": "code",
      "source": [
        "e = a.insert(3,-1)#insert(index, val)"
      ],
      "metadata": {
        "id": "4l6Y877Bs_KX"
      },
      "execution_count": null,
      "outputs": []
    },
    {
      "cell_type": "code",
      "source": [
        "print(a,e)"
      ],
      "metadata": {
        "colab": {
          "base_uri": "https://localhost:8080/"
        },
        "id": "KAe63epYtO6u",
        "outputId": "a4159293-5c0c-4b83-dfb3-676d74f72ed5"
      },
      "execution_count": null,
      "outputs": [
        {
          "output_type": "stream",
          "name": "stdout",
          "text": [
            "[5, 6, 1, -1, 2, 7] None\n"
          ]
        }
      ]
    },
    {
      "cell_type": "code",
      "source": [
        "f = a.extend([-2,-3])"
      ],
      "metadata": {
        "id": "MTEebJnGtZFW"
      },
      "execution_count": null,
      "outputs": []
    },
    {
      "cell_type": "code",
      "source": [
        "print(a,f)"
      ],
      "metadata": {
        "colab": {
          "base_uri": "https://localhost:8080/"
        },
        "id": "a2r-aAVltnq9",
        "outputId": "ccceb59a-1a17-4b7b-e00d-3f9644804c9b"
      },
      "execution_count": null,
      "outputs": [
        {
          "output_type": "stream",
          "name": "stdout",
          "text": [
            "[5, 6, 1, -1, 2, 7, -2, -3] None\n"
          ]
        }
      ]
    },
    {
      "cell_type": "code",
      "source": [
        "a = [5,6,1,2]"
      ],
      "metadata": {
        "id": "hB5mIbqDtovG"
      },
      "execution_count": null,
      "outputs": []
    },
    {
      "cell_type": "code",
      "source": [
        "b = a + [2]"
      ],
      "metadata": {
        "id": "rn-z9b6wt2Dg"
      },
      "execution_count": null,
      "outputs": []
    },
    {
      "cell_type": "code",
      "source": [
        "print(b,a)"
      ],
      "metadata": {
        "colab": {
          "base_uri": "https://localhost:8080/"
        },
        "id": "UQKb2Spmt5dB",
        "outputId": "64f3c51e-22ac-4709-8691-6031ccb0b7ce"
      },
      "execution_count": null,
      "outputs": [
        {
          "output_type": "stream",
          "name": "stdout",
          "text": [
            "[5, 6, 1, 2, 2] [5, 6, 1, 2]\n"
          ]
        }
      ]
    },
    {
      "cell_type": "code",
      "source": [
        "a = a + [2]"
      ],
      "metadata": {
        "id": "wHXc2HUit6hW"
      },
      "execution_count": null,
      "outputs": []
    },
    {
      "cell_type": "code",
      "source": [
        "print(a)"
      ],
      "metadata": {
        "colab": {
          "base_uri": "https://localhost:8080/"
        },
        "id": "sMfdcHH_uMll",
        "outputId": "2edeb9ac-8ce0-4c28-84bc-05429a8f7b40"
      },
      "execution_count": null,
      "outputs": [
        {
          "output_type": "stream",
          "name": "stdout",
          "text": [
            "[5, 6, 1, 2, 2]\n"
          ]
        }
      ]
    },
    {
      "cell_type": "code",
      "source": [
        "a = a +2"
      ],
      "metadata": {
        "colab": {
          "base_uri": "https://localhost:8080/",
          "height": 170
        },
        "id": "I-abrF_TuOEd",
        "outputId": "1e9bb0de-b228-4442-ab06-a07e3770f8ac"
      },
      "execution_count": null,
      "outputs": [
        {
          "output_type": "error",
          "ename": "TypeError",
          "evalue": "ignored",
          "traceback": [
            "\u001b[0;31m---------------------------------------------------------------------------\u001b[0m",
            "\u001b[0;31mTypeError\u001b[0m                                 Traceback (most recent call last)",
            "\u001b[0;32m<ipython-input-63-f306ab451642>\u001b[0m in \u001b[0;36m<module>\u001b[0;34m\u001b[0m\n\u001b[0;32m----> 1\u001b[0;31m \u001b[0ma\u001b[0m \u001b[0;34m=\u001b[0m \u001b[0ma\u001b[0m \u001b[0;34m+\u001b[0m\u001b[0;36m2\u001b[0m\u001b[0;34m\u001b[0m\u001b[0;34m\u001b[0m\u001b[0m\n\u001b[0m",
            "\u001b[0;31mTypeError\u001b[0m: can only concatenate list (not \"int\") to list"
          ]
        }
      ]
    },
    {
      "cell_type": "code",
      "source": [
        "a = [1,3,5]\n",
        "b = [6,7]\n",
        "\n",
        "b = a+b\n",
        "\n",
        "print(a,b)"
      ],
      "metadata": {
        "colab": {
          "base_uri": "https://localhost:8080/"
        },
        "id": "0ntgBTRfuTTC",
        "outputId": "41252b23-f14b-4a4f-c349-d5aee0e27d16"
      },
      "execution_count": null,
      "outputs": [
        {
          "output_type": "stream",
          "name": "stdout",
          "text": [
            "[1, 3, 5] [1, 3, 5, 6, 7]\n"
          ]
        }
      ]
    },
    {
      "cell_type": "code",
      "source": [
        "a = [1,2,3]\n",
        "\n",
        "# a --> [1,2,3,6,7]"
      ],
      "metadata": {
        "id": "oRyXifBHuteq"
      },
      "execution_count": null,
      "outputs": []
    },
    {
      "cell_type": "code",
      "source": [
        "a = a + [6,7]"
      ],
      "metadata": {
        "id": "hKKVVSVavDe5"
      },
      "execution_count": null,
      "outputs": []
    },
    {
      "cell_type": "code",
      "source": [
        "print(a)"
      ],
      "metadata": {
        "colab": {
          "base_uri": "https://localhost:8080/"
        },
        "id": "QR7voF69vFYR",
        "outputId": "440270cb-5ca8-4228-8edf-5e0a596cc74a"
      },
      "execution_count": null,
      "outputs": [
        {
          "output_type": "stream",
          "name": "stdout",
          "text": [
            "[1, 3, 5, 6, 7]\n"
          ]
        }
      ]
    },
    {
      "cell_type": "code",
      "source": [
        "a.append(-1)"
      ],
      "metadata": {
        "id": "401L4BMxvGFg"
      },
      "execution_count": null,
      "outputs": []
    },
    {
      "cell_type": "code",
      "source": [
        "print(a)"
      ],
      "metadata": {
        "colab": {
          "base_uri": "https://localhost:8080/"
        },
        "id": "KGGKCFORvfVE",
        "outputId": "2a9bba7e-2a8d-44e8-fe6c-d47cfe658f45"
      },
      "execution_count": null,
      "outputs": [
        {
          "output_type": "stream",
          "name": "stdout",
          "text": [
            "[1, 3, 5, 6, 7, -1]\n"
          ]
        }
      ]
    },
    {
      "cell_type": "code",
      "source": [
        "b = a + [-2]"
      ],
      "metadata": {
        "id": "JIdjCesPvgTV"
      },
      "execution_count": null,
      "outputs": []
    },
    {
      "cell_type": "code",
      "source": [
        "print(a,b)"
      ],
      "metadata": {
        "colab": {
          "base_uri": "https://localhost:8080/"
        },
        "id": "uW2Parxmvynw",
        "outputId": "62c98acf-dac5-45c5-c82b-0d2b4189b4d4"
      },
      "execution_count": null,
      "outputs": [
        {
          "output_type": "stream",
          "name": "stdout",
          "text": [
            "[1, 3, 5, 6, 7, -1] [1, 3, 5, 6, 7, -1, -2]\n"
          ]
        }
      ]
    },
    {
      "cell_type": "code",
      "source": [
        "#how to iterate over the list?"
      ],
      "metadata": {
        "id": "Yb8Vk3yOwAfX"
      },
      "execution_count": null,
      "outputs": []
    },
    {
      "cell_type": "code",
      "source": [
        "for i in range(5):\n",
        "  print(i)"
      ],
      "metadata": {
        "colab": {
          "base_uri": "https://localhost:8080/"
        },
        "id": "kZOPJ5D4y4Xr",
        "outputId": "83e15a7b-c76d-4e41-d603-52d5d5007f9a"
      },
      "execution_count": null,
      "outputs": [
        {
          "output_type": "stream",
          "name": "stdout",
          "text": [
            "0\n",
            "1\n",
            "2\n",
            "3\n",
            "4\n"
          ]
        }
      ]
    },
    {
      "cell_type": "code",
      "source": [
        "print(list(range(5)))"
      ],
      "metadata": {
        "colab": {
          "base_uri": "https://localhost:8080/"
        },
        "id": "e5-vTWJ4zCl2",
        "outputId": "20533820-d450-4f01-b232-32e06f74d21a"
      },
      "execution_count": null,
      "outputs": [
        {
          "output_type": "stream",
          "name": "stdout",
          "text": [
            "[0, 1, 2, 3, 4]\n"
          ]
        }
      ]
    },
    {
      "cell_type": "code",
      "source": [
        "for i in [5,6,7]:\n",
        "  print(i)"
      ],
      "metadata": {
        "colab": {
          "base_uri": "https://localhost:8080/"
        },
        "id": "PRipEy7HzGkK",
        "outputId": "30a356d3-a022-456c-f4b1-564ff2b1c12e"
      },
      "execution_count": null,
      "outputs": [
        {
          "output_type": "stream",
          "name": "stdout",
          "text": [
            "5\n",
            "6\n",
            "7\n"
          ]
        }
      ]
    },
    {
      "cell_type": "code",
      "source": [
        "a = [5,1,2,4]"
      ],
      "metadata": {
        "id": "zM8u698jzQ8w"
      },
      "execution_count": null,
      "outputs": []
    },
    {
      "cell_type": "code",
      "source": [
        "for elem in a:\n",
        "  print(elem)"
      ],
      "metadata": {
        "colab": {
          "base_uri": "https://localhost:8080/"
        },
        "id": "SYcJGzyjzYQa",
        "outputId": "93c61548-bbdf-4b73-baea-d4cc5a219c9b"
      },
      "execution_count": null,
      "outputs": [
        {
          "output_type": "stream",
          "name": "stdout",
          "text": [
            "5\n",
            "1\n",
            "2\n",
            "4\n"
          ]
        }
      ]
    },
    {
      "cell_type": "code",
      "source": [
        "#print all the elements of list in new line"
      ],
      "metadata": {
        "id": "qjo9M_xNzZsU"
      },
      "execution_count": null,
      "outputs": []
    },
    {
      "cell_type": "code",
      "source": [
        "print(a[0])\n",
        "print(a[1])\n",
        "print(a[2])\n",
        "print(a[3])"
      ],
      "metadata": {
        "colab": {
          "base_uri": "https://localhost:8080/"
        },
        "id": "TDC-b99G0NgZ",
        "outputId": "99d89f08-69fa-406d-82a1-b410c831e622"
      },
      "execution_count": null,
      "outputs": [
        {
          "output_type": "stream",
          "name": "stdout",
          "text": [
            "5\n",
            "1\n",
            "2\n",
            "4\n"
          ]
        }
      ]
    },
    {
      "cell_type": "code",
      "source": [
        "for i in [0,1,2,3]:\n",
        "  print(i)"
      ],
      "metadata": {
        "colab": {
          "base_uri": "https://localhost:8080/"
        },
        "id": "8RPqHJk30PYt",
        "outputId": "7a26039b-7fcf-42dd-d9e3-55b07f8f689d"
      },
      "execution_count": null,
      "outputs": [
        {
          "output_type": "stream",
          "name": "stdout",
          "text": [
            "0\n",
            "1\n",
            "2\n",
            "3\n"
          ]
        }
      ]
    },
    {
      "cell_type": "code",
      "source": [
        "for i in [0,1,2,3]:\n",
        "  print(a[i])"
      ],
      "metadata": {
        "colab": {
          "base_uri": "https://localhost:8080/"
        },
        "id": "3qIxlR-H0YE5",
        "outputId": "b2a0fd5f-9bf0-448f-b3f3-07c48d5b7830"
      },
      "execution_count": null,
      "outputs": [
        {
          "output_type": "stream",
          "name": "stdout",
          "text": [
            "5\n",
            "1\n",
            "2\n",
            "4\n"
          ]
        }
      ]
    },
    {
      "cell_type": "code",
      "source": [
        "for i in range(0,len(a)):\n",
        "  print(a[i])"
      ],
      "metadata": {
        "colab": {
          "base_uri": "https://localhost:8080/"
        },
        "id": "DgkbPSsy0dBd",
        "outputId": "27e348c0-5e2e-42f1-e4e3-ab16aca6b242"
      },
      "execution_count": null,
      "outputs": [
        {
          "output_type": "stream",
          "name": "stdout",
          "text": [
            "5\n",
            "1\n",
            "2\n",
            "4\n"
          ]
        }
      ]
    },
    {
      "cell_type": "code",
      "source": [
        "'''\n",
        "Given a list, print the sum of all the elements in it\n",
        "'''\n",
        "\n",
        "# a = [4,3,6,1]\n",
        "# ans : 14"
      ],
      "metadata": {
        "colab": {
          "base_uri": "https://localhost:8080/",
          "height": 35
        },
        "id": "ymATF7wX0wj1",
        "outputId": "9f351634-0d68-40ea-f7cd-022d5bf662cd"
      },
      "execution_count": null,
      "outputs": [
        {
          "output_type": "execute_result",
          "data": {
            "text/plain": [
              "'\\nGiven a list, print the sum of all the elements in it\\n'"
            ],
            "application/vnd.google.colaboratory.intrinsic+json": {
              "type": "string"
            }
          },
          "metadata": {},
          "execution_count": 81
        }
      ]
    },
    {
      "cell_type": "code",
      "source": [
        "a = [4,3,6,1]\n",
        "sum = 0\n",
        "#initialization\n",
        "\n",
        "for i in range(len(a)):\n",
        "  sum = sum + a[i]\n",
        "\n",
        "\n",
        "print(sum)"
      ],
      "metadata": {
        "colab": {
          "base_uri": "https://localhost:8080/"
        },
        "id": "Ki3yy9nt1B1s",
        "outputId": "6f3b69e2-d696-4a20-f6a8-5fac487130a7"
      },
      "execution_count": null,
      "outputs": [
        {
          "output_type": "stream",
          "name": "stdout",
          "text": [
            "14\n"
          ]
        }
      ]
    },
    {
      "cell_type": "code",
      "source": [
        "# v2: dont use range()"
      ],
      "metadata": {
        "id": "eIwsOCly1mtA"
      },
      "execution_count": null,
      "outputs": []
    },
    {
      "cell_type": "code",
      "source": [
        "#iterate over the elements"
      ],
      "metadata": {
        "id": "ilu7WMF81zDr"
      },
      "execution_count": null,
      "outputs": []
    },
    {
      "cell_type": "code",
      "source": [
        "sum = 0\n",
        "for elem in a:\n",
        "  sum += elem\n",
        "\n",
        "print(sum)"
      ],
      "metadata": {
        "colab": {
          "base_uri": "https://localhost:8080/"
        },
        "id": "IFwSTtpm1_vY",
        "outputId": "29a7d887-fe9f-4fad-ee42-93dedeb000f9"
      },
      "execution_count": null,
      "outputs": [
        {
          "output_type": "stream",
          "name": "stdout",
          "text": [
            "14\n"
          ]
        }
      ]
    },
    {
      "cell_type": "code",
      "source": [
        "'''\n",
        "Find the avg of all the elems\n",
        "'''\n",
        "\n",
        "# a = [4,3,6,1]\n",
        "# ans : 14/4"
      ],
      "metadata": {
        "id": "qsy1fHdo2H6T"
      },
      "execution_count": null,
      "outputs": []
    },
    {
      "cell_type": "code",
      "source": [
        "a = [4,3,6,1]\n",
        "sum = 0\n",
        "#initialization\n",
        "\n",
        "for i in range(len(a)):\n",
        "  sum = sum + a[i]\n",
        "\n",
        "\n",
        "print(sum)\n",
        "\n",
        "n = len(a)\n",
        "avg = sum/n\n",
        "print(avg)"
      ],
      "metadata": {
        "colab": {
          "base_uri": "https://localhost:8080/"
        },
        "id": "vIZcNX6o2fgk",
        "outputId": "d4e82552-51dd-4227-b1a4-9ef37a692152"
      },
      "execution_count": null,
      "outputs": [
        {
          "output_type": "stream",
          "name": "stdout",
          "text": [
            "14\n",
            "3.5\n"
          ]
        }
      ]
    },
    {
      "cell_type": "code",
      "source": [
        "'''\n",
        "Q4:\n",
        "Find the max element in the list - without using predefined method\n",
        "'''"
      ],
      "metadata": {
        "id": "NGzbeDXf2mt3"
      },
      "execution_count": null,
      "outputs": []
    },
    {
      "cell_type": "code",
      "source": [
        "print(max(a))"
      ],
      "metadata": {
        "colab": {
          "base_uri": "https://localhost:8080/"
        },
        "id": "UdYbbk_120tq",
        "outputId": "cdd54825-4c2c-4aa2-deb6-8b1d7195f954"
      },
      "execution_count": null,
      "outputs": [
        {
          "output_type": "stream",
          "name": "stdout",
          "text": [
            "6\n"
          ]
        }
      ]
    },
    {
      "cell_type": "code",
      "source": [
        "max_elem = 0\n",
        "\n",
        "for elem in a:\n",
        "  if elem > max_elem:\n",
        "    max_elem = elem\n",
        "\n",
        "print(max_elem)"
      ],
      "metadata": {
        "colab": {
          "base_uri": "https://localhost:8080/"
        },
        "id": "yYlkOZUe21ns",
        "outputId": "3fa7d6b4-eb33-4bea-b55e-73fb41fb80da"
      },
      "execution_count": null,
      "outputs": [
        {
          "output_type": "stream",
          "name": "stdout",
          "text": [
            "6\n"
          ]
        }
      ]
    },
    {
      "cell_type": "code",
      "source": [
        "a = [-1,-5,-7]"
      ],
      "metadata": {
        "id": "xkkeCt8s4LJh"
      },
      "execution_count": null,
      "outputs": []
    },
    {
      "cell_type": "code",
      "source": [
        "max_elem = a[1]\n",
        "\n",
        "for elem in a:\n",
        "  if elem > max_elem:\n",
        "    max_elem = elem\n",
        "\n",
        "print(max_elem)"
      ],
      "metadata": {
        "colab": {
          "base_uri": "https://localhost:8080/"
        },
        "id": "y3gui01q4UdX",
        "outputId": "1d5d44f2-17b0-4400-914f-5841d8fc1a94"
      },
      "execution_count": null,
      "outputs": [
        {
          "output_type": "stream",
          "name": "stdout",
          "text": [
            "-1\n"
          ]
        }
      ]
    },
    {
      "cell_type": "code",
      "source": [
        "'''\n",
        "Q5:\n",
        "\n",
        "Find the min element in the list\n",
        "'''"
      ],
      "metadata": {
        "id": "7LH5wGu14V6g"
      },
      "execution_count": null,
      "outputs": []
    },
    {
      "cell_type": "code",
      "source": [
        "a = [4,3,6,1]\n",
        "min_elem = a[0]\n",
        "\n",
        "for elem in a:\n",
        "  if elem < min_elem:\n",
        "    min_elem = elem\n",
        "\n",
        "print(min_elem)"
      ],
      "metadata": {
        "colab": {
          "base_uri": "https://localhost:8080/"
        },
        "id": "AQFw5N9y5nEZ",
        "outputId": "a78a2c97-f600-486b-8a0c-9993696622bc"
      },
      "execution_count": null,
      "outputs": [
        {
          "output_type": "stream",
          "name": "stdout",
          "text": [
            "1\n"
          ]
        }
      ]
    },
    {
      "cell_type": "code",
      "source": [
        "'''\n",
        "Q7:\n",
        "Find the number of elements in a list- without using len()\n",
        "'''"
      ],
      "metadata": {
        "id": "Rg7JyoT95yje"
      },
      "execution_count": null,
      "outputs": []
    },
    {
      "cell_type": "code",
      "source": [
        "a = [4,3,6,1]\n",
        "count = 0\n",
        "\n",
        "for elem in a:\n",
        "  count += 1\n",
        "\n",
        "print(count)"
      ],
      "metadata": {
        "colab": {
          "base_uri": "https://localhost:8080/"
        },
        "id": "ALVbz_jf6iTp",
        "outputId": "135194e2-4302-44d9-86b4-1cd0e6a0a58f"
      },
      "execution_count": null,
      "outputs": [
        {
          "output_type": "stream",
          "name": "stdout",
          "text": [
            "4\n"
          ]
        }
      ]
    },
    {
      "cell_type": "code",
      "source": [
        "'''\n",
        "Q8:\n",
        "\n",
        "Given a list, find the sum of the elements present at the odd index\n",
        "'''\n",
        "\n",
        "a = [5,3,4,1,8]\n",
        "ans: 4"
      ],
      "metadata": {
        "id": "RNTbbkyr6oXM"
      },
      "execution_count": null,
      "outputs": []
    },
    {
      "cell_type": "code",
      "source": [
        "sum = 0\n",
        "\n",
        "for i in range(1,len(a),2):\n",
        "  sum += a[i]\n",
        "\n",
        "print(sum)"
      ],
      "metadata": {
        "colab": {
          "base_uri": "https://localhost:8080/"
        },
        "id": "lsFvkOKQ7iNZ",
        "outputId": "9da0306c-c657-45af-f100-83cd34c0f140"
      },
      "execution_count": null,
      "outputs": [
        {
          "output_type": "stream",
          "name": "stdout",
          "text": [
            "4\n"
          ]
        }
      ]
    },
    {
      "cell_type": "code",
      "source": [
        "sum = 0\n",
        "\n",
        "for i in range(len(a)):\n",
        "  if i%2 != 0:\n",
        "    sum += a[i]\n",
        "\n",
        "print(sum)"
      ],
      "metadata": {
        "colab": {
          "base_uri": "https://localhost:8080/"
        },
        "id": "seFQwdSq7s1e",
        "outputId": "f20cb5cd-5539-493f-ddc0-289b45774c1a"
      },
      "execution_count": null,
      "outputs": [
        {
          "output_type": "stream",
          "name": "stdout",
          "text": [
            "4\n"
          ]
        }
      ]
    },
    {
      "cell_type": "code",
      "source": [
        "def solve(a ,b)"
      ],
      "metadata": {
        "id": "AXwMvgoG7-UD"
      },
      "execution_count": null,
      "outputs": []
    },
    {
      "cell_type": "code",
      "source": [
        "a = [1,2,3]"
      ],
      "metadata": {
        "id": "aFWgly7o9QdE"
      },
      "execution_count": null,
      "outputs": []
    }
  ]
}