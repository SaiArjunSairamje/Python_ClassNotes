{
  "nbformat": 4,
  "nbformat_minor": 0,
  "metadata": {
    "colab": {
      "provenance": [],
      "include_colab_link": true
    },
    "kernelspec": {
      "name": "python3",
      "display_name": "Python 3"
    },
    "language_info": {
      "name": "python"
    }
  },
  "cells": [
    {
      "cell_type": "markdown",
      "metadata": {
        "id": "view-in-github",
        "colab_type": "text"
      },
      "source": [
        "<a href=\"https://colab.research.google.com/github/SaiArjunSairamje/Python_ClassNotes/blob/main/14.%20Functions-1%20.ipynb\" target=\"_parent\"><img src=\"https://colab.research.google.com/assets/colab-badge.svg\" alt=\"Open In Colab\"/></a>"
      ]
    },
    {
      "cell_type": "code",
      "execution_count": null,
      "metadata": {
        "colab": {
          "base_uri": "https://localhost:8080/"
        },
        "id": "Ebw61ipFAOVQ",
        "outputId": "f2ffa23f-f6b9-4e05-bafa-81fd625d2736"
      },
      "outputs": [
        {
          "output_type": "stream",
          "name": "stdout",
          "text": [
            "Knock knock knock Aditya\n",
            "Knock knock knock Aditya\n",
            "Knock knock knock Aditya\n"
          ]
        }
      ],
      "source": [
        "print(\"Knock knock knock Aditya\")\n",
        "print(\"Knock knock knock Aditya\")\n",
        "print(\"Knock knock knock Aditya\")"
      ]
    },
    {
      "cell_type": "code",
      "source": [
        "print(\"Knock knock knock Jayesh\")\n",
        "print(\"Knock knock knock Jayesh\")\n",
        "print(\"Knock knock knock Jayesh\")"
      ],
      "metadata": {
        "id": "Znr5X9NZAw2c"
      },
      "execution_count": null,
      "outputs": []
    },
    {
      "cell_type": "code",
      "source": [
        "print(\"Duest all the rooms\")\n",
        "print(\"Arrange the living room\")\n",
        "print(\"don't misbehave in front of the guests\")\n",
        "print(\"greet them when they enter\")"
      ],
      "metadata": {
        "colab": {
          "base_uri": "https://localhost:8080/"
        },
        "id": "0pQvrxxzA_ru",
        "outputId": "33318c49-e127-405b-bd74-00904331ae33"
      },
      "execution_count": null,
      "outputs": [
        {
          "output_type": "stream",
          "name": "stdout",
          "text": [
            "Duest all the rooms\n",
            "Arrange the living room\n",
            "don't misbehave in front of the guests\n",
            "greet them when they enter\n"
          ]
        }
      ]
    },
    {
      "cell_type": "code",
      "source": [
        "print(\"Duest all the rooms\")\n",
        "print(\"Arrange the living room\")\n",
        "print(\"don't misbehave in front of the guests\")\n",
        "print(\"greet them when they enter\")"
      ],
      "metadata": {
        "id": "a8JTkYZEBZCC"
      },
      "execution_count": null,
      "outputs": []
    },
    {
      "cell_type": "code",
      "source": [
        "function --> designed to perform a dedicated functionality"
      ],
      "metadata": {
        "id": "379QWIofBmFu"
      },
      "execution_count": null,
      "outputs": []
    },
    {
      "cell_type": "code",
      "source": [
        "for i in range(3):\n",
        "  print(\"Knock knock knock Jayesh\")"
      ],
      "metadata": {
        "colab": {
          "base_uri": "https://localhost:8080/"
        },
        "id": "z-CyZIdnBzSv",
        "outputId": "aa0d02ff-5ec5-43d6-94d0-f3cf8dcafbf4"
      },
      "execution_count": null,
      "outputs": [
        {
          "output_type": "stream",
          "name": "stdout",
          "text": [
            "Knock knock knock Jayesh\n",
            "Knock knock knock Jayesh\n",
            "Knock knock knock Jayesh\n"
          ]
        }
      ]
    },
    {
      "cell_type": "code",
      "source": [
        "for i in range(3):\n",
        "  print(\"Knock knock knock AJ\")"
      ],
      "metadata": {
        "colab": {
          "base_uri": "https://localhost:8080/"
        },
        "id": "1PDkVCPuB5kL",
        "outputId": "ec9b258b-cc69-4fc3-873d-cdfe26f0c702"
      },
      "execution_count": null,
      "outputs": [
        {
          "output_type": "stream",
          "name": "stdout",
          "text": [
            "Knock knock knock AJ\n",
            "Knock knock knock AJ\n",
            "Knock knock knock AJ\n"
          ]
        }
      ]
    },
    {
      "cell_type": "code",
      "source": [
        "for i in range(3):\n",
        "  print(\"Knock knock knock Penny's\")"
      ],
      "metadata": {
        "colab": {
          "base_uri": "https://localhost:8080/"
        },
        "id": "C683W1vbCA7x",
        "outputId": "25b4dfc7-54f7-4549-bdcf-900e42c9986c"
      },
      "execution_count": null,
      "outputs": [
        {
          "output_type": "stream",
          "name": "stdout",
          "text": [
            "Knock knock knock Penny's\n",
            "Knock knock knock Penny's\n",
            "Knock knock knock Penny's\n"
          ]
        }
      ]
    },
    {
      "cell_type": "code",
      "source": [
        "#a function is a set of instructions that can be invoked/called whenenver needed\n",
        "\n",
        "#modular code\n",
        "\n",
        "def relatives_visit():\n",
        "  print(\"Duest all the rooms\")\n",
        "  print(\"Arrange the living room\")\n",
        "  print(\"don't misbehave in front of the guests\")\n",
        "  print(\"greet them when they enter\")"
      ],
      "metadata": {
        "id": "hp2yTMV8CDQU"
      },
      "execution_count": null,
      "outputs": []
    },
    {
      "cell_type": "code",
      "source": [
        "relatives_visit() #function calling"
      ],
      "metadata": {
        "colab": {
          "base_uri": "https://localhost:8080/"
        },
        "id": "YlfI4LlxDQyv",
        "outputId": "8f1afd5a-844c-4b79-f750-d8fdb4580f22"
      },
      "execution_count": null,
      "outputs": [
        {
          "output_type": "stream",
          "name": "stdout",
          "text": [
            "Duest all the rooms\n",
            "Arrange the living room\n",
            "don't misbehave in front of the guests\n",
            "greet them when they enter\n"
          ]
        }
      ]
    },
    {
      "cell_type": "code",
      "source": [
        "# def send_message():\n",
        "\n"
      ],
      "metadata": {
        "id": "kBz9lHCaDlHQ"
      },
      "execution_count": null,
      "outputs": []
    },
    {
      "cell_type": "code",
      "source": [
        "relatives_visit()"
      ],
      "metadata": {
        "colab": {
          "base_uri": "https://localhost:8080/"
        },
        "id": "zTZzoTMMElQB",
        "outputId": "fd9e492a-7e8a-4f1b-880d-fe58a619b6ec"
      },
      "execution_count": null,
      "outputs": [
        {
          "output_type": "stream",
          "name": "stdout",
          "text": [
            "Duest all the rooms\n",
            "Arrange the living room\n",
            "don't misbehave in front of the guests\n",
            "greet them when they enter\n"
          ]
        }
      ]
    },
    {
      "cell_type": "code",
      "source": [
        "relatives_visit()"
      ],
      "metadata": {
        "colab": {
          "base_uri": "https://localhost:8080/"
        },
        "id": "qcz53tmgEnvW",
        "outputId": "86bb2be0-95dc-48ed-b5fa-6f2944557d3d"
      },
      "execution_count": null,
      "outputs": [
        {
          "output_type": "stream",
          "name": "stdout",
          "text": [
            "Duest all the rooms\n",
            "Arrange the living room\n",
            "don't misbehave in front of the guests\n",
            "greet them when they enter\n"
          ]
        }
      ]
    },
    {
      "cell_type": "code",
      "source": [
        "relatives_visit()"
      ],
      "metadata": {
        "colab": {
          "base_uri": "https://localhost:8080/"
        },
        "id": "Yg9xcDrOEo7Q",
        "outputId": "d58f42db-e2e5-4217-dada-30dbfb4bee20"
      },
      "execution_count": null,
      "outputs": [
        {
          "output_type": "stream",
          "name": "stdout",
          "text": [
            "Duest all the rooms\n",
            "Arrange the living room\n",
            "don't misbehave in front of the guests\n",
            "greet them when they enter\n"
          ]
        }
      ]
    },
    {
      "cell_type": "code",
      "source": [
        "for i in range(5):\n",
        "  relatives_visit()\n",
        "  print(\"--------------------\")"
      ],
      "metadata": {
        "colab": {
          "base_uri": "https://localhost:8080/"
        },
        "id": "oOCJovArKb1I",
        "outputId": "0cfb1010-bbcc-4c21-be7f-32c5ff5d8d75"
      },
      "execution_count": null,
      "outputs": [
        {
          "output_type": "stream",
          "name": "stdout",
          "text": [
            "Duest all the rooms\n",
            "Arrange the living room\n",
            "don't misbehave in front of the guests\n",
            "greet them when they enter\n",
            "--------------------\n",
            "Duest all the rooms\n",
            "Arrange the living room\n",
            "don't misbehave in front of the guests\n",
            "greet them when they enter\n",
            "--------------------\n",
            "Duest all the rooms\n",
            "Arrange the living room\n",
            "don't misbehave in front of the guests\n",
            "greet them when they enter\n",
            "--------------------\n",
            "Duest all the rooms\n",
            "Arrange the living room\n",
            "don't misbehave in front of the guests\n",
            "greet them when they enter\n",
            "--------------------\n",
            "Duest all the rooms\n",
            "Arrange the living room\n",
            "don't misbehave in front of the guests\n",
            "greet them when they enter\n",
            "--------------------\n"
          ]
        }
      ]
    },
    {
      "cell_type": "code",
      "source": [
        "print(\"Knock knock knock Aditya\")\n",
        "print(\"Knock knock knock Aditya\")\n",
        "print(\"Knock knock knock Aditya\")"
      ],
      "metadata": {
        "colab": {
          "base_uri": "https://localhost:8080/"
        },
        "id": "I3aiwpJCEpoi",
        "outputId": "c4564946-9eb4-4c99-956e-f94e937045e7"
      },
      "execution_count": null,
      "outputs": [
        {
          "output_type": "stream",
          "name": "stdout",
          "text": [
            "Knock knock knock Aditya\n",
            "Knock knock knock Aditya\n",
            "Knock knock knock Aditya\n"
          ]
        }
      ]
    },
    {
      "cell_type": "code",
      "source": [
        "#arguments / parameters"
      ],
      "metadata": {
        "id": "XKliFuWsFJ0w"
      },
      "execution_count": null,
      "outputs": []
    },
    {
      "cell_type": "code",
      "source": [
        "#parameters"
      ],
      "metadata": {
        "id": "1rpxEK68FLby"
      },
      "execution_count": null,
      "outputs": []
    },
    {
      "cell_type": "code",
      "source": [
        "def knock_door(name): #method definition --> parameter\n",
        "  print(\"Knock knock knock\", name)\n",
        "  print(\"Knock knock knock\", name)\n",
        "  print(\"Knock knock knock\", name)"
      ],
      "metadata": {
        "id": "n2APUsRrFS3U"
      },
      "execution_count": null,
      "outputs": []
    },
    {
      "cell_type": "code",
      "source": [
        "knock_door(\"Penny\")# method call --> argument"
      ],
      "metadata": {
        "colab": {
          "base_uri": "https://localhost:8080/"
        },
        "id": "7sGC5KVzFY4P",
        "outputId": "f7806338-15d5-4258-c4a0-e0a1e1614d08"
      },
      "execution_count": null,
      "outputs": [
        {
          "output_type": "stream",
          "name": "stdout",
          "text": [
            "Knock knock knock Penny\n",
            "Knock knock knock Penny\n",
            "Knock knock knock Penny\n"
          ]
        }
      ]
    },
    {
      "cell_type": "code",
      "source": [
        "name = input()\n",
        "\n",
        "print(\"Hello\", name)"
      ],
      "metadata": {
        "colab": {
          "base_uri": "https://localhost:8080/"
        },
        "id": "ZRPO7PFtFbIl",
        "outputId": "ed5e5e49-d187-46f5-c32a-9c0ff185bd60"
      },
      "execution_count": null,
      "outputs": [
        {
          "output_type": "stream",
          "name": "stdout",
          "text": [
            "Praful\n",
            "Hello Praful\n"
          ]
        }
      ]
    },
    {
      "cell_type": "code",
      "source": [
        "#parameter and argument\n",
        "\n",
        "# parameter - whatever you use in function definition\n",
        "\n",
        "# argument - whatever you use while calling a function"
      ],
      "metadata": {
        "id": "gmWmCSdSGqoS"
      },
      "execution_count": null,
      "outputs": []
    },
    {
      "cell_type": "code",
      "source": [
        "# def send_message(message, source, target):\n",
        "#   print(\"hi\")\n",
        "  #send the message from source to target"
      ],
      "metadata": {
        "id": "bDpYSBpTFk4r"
      },
      "execution_count": null,
      "outputs": []
    },
    {
      "cell_type": "code",
      "source": [
        "# send_message(\"Hi\", A, B)\n",
        "# send_message(\"Hi\", C, D)"
      ],
      "metadata": {
        "id": "MIrZL92lGaQK"
      },
      "execution_count": null,
      "outputs": []
    },
    {
      "cell_type": "code",
      "source": [
        "'''\n",
        "Q1\n",
        "Take a name as an input\n",
        "\n",
        "Write a wishing function that prints \"Hello name !\"\n",
        "after accepting a name as argument\n",
        "\n",
        "'''"
      ],
      "metadata": {
        "colab": {
          "base_uri": "https://localhost:8080/",
          "height": 53
        },
        "id": "MtMD3qgsHG20",
        "outputId": "e27dbff8-69f8-4bc4-ee13-4dc85be416d1"
      },
      "execution_count": null,
      "outputs": [
        {
          "output_type": "execute_result",
          "data": {
            "text/plain": [
              "'\\nQ1\\nTake a name as an input\\n\\nWrite a wishing function that prints \"Hello name !\"\\nafter accepting a name as argument\\n\\n'"
            ],
            "application/vnd.google.colaboratory.intrinsic+json": {
              "type": "string"
            }
          },
          "metadata": {},
          "execution_count": 33
        }
      ]
    },
    {
      "cell_type": "code",
      "source": [
        "def greeting(name):\n",
        "  print(\"Hello\",name,'!')\n"
      ],
      "metadata": {
        "id": "taOixllkIbcO"
      },
      "execution_count": null,
      "outputs": []
    },
    {
      "cell_type": "code",
      "source": [
        "name = input()\n",
        "greeting(name)"
      ],
      "metadata": {
        "colab": {
          "base_uri": "https://localhost:8080/"
        },
        "id": "qQ0BccJGIzA7",
        "outputId": "a8175010-d2bf-4fac-ddd8-b3d0563b57ee"
      },
      "execution_count": null,
      "outputs": [
        {
          "output_type": "stream",
          "name": "stdout",
          "text": [
            "AJ\n",
            "Hello AJ !\n"
          ]
        }
      ]
    },
    {
      "cell_type": "code",
      "source": [
        "R"
      ],
      "metadata": {
        "colab": {
          "base_uri": "https://localhost:8080/",
          "height": 170
        },
        "id": "jwBNK9H1I0wn",
        "outputId": "9c1508c4-09c9-45db-8d09-cb84ed618edc"
      },
      "execution_count": null,
      "outputs": [
        {
          "output_type": "error",
          "ename": "NameError",
          "evalue": "ignored",
          "traceback": [
            "\u001b[0;31m---------------------------------------------------------------------------\u001b[0m",
            "\u001b[0;31mNameError\u001b[0m                                 Traceback (most recent call last)",
            "\u001b[0;32m<ipython-input-36-b1aa98ad3a02>\u001b[0m in \u001b[0;36m<module>\u001b[0;34m\u001b[0m\n\u001b[0;32m----> 1\u001b[0;31m \u001b[0mR\u001b[0m\u001b[0;34m\u001b[0m\u001b[0;34m\u001b[0m\u001b[0m\n\u001b[0m",
            "\u001b[0;31mNameError\u001b[0m: name 'R' is not defined"
          ]
        }
      ]
    },
    {
      "cell_type": "code",
      "source": [
        "def greeting(name):\n",
        "  print(\"Hello\",name,'!')\n",
        "\n",
        "name = input()\n",
        "greeting(name)"
      ],
      "metadata": {
        "colab": {
          "base_uri": "https://localhost:8080/"
        },
        "id": "55-BwogAJDBB",
        "outputId": "9b072707-656d-4dad-85fe-41424f207576"
      },
      "execution_count": null,
      "outputs": [
        {
          "output_type": "stream",
          "name": "stdout",
          "text": [
            "AJ\n",
            "Hello AJ !\n"
          ]
        }
      ]
    },
    {
      "cell_type": "code",
      "source": [
        "def greeting(name):\n",
        "  print(\"Hello\",name,'!')\n",
        "\n",
        "# name = input()\n",
        "greeting(\"AJ\")"
      ],
      "metadata": {
        "colab": {
          "base_uri": "https://localhost:8080/"
        },
        "id": "vJdLoHSaJTmQ",
        "outputId": "cf96feb1-2081-47e4-931a-c75680a8231a"
      },
      "execution_count": null,
      "outputs": [
        {
          "output_type": "stream",
          "name": "stdout",
          "text": [
            "Hello AJ !\n"
          ]
        }
      ]
    },
    {
      "cell_type": "code",
      "source": [
        "method_aj(\"AJ\")\n",
        "\n",
        "def method_aj(name):\n",
        "  print(\"hi\", name)"
      ],
      "metadata": {
        "colab": {
          "base_uri": "https://localhost:8080/",
          "height": 223
        },
        "id": "Nx6J3-b5JjKZ",
        "outputId": "d9ec6dff-b7f0-4868-aaf2-1f2e04d14a5e"
      },
      "execution_count": null,
      "outputs": [
        {
          "output_type": "error",
          "ename": "NameError",
          "evalue": "ignored",
          "traceback": [
            "\u001b[0;31m---------------------------------------------------------------------------\u001b[0m",
            "\u001b[0;31mNameError\u001b[0m                                 Traceback (most recent call last)",
            "\u001b[0;32m<ipython-input-40-349591c2832f>\u001b[0m in \u001b[0;36m<module>\u001b[0;34m\u001b[0m\n\u001b[0;32m----> 1\u001b[0;31m \u001b[0mmethod_aj\u001b[0m\u001b[0;34m(\u001b[0m\u001b[0;34m\"AJ\"\u001b[0m\u001b[0;34m)\u001b[0m\u001b[0;34m\u001b[0m\u001b[0;34m\u001b[0m\u001b[0m\n\u001b[0m\u001b[1;32m      2\u001b[0m \u001b[0;34m\u001b[0m\u001b[0m\n\u001b[1;32m      3\u001b[0m \u001b[0;32mdef\u001b[0m \u001b[0mmethod_aj\u001b[0m\u001b[0;34m(\u001b[0m\u001b[0mname\u001b[0m\u001b[0;34m)\u001b[0m\u001b[0;34m:\u001b[0m\u001b[0;34m\u001b[0m\u001b[0;34m\u001b[0m\u001b[0m\n\u001b[1;32m      4\u001b[0m   \u001b[0mprint\u001b[0m\u001b[0;34m(\u001b[0m\u001b[0;34m\"hi\"\u001b[0m\u001b[0;34m,\u001b[0m \u001b[0mname\u001b[0m\u001b[0;34m)\u001b[0m\u001b[0;34m\u001b[0m\u001b[0;34m\u001b[0m\u001b[0m\n",
            "\u001b[0;31mNameError\u001b[0m: name 'method_aj' is not defined"
          ]
        }
      ]
    },
    {
      "cell_type": "code",
      "source": [
        "# def greetings(name)\n",
        "\n",
        "\n",
        "# for i in range(5)"
      ],
      "metadata": {
        "id": "Rilc9hKrJ4fD"
      },
      "execution_count": null,
      "outputs": []
    },
    {
      "cell_type": "code",
      "source": [
        "def car_specifications(color, brand, price):\n",
        "  print(\"Color is : \", color)\n",
        "  print(\"Brand is : \", brand)\n",
        "  print(\"Price is : \", price)"
      ],
      "metadata": {
        "id": "X59bJTZpKrVE"
      },
      "execution_count": null,
      "outputs": []
    },
    {
      "cell_type": "code",
      "source": [
        "car_specifications(\"Red\", \"Suzuki\",1500000)"
      ],
      "metadata": {
        "colab": {
          "base_uri": "https://localhost:8080/"
        },
        "id": "FlFSULaeLB32",
        "outputId": "b99d6053-f532-4337-9fe2-3c5214229e5c"
      },
      "execution_count": null,
      "outputs": [
        {
          "output_type": "stream",
          "name": "stdout",
          "text": [
            "Color is :  Red\n",
            "Brand is :  Suzuki\n",
            "Price is :  1500000\n"
          ]
        }
      ]
    },
    {
      "cell_type": "code",
      "source": [
        "car_specifications(\"Red\", \"Suzuki\")"
      ],
      "metadata": {
        "colab": {
          "base_uri": "https://localhost:8080/",
          "height": 170
        },
        "id": "mA5A9RfaLJyO",
        "outputId": "ae054e7d-72e4-4e17-be00-be6ee680bdb5"
      },
      "execution_count": null,
      "outputs": [
        {
          "output_type": "error",
          "ename": "TypeError",
          "evalue": "ignored",
          "traceback": [
            "\u001b[0;31m---------------------------------------------------------------------------\u001b[0m",
            "\u001b[0;31mTypeError\u001b[0m                                 Traceback (most recent call last)",
            "\u001b[0;32m<ipython-input-45-0c09084d945c>\u001b[0m in \u001b[0;36m<module>\u001b[0;34m\u001b[0m\n\u001b[0;32m----> 1\u001b[0;31m \u001b[0mcar_specifications\u001b[0m\u001b[0;34m(\u001b[0m\u001b[0;34m\"Red\"\u001b[0m\u001b[0;34m,\u001b[0m \u001b[0;34m\"Suzuki\"\u001b[0m\u001b[0;34m)\u001b[0m\u001b[0;34m\u001b[0m\u001b[0;34m\u001b[0m\u001b[0m\n\u001b[0m",
            "\u001b[0;31mTypeError\u001b[0m: car_specifications() missing 1 required positional argument: 'price'"
          ]
        }
      ]
    },
    {
      "cell_type": "code",
      "source": [
        "car_specifications(\"Red\", \"Suzuki\", 1500000, 2)"
      ],
      "metadata": {
        "colab": {
          "base_uri": "https://localhost:8080/",
          "height": 170
        },
        "id": "_Ba3z2XaLZfb",
        "outputId": "ee268617-e441-4968-8117-39e90e24cffb"
      },
      "execution_count": null,
      "outputs": [
        {
          "output_type": "error",
          "ename": "TypeError",
          "evalue": "ignored",
          "traceback": [
            "\u001b[0;31m---------------------------------------------------------------------------\u001b[0m",
            "\u001b[0;31mTypeError\u001b[0m                                 Traceback (most recent call last)",
            "\u001b[0;32m<ipython-input-46-ad57c6d9b94c>\u001b[0m in \u001b[0;36m<module>\u001b[0;34m\u001b[0m\n\u001b[0;32m----> 1\u001b[0;31m \u001b[0mcar_specifications\u001b[0m\u001b[0;34m(\u001b[0m\u001b[0;34m\"Red\"\u001b[0m\u001b[0;34m,\u001b[0m \u001b[0;34m\"Suzuki\"\u001b[0m\u001b[0;34m,\u001b[0m \u001b[0;36m1500000\u001b[0m\u001b[0;34m,\u001b[0m \u001b[0;36m2\u001b[0m\u001b[0;34m)\u001b[0m\u001b[0;34m\u001b[0m\u001b[0;34m\u001b[0m\u001b[0m\n\u001b[0m",
            "\u001b[0;31mTypeError\u001b[0m: car_specifications() takes 3 positional arguments but 4 were given"
          ]
        }
      ]
    },
    {
      "cell_type": "code",
      "source": [
        "car_specifications(\"Red\", \"Suzuki\", \"AJ\")"
      ],
      "metadata": {
        "colab": {
          "base_uri": "https://localhost:8080/"
        },
        "id": "sGa6E6u-LwT_",
        "outputId": "555b5b4b-a701-4f49-e560-4bd205094264"
      },
      "execution_count": null,
      "outputs": [
        {
          "output_type": "stream",
          "name": "stdout",
          "text": [
            "Color is :  Red\n",
            "Brand is :  Suzuki\n",
            "Price is :  AJ\n"
          ]
        }
      ]
    },
    {
      "cell_type": "code",
      "source": [
        "def example_mtd(a,b,c,d):\n",
        "  print(a,b,c,d)\n",
        "\n"
      ],
      "metadata": {
        "id": "p8-qudAYMGJb"
      },
      "execution_count": null,
      "outputs": []
    },
    {
      "cell_type": "code",
      "source": [
        "example_mtd(1, \"AJ\", 4.5, True)"
      ],
      "metadata": {
        "colab": {
          "base_uri": "https://localhost:8080/"
        },
        "id": "L0pStbmYM4tL",
        "outputId": "2c9d8a20-3619-4cc2-e266-c03b67526de0"
      },
      "execution_count": null,
      "outputs": [
        {
          "output_type": "stream",
          "name": "stdout",
          "text": [
            "1 AJ 4.5 True\n"
          ]
        }
      ]
    },
    {
      "cell_type": "code",
      "source": [
        "example_mtd(1, \"AJ\", 4.5, True, False)"
      ],
      "metadata": {
        "colab": {
          "base_uri": "https://localhost:8080/",
          "height": 170
        },
        "id": "BpP3UhnRM7vP",
        "outputId": "f9da549e-48f0-4ad3-967b-0191514c6038"
      },
      "execution_count": null,
      "outputs": [
        {
          "output_type": "error",
          "ename": "TypeError",
          "evalue": "ignored",
          "traceback": [
            "\u001b[0;31m---------------------------------------------------------------------------\u001b[0m",
            "\u001b[0;31mTypeError\u001b[0m                                 Traceback (most recent call last)",
            "\u001b[0;32m<ipython-input-50-43b62dc2a893>\u001b[0m in \u001b[0;36m<module>\u001b[0;34m\u001b[0m\n\u001b[0;32m----> 1\u001b[0;31m \u001b[0mexample_mtd\u001b[0m\u001b[0;34m(\u001b[0m\u001b[0;36m1\u001b[0m\u001b[0;34m,\u001b[0m \u001b[0;34m\"AJ\"\u001b[0m\u001b[0;34m,\u001b[0m \u001b[0;36m4.5\u001b[0m\u001b[0;34m,\u001b[0m \u001b[0;32mTrue\u001b[0m\u001b[0;34m,\u001b[0m \u001b[0;32mFalse\u001b[0m\u001b[0;34m)\u001b[0m\u001b[0;34m\u001b[0m\u001b[0;34m\u001b[0m\u001b[0m\n\u001b[0m",
            "\u001b[0;31mTypeError\u001b[0m: example_mtd() takes 4 positional arguments but 5 were given"
          ]
        }
      ]
    },
    {
      "cell_type": "code",
      "source": [
        "example_mtd(1, \"AJ\", 4.5)"
      ],
      "metadata": {
        "colab": {
          "base_uri": "https://localhost:8080/",
          "height": 170
        },
        "id": "Z_YwuTXXNBv9",
        "outputId": "cb4d69e4-39fd-4254-c6ac-38318e97d088"
      },
      "execution_count": null,
      "outputs": [
        {
          "output_type": "error",
          "ename": "TypeError",
          "evalue": "ignored",
          "traceback": [
            "\u001b[0;31m---------------------------------------------------------------------------\u001b[0m",
            "\u001b[0;31mTypeError\u001b[0m                                 Traceback (most recent call last)",
            "\u001b[0;32m<ipython-input-51-9c9e677f4f86>\u001b[0m in \u001b[0;36m<module>\u001b[0;34m\u001b[0m\n\u001b[0;32m----> 1\u001b[0;31m \u001b[0mexample_mtd\u001b[0m\u001b[0;34m(\u001b[0m\u001b[0;36m1\u001b[0m\u001b[0;34m,\u001b[0m \u001b[0;34m\"AJ\"\u001b[0m\u001b[0;34m,\u001b[0m \u001b[0;36m4.5\u001b[0m\u001b[0;34m)\u001b[0m\u001b[0;34m\u001b[0m\u001b[0;34m\u001b[0m\u001b[0m\n\u001b[0m",
            "\u001b[0;31mTypeError\u001b[0m: example_mtd() missing 1 required positional argument: 'd'"
          ]
        }
      ]
    },
    {
      "cell_type": "code",
      "source": [
        "#return"
      ],
      "metadata": {
        "id": "4T-x1lEONDBV"
      },
      "execution_count": null,
      "outputs": []
    },
    {
      "cell_type": "code",
      "source": [
        "def accept_money_fraud(amount):\n",
        "  print(2*amount)"
      ],
      "metadata": {
        "id": "kQ4HXxmzRGNy"
      },
      "execution_count": null,
      "outputs": []
    },
    {
      "cell_type": "code",
      "source": [
        "wallet = accept_money_fraud(100)"
      ],
      "metadata": {
        "colab": {
          "base_uri": "https://localhost:8080/"
        },
        "id": "L9RPXCXSRLWE",
        "outputId": "e47d56af-2764-48c8-9ebc-5b7f47a3b969"
      },
      "execution_count": null,
      "outputs": [
        {
          "output_type": "stream",
          "name": "stdout",
          "text": [
            "200\n"
          ]
        }
      ]
    },
    {
      "cell_type": "code",
      "source": [
        "print(wallet)"
      ],
      "metadata": {
        "colab": {
          "base_uri": "https://localhost:8080/"
        },
        "id": "ab8f-upnRSLe",
        "outputId": "c715739f-ac76-45db-b4d3-74609d6fb728"
      },
      "execution_count": null,
      "outputs": [
        {
          "output_type": "stream",
          "name": "stdout",
          "text": [
            "None\n"
          ]
        }
      ]
    },
    {
      "cell_type": "code",
      "source": [
        "def accept_money_valid(amount):\n",
        "  print(2*amount)\n",
        "  return 2*amount"
      ],
      "metadata": {
        "id": "X_Smb5-4Rel1"
      },
      "execution_count": null,
      "outputs": []
    },
    {
      "cell_type": "code",
      "source": [
        "wallet = accept_money_valid(100)"
      ],
      "metadata": {
        "colab": {
          "base_uri": "https://localhost:8080/"
        },
        "id": "AKWMKLThRrgV",
        "outputId": "bc642e77-4650-4417-899f-14ca47f4ae6b"
      },
      "execution_count": null,
      "outputs": [
        {
          "output_type": "stream",
          "name": "stdout",
          "text": [
            "200\n"
          ]
        }
      ]
    },
    {
      "cell_type": "code",
      "source": [
        "print(wallet)"
      ],
      "metadata": {
        "colab": {
          "base_uri": "https://localhost:8080/"
        },
        "id": "fiuez5xOR0sq",
        "outputId": "f368374e-1013-4b5e-83d6-31f184df228a"
      },
      "execution_count": null,
      "outputs": [
        {
          "output_type": "stream",
          "name": "stdout",
          "text": [
            "200\n"
          ]
        }
      ]
    },
    {
      "cell_type": "code",
      "source": [
        "def accept_money_valid(amount):\n",
        "  print(2*amount)\n",
        "  return \"AJ\""
      ],
      "metadata": {
        "id": "pF2fGTH-R5ii"
      },
      "execution_count": null,
      "outputs": []
    },
    {
      "cell_type": "code",
      "source": [
        "wallet = accept_money_valid(100)"
      ],
      "metadata": {
        "colab": {
          "base_uri": "https://localhost:8080/"
        },
        "id": "gPYe6_paSKlc",
        "outputId": "0b647b62-71c5-4ce8-b79a-97a9642645d9"
      },
      "execution_count": null,
      "outputs": [
        {
          "output_type": "stream",
          "name": "stdout",
          "text": [
            "200\n"
          ]
        }
      ]
    },
    {
      "cell_type": "code",
      "source": [
        "print(wallet)"
      ],
      "metadata": {
        "colab": {
          "base_uri": "https://localhost:8080/"
        },
        "id": "W2p5UQyMSNC3",
        "outputId": "5876d4a4-97f7-49ca-fdc2-dd5b61974aee"
      },
      "execution_count": null,
      "outputs": [
        {
          "output_type": "stream",
          "name": "stdout",
          "text": [
            "AJ\n"
          ]
        }
      ]
    },
    {
      "cell_type": "code",
      "source": [
        "#return - returns back value from where it was called and it ends the function"
      ],
      "metadata": {
        "id": "0hHvTzQ3SRXm"
      },
      "execution_count": null,
      "outputs": []
    },
    {
      "cell_type": "code",
      "source": [
        "def sample():\n",
        "  print(\"1\")\n",
        "  print(\"2\")\n",
        "\n",
        "  return\n",
        "\n",
        "  print(\"3\")"
      ],
      "metadata": {
        "id": "hd9kWRRSSjlb"
      },
      "execution_count": null,
      "outputs": []
    },
    {
      "cell_type": "code",
      "source": [
        "op = sample()"
      ],
      "metadata": {
        "colab": {
          "base_uri": "https://localhost:8080/"
        },
        "id": "fWiv7m1ESrYr",
        "outputId": "006d8031-7bb8-4670-fd77-13112fcadd17"
      },
      "execution_count": null,
      "outputs": [
        {
          "output_type": "stream",
          "name": "stdout",
          "text": [
            "1\n",
            "2\n"
          ]
        }
      ]
    },
    {
      "cell_type": "code",
      "source": [
        "print(op)"
      ],
      "metadata": {
        "colab": {
          "base_uri": "https://localhost:8080/"
        },
        "id": "Whg05NMmSwte",
        "outputId": "d3c7ab25-1a67-47ed-a858-22f3abb869f8"
      },
      "execution_count": null,
      "outputs": [
        {
          "output_type": "stream",
          "name": "stdout",
          "text": [
            "None\n"
          ]
        }
      ]
    },
    {
      "cell_type": "code",
      "source": [
        "def show():\n",
        "  print(\"below return\")\n",
        "  return\n",
        "  print(\"After return\")"
      ],
      "metadata": {
        "id": "YvW-15pSS66r"
      },
      "execution_count": null,
      "outputs": []
    },
    {
      "cell_type": "code",
      "source": [
        "show()"
      ],
      "metadata": {
        "colab": {
          "base_uri": "https://localhost:8080/"
        },
        "id": "xff_iJzBTNh_",
        "outputId": "8d429418-6a91-41fc-fb3f-a3ffe4ec5d96"
      },
      "execution_count": null,
      "outputs": [
        {
          "output_type": "stream",
          "name": "stdout",
          "text": [
            "below return\n"
          ]
        }
      ]
    },
    {
      "cell_type": "code",
      "source": [
        "type(5) #pre-defined methods"
      ],
      "metadata": {
        "colab": {
          "base_uri": "https://localhost:8080/"
        },
        "id": "1jiSayHwTR74",
        "outputId": "436fed21-ea61-469b-9fec-234bb131bec7"
      },
      "execution_count": null,
      "outputs": [
        {
          "output_type": "execute_result",
          "data": {
            "text/plain": [
              "int"
            ]
          },
          "metadata": {},
          "execution_count": 78
        }
      ]
    },
    {
      "cell_type": "code",
      "source": [
        "print(\"AJ\")"
      ],
      "metadata": {
        "colab": {
          "base_uri": "https://localhost:8080/"
        },
        "id": "USzI9Y1zTq68",
        "outputId": "6e40b0aa-1423-44d9-d556-8221ae4df74a"
      },
      "execution_count": null,
      "outputs": [
        {
          "output_type": "stream",
          "name": "stdout",
          "text": [
            "AJ\n"
          ]
        }
      ]
    },
    {
      "cell_type": "code",
      "source": [
        "a = min(2,3,4)"
      ],
      "metadata": {
        "id": "nFXOd7cbTwzP"
      },
      "execution_count": null,
      "outputs": []
    },
    {
      "cell_type": "code",
      "source": [
        "print(a)"
      ],
      "metadata": {
        "colab": {
          "base_uri": "https://localhost:8080/"
        },
        "id": "NTqcrSvTT6q5",
        "outputId": "21e7ea00-ded8-4599-eafc-957d9fa0d50b"
      },
      "execution_count": null,
      "outputs": [
        {
          "output_type": "stream",
          "name": "stdout",
          "text": [
            "2\n"
          ]
        }
      ]
    },
    {
      "cell_type": "code",
      "source": [
        "b  = max(5,6,7,8)"
      ],
      "metadata": {
        "id": "mfWMeyf8T7ge"
      },
      "execution_count": null,
      "outputs": []
    },
    {
      "cell_type": "code",
      "source": [
        "print(b)"
      ],
      "metadata": {
        "colab": {
          "base_uri": "https://localhost:8080/"
        },
        "id": "qAoaIyFIUEyb",
        "outputId": "b109a223-4973-4a00-f0e8-d866567035a1"
      },
      "execution_count": null,
      "outputs": [
        {
          "output_type": "stream",
          "name": "stdout",
          "text": [
            "8\n"
          ]
        }
      ]
    },
    {
      "cell_type": "code",
      "source": [
        "s = '''\n",
        "Hello everyone!\n",
        "You guys are doing great!\n",
        "How's the josh????????????????????\n",
        "'''"
      ],
      "metadata": {
        "id": "8UEJvo2NUFZD"
      },
      "execution_count": null,
      "outputs": []
    },
    {
      "cell_type": "code",
      "source": [
        "type(s)"
      ],
      "metadata": {
        "colab": {
          "base_uri": "https://localhost:8080/"
        },
        "id": "Ke68xx4hUeTg",
        "outputId": "a50dacc3-47ca-481f-cf48-48773e658978"
      },
      "execution_count": null,
      "outputs": [
        {
          "output_type": "execute_result",
          "data": {
            "text/plain": [
              "str"
            ]
          },
          "metadata": {},
          "execution_count": 87
        }
      ]
    },
    {
      "cell_type": "code",
      "source": [
        "print(s)"
      ],
      "metadata": {
        "colab": {
          "base_uri": "https://localhost:8080/"
        },
        "id": "m6k7Xw3LUffC",
        "outputId": "efaf5a39-087b-4b32-af96-eb76ba49044a"
      },
      "execution_count": null,
      "outputs": [
        {
          "output_type": "stream",
          "name": "stdout",
          "text": [
            "\n",
            "Hello everyone!\n",
            "You guys are doing great!\n",
            "How's the josh????????????????????\n",
            "\n"
          ]
        }
      ]
    },
    {
      "cell_type": "code",
      "source": [
        "s = \"Hello everyone!\\nHow are you?\""
      ],
      "metadata": {
        "id": "qBKVhTLvUnhL"
      },
      "execution_count": null,
      "outputs": []
    },
    {
      "cell_type": "code",
      "source": [
        "print(s)"
      ],
      "metadata": {
        "colab": {
          "base_uri": "https://localhost:8080/"
        },
        "id": "YSJDzibBU24t",
        "outputId": "3ed34726-abc8-4508-bf4b-08e75dfe841d"
      },
      "execution_count": null,
      "outputs": [
        {
          "output_type": "stream",
          "name": "stdout",
          "text": [
            "Hello everyone!\n",
            "How are you?\n"
          ]
        }
      ]
    },
    {
      "cell_type": "code",
      "source": [
        "'''\n",
        "multi-line comments\n",
        "'''"
      ],
      "metadata": {
        "colab": {
          "base_uri": "https://localhost:8080/",
          "height": 35
        },
        "id": "ugjqKBBpU3mw",
        "outputId": "3363a316-792d-4c16-aa0d-0054472d7c4a"
      },
      "execution_count": null,
      "outputs": [
        {
          "output_type": "execute_result",
          "data": {
            "text/plain": [
              "'\\nmulti-line comments\\n'"
            ],
            "application/vnd.google.colaboratory.intrinsic+json": {
              "type": "string"
            }
          },
          "metadata": {},
          "execution_count": 91
        }
      ]
    },
    {
      "cell_type": "code",
      "source": [
        "def display(a,b):\n",
        "  '''\n",
        "  this function takes two arguments\n",
        "  a and b can be of any type\n",
        "  this function just prints both the arguments\n",
        "  '''\n",
        "  print(a,b)"
      ],
      "metadata": {
        "id": "onBIBl8QVBDz"
      },
      "execution_count": null,
      "outputs": []
    },
    {
      "cell_type": "code",
      "source": [
        "display(4,5)"
      ],
      "metadata": {
        "colab": {
          "base_uri": "https://localhost:8080/"
        },
        "id": "zqfKvjD3VWrf",
        "outputId": "f980f4b8-c9ba-470d-982b-a4864b0ad515"
      },
      "execution_count": null,
      "outputs": [
        {
          "output_type": "stream",
          "name": "stdout",
          "text": [
            "4 5\n"
          ]
        }
      ]
    },
    {
      "cell_type": "code",
      "source": [
        "help(display)"
      ],
      "metadata": {
        "colab": {
          "base_uri": "https://localhost:8080/"
        },
        "id": "xPJxeSZ5VbzQ",
        "outputId": "1f8630e0-09a9-439d-b2c9-b537a90032d6"
      },
      "execution_count": null,
      "outputs": [
        {
          "output_type": "stream",
          "name": "stdout",
          "text": [
            "Help on function display in module __main__:\n",
            "\n",
            "display(a, b)\n",
            "    this function takes two arguments\n",
            "    a and b can be of any type\n",
            "    this function just prints both the arguments\n",
            "\n"
          ]
        }
      ]
    },
    {
      "cell_type": "code",
      "source": [
        "def add(a,b):\n",
        "  res = a+b\n",
        "  print(res)"
      ],
      "metadata": {
        "id": "2q5hYChTVkWA"
      },
      "execution_count": null,
      "outputs": []
    },
    {
      "cell_type": "code",
      "source": [
        "add(2,3)"
      ],
      "metadata": {
        "colab": {
          "base_uri": "https://localhost:8080/"
        },
        "id": "5_yCZNZkV3x8",
        "outputId": "75f21b90-a7d3-4f94-bd74-103d6c10d564"
      },
      "execution_count": null,
      "outputs": [
        {
          "output_type": "stream",
          "name": "stdout",
          "text": [
            "5\n"
          ]
        }
      ]
    },
    {
      "cell_type": "code",
      "source": [
        "add(\"a\",\"b\")"
      ],
      "metadata": {
        "colab": {
          "base_uri": "https://localhost:8080/"
        },
        "id": "9ofuRKSyV5ht",
        "outputId": "bee5321e-f539-4974-f226-debce4a2282e"
      },
      "execution_count": null,
      "outputs": [
        {
          "output_type": "stream",
          "name": "stdout",
          "text": [
            "ab\n"
          ]
        }
      ]
    },
    {
      "cell_type": "code",
      "source": [
        "add(2,\"a\")"
      ],
      "metadata": {
        "colab": {
          "base_uri": "https://localhost:8080/",
          "height": 259
        },
        "id": "Ib77qlvoWVLv",
        "outputId": "6590b5ed-3a72-4bdb-9b01-a89d89df44bf"
      },
      "execution_count": null,
      "outputs": [
        {
          "output_type": "error",
          "ename": "TypeError",
          "evalue": "ignored",
          "traceback": [
            "\u001b[0;31m---------------------------------------------------------------------------\u001b[0m",
            "\u001b[0;31mTypeError\u001b[0m                                 Traceback (most recent call last)",
            "\u001b[0;32m<ipython-input-98-f92a84a0a726>\u001b[0m in \u001b[0;36m<module>\u001b[0;34m\u001b[0m\n\u001b[0;32m----> 1\u001b[0;31m \u001b[0madd\u001b[0m\u001b[0;34m(\u001b[0m\u001b[0;36m2\u001b[0m\u001b[0;34m,\u001b[0m\u001b[0;34m\"a\"\u001b[0m\u001b[0;34m)\u001b[0m\u001b[0;34m\u001b[0m\u001b[0;34m\u001b[0m\u001b[0m\n\u001b[0m",
            "\u001b[0;32m<ipython-input-95-8f6b37baafd2>\u001b[0m in \u001b[0;36madd\u001b[0;34m(a, b)\u001b[0m\n\u001b[1;32m      1\u001b[0m \u001b[0;32mdef\u001b[0m \u001b[0madd\u001b[0m\u001b[0;34m(\u001b[0m\u001b[0ma\u001b[0m\u001b[0;34m,\u001b[0m\u001b[0mb\u001b[0m\u001b[0;34m)\u001b[0m\u001b[0;34m:\u001b[0m\u001b[0;34m\u001b[0m\u001b[0;34m\u001b[0m\u001b[0m\n\u001b[0;32m----> 2\u001b[0;31m   \u001b[0mres\u001b[0m \u001b[0;34m=\u001b[0m \u001b[0ma\u001b[0m\u001b[0;34m+\u001b[0m\u001b[0mb\u001b[0m\u001b[0;34m\u001b[0m\u001b[0;34m\u001b[0m\u001b[0m\n\u001b[0m\u001b[1;32m      3\u001b[0m   \u001b[0mprint\u001b[0m\u001b[0;34m(\u001b[0m\u001b[0mres\u001b[0m\u001b[0;34m)\u001b[0m\u001b[0;34m\u001b[0m\u001b[0;34m\u001b[0m\u001b[0m\n",
            "\u001b[0;31mTypeError\u001b[0m: unsupported operand type(s) for +: 'int' and 'str'"
          ]
        }
      ]
    },
    {
      "cell_type": "code",
      "source": [
        "def add(a,b):\n",
        "  '''\n",
        "  Arguments:\n",
        "  a: int or string\n",
        "  b: int or string\n",
        "\n",
        "  Note- please do not enter diff data types in one function call\n",
        "\n",
        "  output:\n",
        "  str+str --> concatenation\n",
        "  int+int --> addition\n",
        "  '''\n",
        "\n",
        "  res = a+b\n",
        "  print(res)"
      ],
      "metadata": {
        "id": "G8ROnHqVV-Gu"
      },
      "execution_count": null,
      "outputs": []
    },
    {
      "cell_type": "code",
      "source": [
        "help(add)"
      ],
      "metadata": {
        "colab": {
          "base_uri": "https://localhost:8080/"
        },
        "id": "b5HUXSNvWZoc",
        "outputId": "2eb6fb13-fc56-470b-934a-8a3cf8520cbb"
      },
      "execution_count": null,
      "outputs": [
        {
          "output_type": "stream",
          "name": "stdout",
          "text": [
            "Help on function add in module __main__:\n",
            "\n",
            "add(a, b)\n",
            "    Arguments:\n",
            "    a: int or string\n",
            "    b: int or string\n",
            "    \n",
            "    Note- please do not enter diff data types in one function call\n",
            "    \n",
            "    output:\n",
            "    str+str --> concatenation\n",
            "    int+int --> addition\n",
            "\n"
          ]
        }
      ]
    },
    {
      "cell_type": "code",
      "source": [
        "a = print(\"Hello\")"
      ],
      "metadata": {
        "colab": {
          "base_uri": "https://localhost:8080/"
        },
        "id": "zOCcW6oZWile",
        "outputId": "1e27b728-38ad-47db-a6d9-8193d5f9d0cf"
      },
      "execution_count": null,
      "outputs": [
        {
          "output_type": "stream",
          "name": "stdout",
          "text": [
            "Hello\n"
          ]
        }
      ]
    },
    {
      "cell_type": "code",
      "source": [
        "print(a)"
      ],
      "metadata": {
        "colab": {
          "base_uri": "https://localhost:8080/"
        },
        "id": "3-Id2dp3XbfT",
        "outputId": "96c0b7df-ebde-4a5e-afc7-e1b35519e457"
      },
      "execution_count": null,
      "outputs": [
        {
          "output_type": "stream",
          "name": "stdout",
          "text": [
            "None\n"
          ]
        }
      ]
    },
    {
      "cell_type": "code",
      "source": [
        "def greetings(name):\n",
        "  print(\"Hello\", name)\n"
      ],
      "metadata": {
        "id": "ENvhkoP2XdW5"
      },
      "execution_count": null,
      "outputs": []
    }
  ]
}