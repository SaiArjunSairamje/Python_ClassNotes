{
  "nbformat": 4,
  "nbformat_minor": 0,
  "metadata": {
    "colab": {
      "provenance": [],
      "include_colab_link": true
    },
    "kernelspec": {
      "name": "python3",
      "display_name": "Python 3"
    },
    "language_info": {
      "name": "python"
    }
  },
  "cells": [
    {
      "cell_type": "markdown",
      "metadata": {
        "id": "view-in-github",
        "colab_type": "text"
      },
      "source": [
        "<a href=\"https://colab.research.google.com/github/SaiArjunSairamje/Python_ClassNotes/blob/main/15.%20Functions-2%20.ipynb\" target=\"_parent\"><img src=\"https://colab.research.google.com/assets/colab-badge.svg\" alt=\"Open In Colab\"/></a>"
      ]
    },
    {
      "cell_type": "markdown",
      "source": [
        "## **Content**\n",
        "* **Positional Arguments `(revision)`**\n",
        "* **Key-worded Arguments**\n",
        "* **Mixture (i.e. Pasitional Arguments + Key-worded Arguments)**\n",
        "  - **`IMP Rule:` All Positional Arguments before Key-worded Arguments.**\n",
        "* **Simple Interest**\n",
        "* **Deafult Argument**\n",
        "* **Need for Deafult Arguments**\n",
        "* **Mixture (i.e. Positional Args + Default Args)**\n",
        "  - **`IMP Rule:` All Positional Args before the Deafult Args.**\n",
        "* **Local Vs Global Variables**"
      ],
      "metadata": {
        "id": "SHMA9dgHtwLe"
      }
    },
    {
      "cell_type": "code",
      "execution_count": null,
      "metadata": {
        "colab": {
          "base_uri": "https://localhost:8080/",
          "height": 134
        },
        "id": "VGvgxO93R0f9",
        "outputId": "140da376-ab6d-4e74-e2ff-ae8a728a57a8"
      },
      "outputs": [
        {
          "output_type": "error",
          "ename": "SyntaxError",
          "evalue": "ignored",
          "traceback": [
            "\u001b[0;36m  File \u001b[0;32m\"<ipython-input-1-98a0039f420c>\"\u001b[0;36m, line \u001b[0;32m1\u001b[0m\n\u001b[0;31m    funtion random():\u001b[0m\n\u001b[0m                 ^\u001b[0m\n\u001b[0;31mSyntaxError\u001b[0m\u001b[0;31m:\u001b[0m invalid syntax\n"
          ]
        }
      ],
      "source": [
        "funtion random():\n",
        "  return True"
      ]
    },
    {
      "cell_type": "code",
      "source": [
        "def random():\n",
        "  return True"
      ],
      "metadata": {
        "id": "QDziGZUOSgej"
      },
      "execution_count": null,
      "outputs": []
    },
    {
      "cell_type": "code",
      "source": [
        "ans = random()"
      ],
      "metadata": {
        "id": "cwQAlVSgSKBk"
      },
      "execution_count": null,
      "outputs": []
    },
    {
      "cell_type": "code",
      "source": [
        "print(ans)"
      ],
      "metadata": {
        "colab": {
          "base_uri": "https://localhost:8080/"
        },
        "id": "fpWvA_tfSjQK",
        "outputId": "65baefe1-6793-49b1-b724-9613d6ae3825"
      },
      "execution_count": null,
      "outputs": [
        {
          "output_type": "stream",
          "name": "stdout",
          "text": [
            "True\n"
          ]
        }
      ]
    },
    {
      "cell_type": "code",
      "source": [
        "def abc:\n",
        "  print(\"Hello\")\n",
        "\n",
        "abc()"
      ],
      "metadata": {
        "colab": {
          "base_uri": "https://localhost:8080/",
          "height": 134
        },
        "id": "2bGY7VwYSnjW",
        "outputId": "ce992f58-81b9-45eb-a752-18499ca87b92"
      },
      "execution_count": null,
      "outputs": [
        {
          "output_type": "error",
          "ename": "SyntaxError",
          "evalue": "ignored",
          "traceback": [
            "\u001b[0;36m  File \u001b[0;32m\"<ipython-input-6-85b8f1c4f0d0>\"\u001b[0;36m, line \u001b[0;32m1\u001b[0m\n\u001b[0;31m    def abc:\u001b[0m\n\u001b[0m           ^\u001b[0m\n\u001b[0;31mSyntaxError\u001b[0m\u001b[0;31m:\u001b[0m invalid syntax\n"
          ]
        }
      ]
    },
    {
      "cell_type": "code",
      "source": [
        "def abc():\n",
        "  print(\"Hello\")\n",
        "\n",
        "abc()"
      ],
      "metadata": {
        "colab": {
          "base_uri": "https://localhost:8080/"
        },
        "id": "Un3QSlgzSxu3",
        "outputId": "ac81133a-0110-4be9-ff88-de7a9f6e084e"
      },
      "execution_count": null,
      "outputs": [
        {
          "output_type": "stream",
          "name": "stdout",
          "text": [
            "Hello\n"
          ]
        }
      ]
    },
    {
      "cell_type": "code",
      "source": [
        "def car_specifications(brand, color, price):\n",
        "  print(\"Brand is \", brand)\n",
        "  print(\"Color is \", color)\n",
        "  print(\"Price is \", price)\n"
      ],
      "metadata": {
        "id": "X1DxkQ6_S3US"
      },
      "execution_count": null,
      "outputs": []
    },
    {
      "cell_type": "code",
      "source": [
        "car_specifications(\"Suzuki\", \"Red\", 200)"
      ],
      "metadata": {
        "colab": {
          "base_uri": "https://localhost:8080/"
        },
        "id": "9f9cuB5hTKGD",
        "outputId": "b05ca162-4d80-4f14-cf05-c7c43686d945"
      },
      "execution_count": null,
      "outputs": [
        {
          "output_type": "stream",
          "name": "stdout",
          "text": [
            "Brand is  Suzuki\n",
            "Color is  Red\n",
            "Price is  200\n"
          ]
        }
      ]
    },
    {
      "cell_type": "code",
      "source": [
        "car_specifications(\"Suzuki\", \"Red\", 200, 400)"
      ],
      "metadata": {
        "colab": {
          "base_uri": "https://localhost:8080/",
          "height": 170
        },
        "id": "HSxyg08ATPKV",
        "outputId": "e5953863-630e-479f-cb07-0195e748189d"
      },
      "execution_count": null,
      "outputs": [
        {
          "output_type": "error",
          "ename": "TypeError",
          "evalue": "ignored",
          "traceback": [
            "\u001b[0;31m---------------------------------------------------------------------------\u001b[0m",
            "\u001b[0;31mTypeError\u001b[0m                                 Traceback (most recent call last)",
            "\u001b[0;32m<ipython-input-10-d6bdcb01b765>\u001b[0m in \u001b[0;36m<module>\u001b[0;34m\u001b[0m\n\u001b[0;32m----> 1\u001b[0;31m \u001b[0mcar_specifications\u001b[0m\u001b[0;34m(\u001b[0m\u001b[0;34m\"Suzuki\"\u001b[0m\u001b[0;34m,\u001b[0m \u001b[0;34m\"Red\"\u001b[0m\u001b[0;34m,\u001b[0m \u001b[0;36m200\u001b[0m\u001b[0;34m,\u001b[0m \u001b[0;36m400\u001b[0m\u001b[0;34m)\u001b[0m\u001b[0;34m\u001b[0m\u001b[0;34m\u001b[0m\u001b[0m\n\u001b[0m",
            "\u001b[0;31mTypeError\u001b[0m: car_specifications() takes 3 positional arguments but 4 were given"
          ]
        }
      ]
    },
    {
      "cell_type": "code",
      "source": [
        "car_specifications(\"Suzuki\", \"Red\")"
      ],
      "metadata": {
        "colab": {
          "base_uri": "https://localhost:8080/",
          "height": 170
        },
        "id": "WvYSsv4FTbDZ",
        "outputId": "9991a41b-c37e-4537-e53e-43512339fbc7"
      },
      "execution_count": null,
      "outputs": [
        {
          "output_type": "error",
          "ename": "TypeError",
          "evalue": "ignored",
          "traceback": [
            "\u001b[0;31m---------------------------------------------------------------------------\u001b[0m",
            "\u001b[0;31mTypeError\u001b[0m                                 Traceback (most recent call last)",
            "\u001b[0;32m<ipython-input-11-0a3160a3d183>\u001b[0m in \u001b[0;36m<module>\u001b[0;34m\u001b[0m\n\u001b[0;32m----> 1\u001b[0;31m \u001b[0mcar_specifications\u001b[0m\u001b[0;34m(\u001b[0m\u001b[0;34m\"Suzuki\"\u001b[0m\u001b[0;34m,\u001b[0m \u001b[0;34m\"Red\"\u001b[0m\u001b[0;34m)\u001b[0m\u001b[0;34m\u001b[0m\u001b[0;34m\u001b[0m\u001b[0m\n\u001b[0m",
            "\u001b[0;31mTypeError\u001b[0m: car_specifications() missing 1 required positional argument: 'price'"
          ]
        }
      ]
    },
    {
      "cell_type": "code",
      "source": [
        "car_specifications(\"Suzuki\", 200, \"Red\")"
      ],
      "metadata": {
        "colab": {
          "base_uri": "https://localhost:8080/"
        },
        "id": "INsIYXxaTdQ5",
        "outputId": "b6453489-7f88-40c1-df8c-e5dd4daf5b23"
      },
      "execution_count": null,
      "outputs": [
        {
          "output_type": "stream",
          "name": "stdout",
          "text": [
            "Brand is  Suzuki\n",
            "Color is  200\n",
            "Price is  Red\n"
          ]
        }
      ]
    },
    {
      "cell_type": "code",
      "source": [
        "#key-worded arguments\n",
        "car_specifications(brand = \"Suzuki\", price = 200, color = \"Red\")"
      ],
      "metadata": {
        "colab": {
          "base_uri": "https://localhost:8080/"
        },
        "id": "BjsUxTJTT-av",
        "outputId": "bb14411d-1e1f-4807-ac2d-d1abffdc797a"
      },
      "execution_count": null,
      "outputs": [
        {
          "output_type": "stream",
          "name": "stdout",
          "text": [
            "Brand is  Suzuki\n",
            "Color is  Red\n",
            "Price is  200\n"
          ]
        }
      ]
    },
    {
      "cell_type": "code",
      "source": [
        "#key-worded arguments\n",
        "car_specifications( price = 200, color = \"Red\", brand = \"Suzuki\")"
      ],
      "metadata": {
        "colab": {
          "base_uri": "https://localhost:8080/"
        },
        "id": "h9rZNhTiUNfK",
        "outputId": "9529ed34-0926-465f-e09b-4296de50196c"
      },
      "execution_count": null,
      "outputs": [
        {
          "output_type": "stream",
          "name": "stdout",
          "text": [
            "Brand is  Suzuki\n",
            "Color is  Red\n",
            "Price is  200\n"
          ]
        }
      ]
    },
    {
      "cell_type": "code",
      "source": [
        "def sample(a,b,c,d):\n",
        "  print(\"a =\", a)\n",
        "  print(\"b =\",b)\n",
        "  print(\"c =\",c)\n",
        "  print(\"d =\",d)"
      ],
      "metadata": {
        "id": "5Htb4ZNnUaSH"
      },
      "execution_count": null,
      "outputs": []
    },
    {
      "cell_type": "code",
      "source": [
        "sample(1,2,3,4)"
      ],
      "metadata": {
        "colab": {
          "base_uri": "https://localhost:8080/"
        },
        "id": "l_NGtgdHU1yJ",
        "outputId": "3f69bdb9-41d6-49e6-ffe1-b650db9d5df8"
      },
      "execution_count": null,
      "outputs": [
        {
          "output_type": "stream",
          "name": "stdout",
          "text": [
            "1 2 3 4\n"
          ]
        }
      ]
    },
    {
      "cell_type": "code",
      "source": [
        "sample(b = 1, a=2, c=3, d=4)"
      ],
      "metadata": {
        "colab": {
          "base_uri": "https://localhost:8080/"
        },
        "id": "801PnRbzU6Bp",
        "outputId": "e67290db-d65c-40dc-93fb-2319d831b79b"
      },
      "execution_count": null,
      "outputs": [
        {
          "output_type": "stream",
          "name": "stdout",
          "text": [
            "2 1 3 4\n"
          ]
        }
      ]
    },
    {
      "cell_type": "code",
      "source": [
        "sample(a = 1, b= 3, a = 2, d = 5)"
      ],
      "metadata": {
        "colab": {
          "base_uri": "https://localhost:8080/",
          "height": 134
        },
        "id": "RP3OOCzjVAe2",
        "outputId": "aa1902b2-70ae-4128-a0f5-c865de29d95f"
      },
      "execution_count": null,
      "outputs": [
        {
          "output_type": "error",
          "ename": "SyntaxError",
          "evalue": "ignored",
          "traceback": [
            "\u001b[0;36m  File \u001b[0;32m\"<ipython-input-19-8477796a0d75>\"\u001b[0;36m, line \u001b[0;32m1\u001b[0m\n\u001b[0;31m    sample(a = 1, b= 3, a = 2, d = 5)\u001b[0m\n\u001b[0m                       ^\u001b[0m\n\u001b[0;31mSyntaxError\u001b[0m\u001b[0;31m:\u001b[0m keyword argument repeated\n"
          ]
        }
      ]
    },
    {
      "cell_type": "code",
      "source": [
        "#mixture\n",
        "sample(3, b = 5, d = 7, c = 4)"
      ],
      "metadata": {
        "colab": {
          "base_uri": "https://localhost:8080/"
        },
        "id": "AMGi6yZLVRRu",
        "outputId": "59602b29-0c7b-4d27-9d16-3a57b81cf7b8"
      },
      "execution_count": null,
      "outputs": [
        {
          "output_type": "stream",
          "name": "stdout",
          "text": [
            "a = 3\n",
            "b = 5\n",
            "c = 4\n",
            "d = 7\n"
          ]
        }
      ]
    },
    {
      "cell_type": "code",
      "source": [
        "sample(b = 5, 1, c = 3, d = 4)"
      ],
      "metadata": {
        "colab": {
          "base_uri": "https://localhost:8080/",
          "height": 134
        },
        "id": "r8gJpHvQWKV1",
        "outputId": "e4c8edec-6d23-4620-f622-a06dcec93afa"
      },
      "execution_count": null,
      "outputs": [
        {
          "output_type": "error",
          "ename": "SyntaxError",
          "evalue": "ignored",
          "traceback": [
            "\u001b[0;36m  File \u001b[0;32m\"<ipython-input-28-4fc7723510c8>\"\u001b[0;36m, line \u001b[0;32m1\u001b[0m\n\u001b[0;31m    sample(b = 5, 1, c = 3, d = 4)\u001b[0m\n\u001b[0m                 ^\u001b[0m\n\u001b[0;31mSyntaxError\u001b[0m\u001b[0;31m:\u001b[0m positional argument follows keyword argument\n"
          ]
        }
      ]
    },
    {
      "cell_type": "code",
      "source": [
        "sample(4,5,d = 2, c = 1)"
      ],
      "metadata": {
        "colab": {
          "base_uri": "https://localhost:8080/"
        },
        "id": "mL3HpLaiWsu8",
        "outputId": "df5601bc-d1ef-41b4-a2ee-90f961fe20a6"
      },
      "execution_count": null,
      "outputs": [
        {
          "output_type": "stream",
          "name": "stdout",
          "text": [
            "a = 4\n",
            "b = 5\n",
            "c = 1\n",
            "d = 2\n"
          ]
        }
      ]
    },
    {
      "cell_type": "code",
      "source": [
        "sample(4,5,c = 2, b = 1)"
      ],
      "metadata": {
        "colab": {
          "base_uri": "https://localhost:8080/",
          "height": 170
        },
        "id": "qY4GNCrXXP3y",
        "outputId": "416c3c3c-5dd3-400c-bf37-c4066f83a638"
      },
      "execution_count": null,
      "outputs": [
        {
          "output_type": "error",
          "ename": "TypeError",
          "evalue": "ignored",
          "traceback": [
            "\u001b[0;31m---------------------------------------------------------------------------\u001b[0m",
            "\u001b[0;31mTypeError\u001b[0m                                 Traceback (most recent call last)",
            "\u001b[0;32m<ipython-input-31-3d5d24d8177e>\u001b[0m in \u001b[0;36m<module>\u001b[0;34m\u001b[0m\n\u001b[0;32m----> 1\u001b[0;31m \u001b[0msample\u001b[0m\u001b[0;34m(\u001b[0m\u001b[0;36m4\u001b[0m\u001b[0;34m,\u001b[0m\u001b[0;36m5\u001b[0m\u001b[0;34m,\u001b[0m\u001b[0mc\u001b[0m \u001b[0;34m=\u001b[0m \u001b[0;36m2\u001b[0m\u001b[0;34m,\u001b[0m \u001b[0mb\u001b[0m \u001b[0;34m=\u001b[0m \u001b[0;36m1\u001b[0m\u001b[0;34m)\u001b[0m\u001b[0;34m\u001b[0m\u001b[0;34m\u001b[0m\u001b[0m\n\u001b[0m",
            "\u001b[0;31mTypeError\u001b[0m: sample() got multiple values for argument 'b'"
          ]
        }
      ]
    },
    {
      "cell_type": "code",
      "source": [
        "sample(4,2,1,d = 5)"
      ],
      "metadata": {
        "colab": {
          "base_uri": "https://localhost:8080/"
        },
        "id": "NgnsAtmWXfRx",
        "outputId": "699ab42b-5263-4910-8814-b95aa9d02019"
      },
      "execution_count": null,
      "outputs": [
        {
          "output_type": "stream",
          "name": "stdout",
          "text": [
            "a = 4\n",
            "b = 2\n",
            "c = 1\n",
            "d = 5\n"
          ]
        }
      ]
    },
    {
      "cell_type": "code",
      "source": [
        "sample(4,2,1,c = 5)"
      ],
      "metadata": {
        "colab": {
          "base_uri": "https://localhost:8080/",
          "height": 170
        },
        "id": "P6JJyQ5ZX2Q8",
        "outputId": "a2618f36-3d1f-4ac9-8475-7604b0bba208"
      },
      "execution_count": null,
      "outputs": [
        {
          "output_type": "error",
          "ename": "TypeError",
          "evalue": "ignored",
          "traceback": [
            "\u001b[0;31m---------------------------------------------------------------------------\u001b[0m",
            "\u001b[0;31mTypeError\u001b[0m                                 Traceback (most recent call last)",
            "\u001b[0;32m<ipython-input-33-6c57d2dbedf1>\u001b[0m in \u001b[0;36m<module>\u001b[0;34m\u001b[0m\n\u001b[0;32m----> 1\u001b[0;31m \u001b[0msample\u001b[0m\u001b[0;34m(\u001b[0m\u001b[0;36m4\u001b[0m\u001b[0;34m,\u001b[0m\u001b[0;36m2\u001b[0m\u001b[0;34m,\u001b[0m\u001b[0;36m1\u001b[0m\u001b[0;34m,\u001b[0m\u001b[0mc\u001b[0m \u001b[0;34m=\u001b[0m \u001b[0;36m5\u001b[0m\u001b[0;34m)\u001b[0m\u001b[0;34m\u001b[0m\u001b[0;34m\u001b[0m\u001b[0m\n\u001b[0m",
            "\u001b[0;31mTypeError\u001b[0m: sample() got multiple values for argument 'c'"
          ]
        }
      ]
    },
    {
      "cell_type": "code",
      "source": [
        "#simple interest\n",
        "\n",
        "# p*r*t/100"
      ],
      "metadata": {
        "id": "jWEXjMApYChs"
      },
      "execution_count": null,
      "outputs": []
    },
    {
      "cell_type": "code",
      "source": [
        "def simple_interest(p,r,t):\n",
        "  interest = (p*r*t)/100\n",
        "  return interest"
      ],
      "metadata": {
        "id": "hHCtD4DXYcNo"
      },
      "execution_count": null,
      "outputs": []
    },
    {
      "cell_type": "code",
      "source": [
        "si = simple_interest(200,300, 5)\n",
        "\n",
        "print(si)"
      ],
      "metadata": {
        "colab": {
          "base_uri": "https://localhost:8080/"
        },
        "id": "9hD-1lfiYpoT",
        "outputId": "acddb938-a4a9-4bdc-c680-3f4d068fc570"
      },
      "execution_count": null,
      "outputs": [
        {
          "output_type": "stream",
          "name": "stdout",
          "text": [
            "3000.0\n"
          ]
        }
      ]
    },
    {
      "cell_type": "code",
      "source": [
        "20/5"
      ],
      "metadata": {
        "colab": {
          "base_uri": "https://localhost:8080/"
        },
        "id": "GeyEf28VY5KZ",
        "outputId": "c68690c1-ee8b-4e21-d9ba-59dfc9302fe9"
      },
      "execution_count": null,
      "outputs": [
        {
          "output_type": "execute_result",
          "data": {
            "text/plain": [
              "4.0"
            ]
          },
          "metadata": {},
          "execution_count": 36
        }
      ]
    },
    {
      "cell_type": "code",
      "source": [
        "20//5\n",
        "#floored division"
      ],
      "metadata": {
        "colab": {
          "base_uri": "https://localhost:8080/"
        },
        "id": "cyhKW_CzY_ik",
        "outputId": "284603a9-900b-41ae-b4ca-dff0f3a1c647"
      },
      "execution_count": null,
      "outputs": [
        {
          "output_type": "execute_result",
          "data": {
            "text/plain": [
              "4"
            ]
          },
          "metadata": {},
          "execution_count": 37
        }
      ]
    },
    {
      "cell_type": "code",
      "source": [
        "-8//3"
      ],
      "metadata": {
        "colab": {
          "base_uri": "https://localhost:8080/"
        },
        "id": "RAUGyo18ZEDm",
        "outputId": "66e54d31-4328-4a12-e71a-93605b06151d"
      },
      "execution_count": null,
      "outputs": [
        {
          "output_type": "execute_result",
          "data": {
            "text/plain": [
              "-3"
            ]
          },
          "metadata": {},
          "execution_count": 41
        }
      ]
    },
    {
      "cell_type": "code",
      "source": [
        "8/3"
      ],
      "metadata": {
        "colab": {
          "base_uri": "https://localhost:8080/"
        },
        "id": "_EwRmzXlZVai",
        "outputId": "49dae1e7-fb49-4f48-bcec-10e4a518d384"
      },
      "execution_count": null,
      "outputs": [
        {
          "output_type": "execute_result",
          "data": {
            "text/plain": [
              "2.6666666666666665"
            ]
          },
          "metadata": {},
          "execution_count": 39
        }
      ]
    },
    {
      "cell_type": "code",
      "source": [
        "-8/3"
      ],
      "metadata": {
        "colab": {
          "base_uri": "https://localhost:8080/"
        },
        "id": "fTwCNG_mZV9q",
        "outputId": "f79a6440-2129-4481-af52-d28b536339f5"
      },
      "execution_count": null,
      "outputs": [
        {
          "output_type": "execute_result",
          "data": {
            "text/plain": [
              "-2.6666666666666665"
            ]
          },
          "metadata": {},
          "execution_count": 40
        }
      ]
    },
    {
      "cell_type": "code",
      "source": [
        "si = simple_interest(200,300, 5)\n",
        "\n",
        "print(si)"
      ],
      "metadata": {
        "colab": {
          "base_uri": "https://localhost:8080/"
        },
        "id": "IbzAE6SzZZTX",
        "outputId": "876612ab-91fd-484b-e374-d1096a83fb83"
      },
      "execution_count": null,
      "outputs": [
        {
          "output_type": "stream",
          "name": "stdout",
          "text": [
            "3000.0\n"
          ]
        }
      ]
    },
    {
      "cell_type": "code",
      "source": [
        "#default argument"
      ],
      "metadata": {
        "id": "cqF41OSGZoQ_"
      },
      "execution_count": null,
      "outputs": []
    },
    {
      "cell_type": "code",
      "source": [
        "si = simple_interest(200,300)\n",
        "\n",
        "print(si)"
      ],
      "metadata": {
        "colab": {
          "base_uri": "https://localhost:8080/",
          "height": 205
        },
        "id": "eCtl5Z4mZsab",
        "outputId": "9a8bf42d-86f1-4f91-b290-31eec0807cb3"
      },
      "execution_count": null,
      "outputs": [
        {
          "output_type": "error",
          "ename": "TypeError",
          "evalue": "ignored",
          "traceback": [
            "\u001b[0;31m---------------------------------------------------------------------------\u001b[0m",
            "\u001b[0;31mTypeError\u001b[0m                                 Traceback (most recent call last)",
            "\u001b[0;32m<ipython-input-44-20f794cfde95>\u001b[0m in \u001b[0;36m<module>\u001b[0;34m\u001b[0m\n\u001b[0;32m----> 1\u001b[0;31m \u001b[0msi\u001b[0m \u001b[0;34m=\u001b[0m \u001b[0msimple_interest\u001b[0m\u001b[0;34m(\u001b[0m\u001b[0;36m200\u001b[0m\u001b[0;34m,\u001b[0m\u001b[0;36m300\u001b[0m\u001b[0;34m)\u001b[0m\u001b[0;34m\u001b[0m\u001b[0;34m\u001b[0m\u001b[0m\n\u001b[0m\u001b[1;32m      2\u001b[0m \u001b[0;34m\u001b[0m\u001b[0m\n\u001b[1;32m      3\u001b[0m \u001b[0mprint\u001b[0m\u001b[0;34m(\u001b[0m\u001b[0msi\u001b[0m\u001b[0;34m)\u001b[0m\u001b[0;34m\u001b[0m\u001b[0;34m\u001b[0m\u001b[0m\n",
            "\u001b[0;31mTypeError\u001b[0m: simple_interest() missing 1 required positional argument: 't'"
          ]
        }
      ]
    },
    {
      "cell_type": "code",
      "source": [
        "si = simple_interest(r = 200, p = 300, t = 5)\n",
        "\n",
        "print(si)"
      ],
      "metadata": {
        "colab": {
          "base_uri": "https://localhost:8080/"
        },
        "id": "wt87edK5aFpe",
        "outputId": "1b6135fe-bf8d-4525-d8ad-a346c01e3b1e"
      },
      "execution_count": null,
      "outputs": [
        {
          "output_type": "stream",
          "name": "stdout",
          "text": [
            "3000.0\n"
          ]
        }
      ]
    },
    {
      "cell_type": "code",
      "source": [
        "si = simple_interest(p = 200,r = 300, 5)\n",
        "\n",
        "print(si)"
      ],
      "metadata": {
        "colab": {
          "base_uri": "https://localhost:8080/",
          "height": 134
        },
        "id": "K9Mb5oa4aPvK",
        "outputId": "1acb8ac8-d02b-41d2-a789-329820a58e28"
      },
      "execution_count": null,
      "outputs": [
        {
          "output_type": "error",
          "ename": "SyntaxError",
          "evalue": "ignored",
          "traceback": [
            "\u001b[0;36m  File \u001b[0;32m\"<ipython-input-46-cf3f049865a3>\"\u001b[0;36m, line \u001b[0;32m1\u001b[0m\n\u001b[0;31m    si = simple_interest(p = 200,r = 300, 5)\u001b[0m\n\u001b[0m                                         ^\u001b[0m\n\u001b[0;31mSyntaxError\u001b[0m\u001b[0;31m:\u001b[0m positional argument follows keyword argument\n"
          ]
        }
      ]
    },
    {
      "cell_type": "code",
      "source": [
        "#need for default argument"
      ],
      "metadata": {
        "id": "MVjnDu1aaZYg"
      },
      "execution_count": null,
      "outputs": []
    },
    {
      "cell_type": "code",
      "source": [
        "def si_bank(p,r,t=3):\n",
        "  print(p,r,t)\n"
      ],
      "metadata": {
        "id": "4Xw--HTYalt4"
      },
      "execution_count": null,
      "outputs": []
    },
    {
      "cell_type": "code",
      "source": [
        "si_bank(200,300)"
      ],
      "metadata": {
        "colab": {
          "base_uri": "https://localhost:8080/"
        },
        "id": "CqEBXclsavQp",
        "outputId": "a5c0f981-9c48-4b32-98ed-c8a7bad9062c"
      },
      "execution_count": null,
      "outputs": [
        {
          "output_type": "stream",
          "name": "stdout",
          "text": [
            "200 300 3\n"
          ]
        }
      ]
    },
    {
      "cell_type": "code",
      "source": [
        "si_bank(200,300, 10)"
      ],
      "metadata": {
        "colab": {
          "base_uri": "https://localhost:8080/"
        },
        "id": "chRljX3Ca15V",
        "outputId": "047a59c1-a305-4bef-f31a-37ab0ea9b6c5"
      },
      "execution_count": null,
      "outputs": [
        {
          "output_type": "stream",
          "name": "stdout",
          "text": [
            "200 300 10\n"
          ]
        }
      ]
    },
    {
      "cell_type": "code",
      "source": [
        "#mixture of positional as well as default\n",
        "def si_bank(p,r=5,t=3):\n",
        "  print(p,r,t)"
      ],
      "metadata": {
        "id": "MmLhy6JrbGwg"
      },
      "execution_count": null,
      "outputs": []
    },
    {
      "cell_type": "code",
      "source": [
        "si_bank(2)"
      ],
      "metadata": {
        "colab": {
          "base_uri": "https://localhost:8080/"
        },
        "id": "7Z7aXuQDbP9y",
        "outputId": "b88d7d97-706b-48c8-944d-f576dd63b66b"
      },
      "execution_count": null,
      "outputs": [
        {
          "output_type": "stream",
          "name": "stdout",
          "text": [
            "2 5 3\n"
          ]
        }
      ]
    },
    {
      "cell_type": "code",
      "source": [
        "si_bank(3,1)"
      ],
      "metadata": {
        "colab": {
          "base_uri": "https://localhost:8080/"
        },
        "id": "iLm8nju_bYTF",
        "outputId": "bee99f6b-b9cd-4ad7-ca48-f01a38a16cac"
      },
      "execution_count": null,
      "outputs": [
        {
          "output_type": "stream",
          "name": "stdout",
          "text": [
            "3 1 3\n"
          ]
        }
      ]
    },
    {
      "cell_type": "code",
      "source": [
        "si_bank(3,6,8)"
      ],
      "metadata": {
        "colab": {
          "base_uri": "https://localhost:8080/"
        },
        "id": "FjkyWZzabkr1",
        "outputId": "1c32f65c-e5f8-4c6e-83b5-5b1b2eacc1fe"
      },
      "execution_count": null,
      "outputs": [
        {
          "output_type": "stream",
          "name": "stdout",
          "text": [
            "3 6 8\n"
          ]
        }
      ]
    },
    {
      "cell_type": "code",
      "source": [
        "#default\n",
        "def si_bank(p=10,r=5,t=3):\n",
        "  print(p,r,t)\n"
      ],
      "metadata": {
        "id": "fjQfC-alb2Ma"
      },
      "execution_count": null,
      "outputs": []
    },
    {
      "cell_type": "code",
      "source": [
        "si_bank()"
      ],
      "metadata": {
        "colab": {
          "base_uri": "https://localhost:8080/"
        },
        "id": "WNEss0qIb8eD",
        "outputId": "e825af27-3531-4550-ae66-8981c1d6829a"
      },
      "execution_count": null,
      "outputs": [
        {
          "output_type": "stream",
          "name": "stdout",
          "text": [
            "10 5 3\n"
          ]
        }
      ]
    },
    {
      "cell_type": "code",
      "source": [
        "#mixture of positional as well as default\n",
        "def si_bank(p,r=5,t):\n",
        "  print(p,r,t)\n"
      ],
      "metadata": {
        "colab": {
          "base_uri": "https://localhost:8080/",
          "height": 134
        },
        "id": "8d_JyRVYcAv3",
        "outputId": "497c81cc-7ce7-44da-d741-b4a42d6fa6b7"
      },
      "execution_count": null,
      "outputs": [
        {
          "output_type": "error",
          "ename": "SyntaxError",
          "evalue": "ignored",
          "traceback": [
            "\u001b[0;36m  File \u001b[0;32m\"<ipython-input-58-2ba1a4c89507>\"\u001b[0;36m, line \u001b[0;32m2\u001b[0m\n\u001b[0;31m    def si_bank(p,r=5,t):\u001b[0m\n\u001b[0m               ^\u001b[0m\n\u001b[0;31mSyntaxError\u001b[0m\u001b[0;31m:\u001b[0m non-default argument follows default argument\n"
          ]
        }
      ]
    },
    {
      "cell_type": "code",
      "source": [
        "si_bank(10,12)"
      ],
      "metadata": {
        "id": "doFbJD9QcJy7"
      },
      "execution_count": null,
      "outputs": []
    },
    {
      "cell_type": "code",
      "source": [
        "#mixture of positional as well as default\n",
        "def si_bank(p,t,r=5):\n",
        "  print(p,r,t)\n"
      ],
      "metadata": {
        "id": "oj5fRepxcpQl"
      },
      "execution_count": null,
      "outputs": []
    },
    {
      "cell_type": "code",
      "source": [
        "si_bank(10,20)"
      ],
      "metadata": {
        "colab": {
          "base_uri": "https://localhost:8080/"
        },
        "id": "2GOiVOracsN7",
        "outputId": "bf6d4d07-65b7-406b-d46d-f05dc555c7f8"
      },
      "execution_count": null,
      "outputs": [
        {
          "output_type": "stream",
          "name": "stdout",
          "text": [
            "10 5 20\n"
          ]
        }
      ]
    },
    {
      "cell_type": "code",
      "source": [
        "#mixture of positional as well as default\n",
        "def si_bank(p,t,r=5):\n",
        "  print(p,r,t)\n",
        "\n",
        "si_bank(p=10,r=20)"
      ],
      "metadata": {
        "colab": {
          "base_uri": "https://localhost:8080/",
          "height": 201
        },
        "id": "fIyTHE_y_P8B",
        "outputId": "bdbefd19-16d7-445e-9bae-a4b2b166d309"
      },
      "execution_count": null,
      "outputs": [
        {
          "output_type": "error",
          "ename": "TypeError",
          "evalue": "ignored",
          "traceback": [
            "\u001b[0;31m---------------------------------------------------------------------------\u001b[0m",
            "\u001b[0;31mTypeError\u001b[0m                                 Traceback (most recent call last)",
            "\u001b[0;32m<ipython-input-3-a18f1bd71892>\u001b[0m in \u001b[0;36m<cell line: 5>\u001b[0;34m()\u001b[0m\n\u001b[1;32m      3\u001b[0m   \u001b[0mprint\u001b[0m\u001b[0;34m(\u001b[0m\u001b[0mp\u001b[0m\u001b[0;34m,\u001b[0m\u001b[0mr\u001b[0m\u001b[0;34m,\u001b[0m\u001b[0mt\u001b[0m\u001b[0;34m)\u001b[0m\u001b[0;34m\u001b[0m\u001b[0;34m\u001b[0m\u001b[0m\n\u001b[1;32m      4\u001b[0m \u001b[0;34m\u001b[0m\u001b[0m\n\u001b[0;32m----> 5\u001b[0;31m \u001b[0msi_bank\u001b[0m\u001b[0;34m(\u001b[0m\u001b[0mp\u001b[0m\u001b[0;34m=\u001b[0m\u001b[0;36m10\u001b[0m\u001b[0;34m,\u001b[0m\u001b[0mr\u001b[0m\u001b[0;34m=\u001b[0m\u001b[0;36m20\u001b[0m\u001b[0;34m)\u001b[0m\u001b[0;34m\u001b[0m\u001b[0;34m\u001b[0m\u001b[0m\n\u001b[0m",
            "\u001b[0;31mTypeError\u001b[0m: si_bank() missing 1 required positional argument: 't'"
          ]
        }
      ]
    },
    {
      "cell_type": "code",
      "source": [
        "'''\n",
        "Q1\n",
        "Create a date printing funciton\n",
        "Should take in 4 arguments\n",
        "day, month, year, style\n",
        "\n",
        "styling logic:\n",
        "\n",
        "style = 0: d / m / y\n",
        "style = 1: m / d / y\n",
        "\n",
        "style anything else: print \"invalid style\"\n",
        "\n",
        "IMP: default style is 0\n",
        "'''"
      ],
      "metadata": {
        "id": "eyRKPPNccviJ"
      },
      "execution_count": null,
      "outputs": []
    },
    {
      "cell_type": "code",
      "source": [
        "def print_date(day, month, year, style = 0):\n",
        "  if style == 0:\n",
        "    print(day,\"/\",month,\"/\", year)\n",
        "  elif style == 1:\n",
        "    print(month,\"/\",day,\"/\", year)\n",
        "  else:\n",
        "    print(\"invalid style\")"
      ],
      "metadata": {
        "id": "VMUPltjlg1Aa"
      },
      "execution_count": null,
      "outputs": []
    },
    {
      "cell_type": "code",
      "source": [
        "print_date(24,11,2022, -2)"
      ],
      "metadata": {
        "colab": {
          "base_uri": "https://localhost:8080/"
        },
        "id": "PQkQU0MziPgV",
        "outputId": "ab807556-24e4-4f94-d8f6-ae234b92a7d4"
      },
      "execution_count": null,
      "outputs": [
        {
          "output_type": "stream",
          "name": "stdout",
          "text": [
            "invalid style\n"
          ]
        }
      ]
    },
    {
      "cell_type": "code",
      "source": [
        "print_date(24,11,2022)"
      ],
      "metadata": {
        "colab": {
          "base_uri": "https://localhost:8080/"
        },
        "id": "TGt_hfBDhjZo",
        "outputId": "7811012d-b4b2-4d85-d190-074788931316"
      },
      "execution_count": null,
      "outputs": [
        {
          "output_type": "stream",
          "name": "stdout",
          "text": [
            "24 / 11 / 2022\n"
          ]
        }
      ]
    },
    {
      "cell_type": "code",
      "source": [
        "print_date(24,11,2022,1)"
      ],
      "metadata": {
        "colab": {
          "base_uri": "https://localhost:8080/"
        },
        "id": "6xrzvJMUh0Jr",
        "outputId": "806c16d0-9152-4b83-e8c3-e2ca96c16e59"
      },
      "execution_count": null,
      "outputs": [
        {
          "output_type": "stream",
          "name": "stdout",
          "text": [
            "11 / 24 / 2022\n"
          ]
        }
      ]
    },
    {
      "cell_type": "code",
      "source": [
        "print_date(24,11,2022,0)"
      ],
      "metadata": {
        "colab": {
          "base_uri": "https://localhost:8080/"
        },
        "id": "oMyKylZ1h4RJ",
        "outputId": "74f49647-a298-4265-d830-3e012a5209fb"
      },
      "execution_count": null,
      "outputs": [
        {
          "output_type": "stream",
          "name": "stdout",
          "text": [
            "24 / 11 / 2022\n"
          ]
        }
      ]
    },
    {
      "cell_type": "code",
      "source": [
        "def print_date(day, month, year, style = 0):\n",
        "  if style == 0:\n",
        "    print(day,\"/\",month,\"/\", year)\n",
        "  elif style == 1:\n",
        "    print(month,\"/\",day,\"/\", year)\n",
        "  elif style > 1:\n",
        "    print(\"invalid style\")"
      ],
      "metadata": {
        "id": "RpfC8zQRh9Ja"
      },
      "execution_count": null,
      "outputs": []
    },
    {
      "cell_type": "code",
      "source": [
        "print_date(24,11,2022,-2)"
      ],
      "metadata": {
        "id": "P6ltQo0iiLSH"
      },
      "execution_count": null,
      "outputs": []
    },
    {
      "cell_type": "code",
      "source": [
        "#global vs local variables"
      ],
      "metadata": {
        "id": "X7mxlntwiNQr"
      },
      "execution_count": null,
      "outputs": []
    },
    {
      "cell_type": "code",
      "source": [
        "a = 10\n",
        "\n",
        "def random(n):\n",
        "  a = 5\n",
        "  print(a)\n",
        "  print(n)\n"
      ],
      "metadata": {
        "id": "koi89CmmlBAW"
      },
      "execution_count": null,
      "outputs": []
    },
    {
      "cell_type": "code",
      "source": [
        "random(7)"
      ],
      "metadata": {
        "colab": {
          "base_uri": "https://localhost:8080/"
        },
        "id": "HZawk5VSlFhq",
        "outputId": "2326499c-cfa9-45de-a54e-9d265d74dd85"
      },
      "execution_count": null,
      "outputs": [
        {
          "output_type": "stream",
          "name": "stdout",
          "text": [
            "5\n",
            "7\n"
          ]
        }
      ]
    },
    {
      "cell_type": "code",
      "source": [
        "print(a)"
      ],
      "metadata": {
        "colab": {
          "base_uri": "https://localhost:8080/"
        },
        "id": "J8Q9wfizlHUz",
        "outputId": "9139325f-bb4b-4444-b7bd-e6918a5547f2"
      },
      "execution_count": null,
      "outputs": [
        {
          "output_type": "stream",
          "name": "stdout",
          "text": [
            "10\n"
          ]
        }
      ]
    },
    {
      "cell_type": "code",
      "source": [
        "a = 10\n",
        "\n",
        "def random(n):\n",
        "  print(a)\n",
        "  print(n)\n"
      ],
      "metadata": {
        "id": "1GPgMHbulZ-X"
      },
      "execution_count": null,
      "outputs": []
    },
    {
      "cell_type": "code",
      "source": [
        "random(7)"
      ],
      "metadata": {
        "colab": {
          "base_uri": "https://localhost:8080/"
        },
        "id": "k5DBycCrlunk",
        "outputId": "1565f515-f0f0-498f-eb10-8c57457c65b3"
      },
      "execution_count": null,
      "outputs": [
        {
          "output_type": "stream",
          "name": "stdout",
          "text": [
            "10\n",
            "7\n"
          ]
        }
      ]
    },
    {
      "cell_type": "code",
      "source": [
        "a = 10\n",
        "\n",
        "def random(n):\n",
        "  global a #access to the global a\n",
        "  a = 5 #updating the global a\n",
        "  print(a)\n",
        "  print(n)\n"
      ],
      "metadata": {
        "id": "uSEpQuOBlvSq"
      },
      "execution_count": null,
      "outputs": []
    },
    {
      "cell_type": "code",
      "source": [
        "random(7)"
      ],
      "metadata": {
        "colab": {
          "base_uri": "https://localhost:8080/"
        },
        "id": "w5_aEXRLmPOt",
        "outputId": "3fce626d-cda8-45e6-bb26-ec33059da014"
      },
      "execution_count": null,
      "outputs": [
        {
          "output_type": "stream",
          "name": "stdout",
          "text": [
            "5\n",
            "7\n"
          ]
        }
      ]
    },
    {
      "cell_type": "code",
      "source": [
        "print(a)"
      ],
      "metadata": {
        "colab": {
          "base_uri": "https://localhost:8080/"
        },
        "id": "-hzEgFMtmetl",
        "outputId": "14f4aeb2-7e84-4fd1-aca4-c7f48fc9ce97"
      },
      "execution_count": null,
      "outputs": [
        {
          "output_type": "stream",
          "name": "stdout",
          "text": [
            "5\n"
          ]
        }
      ]
    },
    {
      "cell_type": "code",
      "source": [
        "a = 10\n",
        "def calculator(number):\n",
        "  print(number * 10)\n",
        "\n",
        "\n"
      ],
      "metadata": {
        "id": "NTFabFkRm6NT"
      },
      "execution_count": null,
      "outputs": []
    },
    {
      "cell_type": "code",
      "source": [
        "calculator(a)"
      ],
      "metadata": {
        "colab": {
          "base_uri": "https://localhost:8080/"
        },
        "id": "PfkxkGroneUh",
        "outputId": "a9d95f15-4b9e-4b34-c918-89621f131242"
      },
      "execution_count": null,
      "outputs": [
        {
          "output_type": "stream",
          "name": "stdout",
          "text": [
            "100\n"
          ]
        }
      ]
    },
    {
      "cell_type": "code",
      "source": [
        "print(a)"
      ],
      "metadata": {
        "colab": {
          "base_uri": "https://localhost:8080/"
        },
        "id": "xFP0MkOlnflg",
        "outputId": "85e69e3e-6d01-4dae-e42c-40541e1e7f3d"
      },
      "execution_count": null,
      "outputs": [
        {
          "output_type": "stream",
          "name": "stdout",
          "text": [
            "10\n"
          ]
        }
      ]
    },
    {
      "cell_type": "code",
      "source": [
        "a = 10\n",
        "def calculator(number):\n",
        "  print(number * 10)"
      ],
      "metadata": {
        "id": "E-jBYVGQnkH9"
      },
      "execution_count": null,
      "outputs": []
    },
    {
      "cell_type": "code",
      "source": [
        "calculator(a)\n",
        "print(number)\n",
        "print(a)"
      ],
      "metadata": {
        "colab": {
          "base_uri": "https://localhost:8080/",
          "height": 223
        },
        "id": "unwlq7wpnury",
        "outputId": "b8559434-edbd-48da-a1a2-4fab7061439d"
      },
      "execution_count": null,
      "outputs": [
        {
          "output_type": "stream",
          "name": "stdout",
          "text": [
            "100\n"
          ]
        },
        {
          "output_type": "error",
          "ename": "NameError",
          "evalue": "ignored",
          "traceback": [
            "\u001b[0;31m---------------------------------------------------------------------------\u001b[0m",
            "\u001b[0;31mNameError\u001b[0m                                 Traceback (most recent call last)",
            "\u001b[0;32m<ipython-input-98-288093e1b98b>\u001b[0m in \u001b[0;36m<module>\u001b[0;34m\u001b[0m\n\u001b[1;32m      1\u001b[0m \u001b[0mcalculator\u001b[0m\u001b[0;34m(\u001b[0m\u001b[0ma\u001b[0m\u001b[0;34m)\u001b[0m\u001b[0;34m\u001b[0m\u001b[0;34m\u001b[0m\u001b[0m\n\u001b[0;32m----> 2\u001b[0;31m \u001b[0mprint\u001b[0m\u001b[0;34m(\u001b[0m\u001b[0mnumber\u001b[0m\u001b[0;34m)\u001b[0m\u001b[0;34m\u001b[0m\u001b[0;34m\u001b[0m\u001b[0m\n\u001b[0m\u001b[1;32m      3\u001b[0m \u001b[0mprint\u001b[0m\u001b[0;34m(\u001b[0m\u001b[0ma\u001b[0m\u001b[0;34m)\u001b[0m\u001b[0;34m\u001b[0m\u001b[0;34m\u001b[0m\u001b[0m\n",
            "\u001b[0;31mNameError\u001b[0m: name 'number' is not defined"
          ]
        }
      ]
    },
    {
      "cell_type": "code",
      "source": [
        "#doubts"
      ],
      "metadata": {
        "id": "FCttl3O9n5yB"
      },
      "execution_count": null,
      "outputs": []
    },
    {
      "cell_type": "code",
      "source": [
        "a = 10\n",
        "def calculator(number):\n",
        "  print(number * 10)\n",
        "  print(number)"
      ],
      "metadata": {
        "id": "lJM03l6SpL09"
      },
      "execution_count": null,
      "outputs": []
    },
    {
      "cell_type": "code",
      "source": [
        "calculator(a)\n",
        "print(a)"
      ],
      "metadata": {
        "colab": {
          "base_uri": "https://localhost:8080/"
        },
        "id": "dSCYoeQopPe2",
        "outputId": "684f7e81-d96e-4c72-ec93-4b0e8f3b1857"
      },
      "execution_count": null,
      "outputs": [
        {
          "output_type": "stream",
          "name": "stdout",
          "text": [
            "100\n",
            "10\n",
            "10\n"
          ]
        }
      ]
    },
    {
      "cell_type": "code",
      "source": [
        "a = 10"
      ],
      "metadata": {
        "id": "RF1mtPKspWpb"
      },
      "execution_count": null,
      "outputs": []
    },
    {
      "cell_type": "code",
      "source": [
        "print(a*4)"
      ],
      "metadata": {
        "colab": {
          "base_uri": "https://localhost:8080/"
        },
        "id": "gq3KeQXUpaDf",
        "outputId": "1e22e07a-be1f-4e51-9cf1-fa2d14d7c2bd"
      },
      "execution_count": null,
      "outputs": [
        {
          "output_type": "stream",
          "name": "stdout",
          "text": [
            "40\n"
          ]
        }
      ]
    },
    {
      "cell_type": "code",
      "source": [
        "print(a)"
      ],
      "metadata": {
        "colab": {
          "base_uri": "https://localhost:8080/"
        },
        "id": "b0Z8OS8OpbWP",
        "outputId": "37945ed4-6d13-4b82-c283-72554a848f90"
      },
      "execution_count": null,
      "outputs": [
        {
          "output_type": "stream",
          "name": "stdout",
          "text": [
            "10\n"
          ]
        }
      ]
    },
    {
      "cell_type": "code",
      "source": [
        "a = a*10"
      ],
      "metadata": {
        "id": "HePCwEN0pdxV"
      },
      "execution_count": null,
      "outputs": []
    },
    {
      "cell_type": "code",
      "source": [
        "print(a)"
      ],
      "metadata": {
        "colab": {
          "base_uri": "https://localhost:8080/"
        },
        "id": "oaqlqyfDpe5t",
        "outputId": "979e038b-2d0b-4876-c484-4dfcee28cc4d"
      },
      "execution_count": null,
      "outputs": [
        {
          "output_type": "stream",
          "name": "stdout",
          "text": [
            "100\n"
          ]
        }
      ]
    },
    {
      "cell_type": "code",
      "source": [],
      "metadata": {
        "id": "177RJEBFpgzu"
      },
      "execution_count": null,
      "outputs": []
    }
  ]
}