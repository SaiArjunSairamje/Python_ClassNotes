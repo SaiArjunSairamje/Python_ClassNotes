{
  "nbformat": 4,
  "nbformat_minor": 0,
  "metadata": {
    "colab": {
      "provenance": [],
      "include_colab_link": true
    },
    "kernelspec": {
      "name": "python3",
      "display_name": "Python 3"
    },
    "language_info": {
      "name": "python"
    }
  },
  "cells": [
    {
      "cell_type": "markdown",
      "metadata": {
        "id": "view-in-github",
        "colab_type": "text"
      },
      "source": [
        "<a href=\"https://colab.research.google.com/github/SaiArjunSairamje/Python_ClassNotes/blob/main/22.%20Strings-2%20.ipynb\" target=\"_parent\"><img src=\"https://colab.research.google.com/assets/colab-badge.svg\" alt=\"Open In Colab\"/></a>"
      ]
    },
    {
      "cell_type": "code",
      "execution_count": null,
      "metadata": {
        "colab": {
          "base_uri": "https://localhost:8080/"
        },
        "id": "MBYPICGiXffp",
        "outputId": "a89c4a7b-6547-4389-80bc-fbde25add8ac"
      },
      "outputs": [
        {
          "output_type": "stream",
          "name": "stdout",
          "text": [
            "Hows the josh??\n"
          ]
        }
      ],
      "source": [
        "print(\"Hows the josh??\")"
      ]
    },
    {
      "cell_type": "code",
      "source": [
        "s = \"4 5 6 7\"\n",
        "\n",
        "l = s.split()\n",
        "print(l)"
      ],
      "metadata": {
        "colab": {
          "base_uri": "https://localhost:8080/"
        },
        "id": "1txVE8egXxN0",
        "outputId": "e404719b-b58e-4ddf-a6e5-15406b2057f3"
      },
      "execution_count": null,
      "outputs": [
        {
          "output_type": "stream",
          "name": "stdout",
          "text": [
            "['4', '5', '6', '7']\n"
          ]
        }
      ]
    },
    {
      "cell_type": "code",
      "source": [
        "random = \"you_guys_are_really_awesomeee!\"\n",
        "l = random.split(\"_\")"
      ],
      "metadata": {
        "id": "iRHvD0RaY5a5"
      },
      "execution_count": null,
      "outputs": []
    },
    {
      "cell_type": "code",
      "source": [
        "s = \" \".join(l)"
      ],
      "metadata": {
        "id": "nAc9ZCWGZC5C"
      },
      "execution_count": null,
      "outputs": []
    },
    {
      "cell_type": "code",
      "source": [
        "print(s)"
      ],
      "metadata": {
        "colab": {
          "base_uri": "https://localhost:8080/"
        },
        "id": "LVB_e4YlZMJ_",
        "outputId": "a53fba76-6cd7-4494-890e-be88964d8a67"
      },
      "execution_count": null,
      "outputs": [
        {
          "output_type": "stream",
          "name": "stdout",
          "text": [
            "you guys are really awesomeee!\n"
          ]
        }
      ]
    },
    {
      "cell_type": "code",
      "source": [
        "ss = \"$$\".join(l)\n",
        "print(ss)"
      ],
      "metadata": {
        "colab": {
          "base_uri": "https://localhost:8080/"
        },
        "id": "HhL3ZY9BZM3-",
        "outputId": "9fe9b0df-7b42-47a3-f5c6-8ee15f571855"
      },
      "execution_count": null,
      "outputs": [
        {
          "output_type": "stream",
          "name": "stdout",
          "text": [
            "you$$guys$$are$$really$$awesomeee!\n"
          ]
        }
      ]
    },
    {
      "cell_type": "code",
      "source": [
        "random = [\"aj\", 40, 50, \"yo\"]\n",
        "\n",
        "s = \" \".join(random)\n",
        "\n",
        "#only works when list items are strings"
      ],
      "metadata": {
        "colab": {
          "base_uri": "https://localhost:8080/",
          "height": 241
        },
        "id": "DJMf8D00ZQ-d",
        "outputId": "dcc958f1-a0b7-41d3-c69b-79a81220ff32"
      },
      "execution_count": null,
      "outputs": [
        {
          "output_type": "error",
          "ename": "TypeError",
          "evalue": "ignored",
          "traceback": [
            "\u001b[0;31m---------------------------------------------------------------------------\u001b[0m",
            "\u001b[0;31mTypeError\u001b[0m                                 Traceback (most recent call last)",
            "\u001b[0;32m<ipython-input-10-f3b64c6b7953>\u001b[0m in \u001b[0;36m<module>\u001b[0;34m\u001b[0m\n\u001b[1;32m      1\u001b[0m \u001b[0mrandom\u001b[0m \u001b[0;34m=\u001b[0m \u001b[0;34m[\u001b[0m\u001b[0;34m\"aj\"\u001b[0m\u001b[0;34m,\u001b[0m \u001b[0;36m40\u001b[0m\u001b[0;34m,\u001b[0m \u001b[0;36m50\u001b[0m\u001b[0;34m,\u001b[0m \u001b[0;34m\"yo\"\u001b[0m\u001b[0;34m]\u001b[0m\u001b[0;34m\u001b[0m\u001b[0;34m\u001b[0m\u001b[0m\n\u001b[1;32m      2\u001b[0m \u001b[0;34m\u001b[0m\u001b[0m\n\u001b[0;32m----> 3\u001b[0;31m \u001b[0ms\u001b[0m \u001b[0;34m=\u001b[0m \u001b[0;34m\" \"\u001b[0m\u001b[0;34m.\u001b[0m\u001b[0mjoin\u001b[0m\u001b[0;34m(\u001b[0m\u001b[0mrandom\u001b[0m\u001b[0;34m)\u001b[0m\u001b[0;34m\u001b[0m\u001b[0;34m\u001b[0m\u001b[0m\n\u001b[0m\u001b[1;32m      4\u001b[0m \u001b[0;34m\u001b[0m\u001b[0m\n\u001b[1;32m      5\u001b[0m \u001b[0;31m#only works when list items are strings\u001b[0m\u001b[0;34m\u001b[0m\u001b[0;34m\u001b[0m\u001b[0;34m\u001b[0m\u001b[0m\n",
            "\u001b[0;31mTypeError\u001b[0m: sequence item 1: expected str instance, int found"
          ]
        }
      ]
    },
    {
      "cell_type": "code",
      "source": [
        "#find() -- returns the starting index of the first occurance of the pattern. Returns -1 if the pattern is not present"
      ],
      "metadata": {
        "id": "2WYnKt11Zp1A"
      },
      "execution_count": null,
      "outputs": []
    },
    {
      "cell_type": "code",
      "source": [
        "s = \"This is a random string\"\n",
        "s.find(\"is\")"
      ],
      "metadata": {
        "colab": {
          "base_uri": "https://localhost:8080/"
        },
        "id": "kah8nwNUZ1VS",
        "outputId": "f63a04f3-4e62-4fb7-b60f-611d3fc7a226"
      },
      "execution_count": null,
      "outputs": [
        {
          "output_type": "execute_result",
          "data": {
            "text/plain": [
              "2"
            ]
          },
          "metadata": {},
          "execution_count": 15
        }
      ]
    },
    {
      "cell_type": "code",
      "source": [
        "s.find(\"a\")"
      ],
      "metadata": {
        "colab": {
          "base_uri": "https://localhost:8080/"
        },
        "id": "r4PVJznyZ-4K",
        "outputId": "b8d8aa9c-7ae5-435c-e816-46dcd80e2c05"
      },
      "execution_count": null,
      "outputs": [
        {
          "output_type": "execute_result",
          "data": {
            "text/plain": [
              "8"
            ]
          },
          "metadata": {},
          "execution_count": 16
        }
      ]
    },
    {
      "cell_type": "code",
      "source": [
        "s.find(\" a \")"
      ],
      "metadata": {
        "colab": {
          "base_uri": "https://localhost:8080/"
        },
        "id": "8HhGMQjaaD_S",
        "outputId": "5db80118-3353-4e5d-b1d9-c9a4255e3ff6"
      },
      "execution_count": null,
      "outputs": [
        {
          "output_type": "execute_result",
          "data": {
            "text/plain": [
              "7"
            ]
          },
          "metadata": {},
          "execution_count": 17
        }
      ]
    },
    {
      "cell_type": "code",
      "source": [
        "s.find(\"aa\")"
      ],
      "metadata": {
        "colab": {
          "base_uri": "https://localhost:8080/"
        },
        "id": "v58DTSyKayvL",
        "outputId": "93d2e116-0135-4292-ab83-941a5df16a67"
      },
      "execution_count": null,
      "outputs": [
        {
          "output_type": "execute_result",
          "data": {
            "text/plain": [
              "-1"
            ]
          },
          "metadata": {},
          "execution_count": 18
        }
      ]
    },
    {
      "cell_type": "code",
      "source": [
        "s.find(\"    \")"
      ],
      "metadata": {
        "colab": {
          "base_uri": "https://localhost:8080/"
        },
        "id": "WGDcBoQebJKA",
        "outputId": "a68e4156-da03-42b2-a782-4032cbb4fd29"
      },
      "execution_count": null,
      "outputs": [
        {
          "output_type": "execute_result",
          "data": {
            "text/plain": [
              "-1"
            ]
          },
          "metadata": {},
          "execution_count": 19
        }
      ]
    },
    {
      "cell_type": "code",
      "source": [
        "#replace"
      ],
      "metadata": {
        "id": "CpcvBGk7bPnd"
      },
      "execution_count": null,
      "outputs": []
    },
    {
      "cell_type": "code",
      "source": [
        "s = \"This is a random string that I have created\""
      ],
      "metadata": {
        "id": "qsuSQo54bkrL"
      },
      "execution_count": null,
      "outputs": []
    },
    {
      "cell_type": "code",
      "source": [
        "replaced_s = s.replace(\"random\", \"AJ\")"
      ],
      "metadata": {
        "id": "Putw1SCAbpFy"
      },
      "execution_count": null,
      "outputs": []
    },
    {
      "cell_type": "code",
      "source": [
        "print(replaced_s)\n",
        "print(s)"
      ],
      "metadata": {
        "colab": {
          "base_uri": "https://localhost:8080/"
        },
        "id": "N31DwRCNbux-",
        "outputId": "f2f81597-7e65-4929-934b-a8207c12daac"
      },
      "execution_count": null,
      "outputs": [
        {
          "output_type": "stream",
          "name": "stdout",
          "text": [
            "This is a AJ string that I have created\n",
            "This is a random string that I have created\n"
          ]
        }
      ]
    },
    {
      "cell_type": "code",
      "source": [
        "st = \"How are you guys?????\"\n",
        "\n",
        "new_st = st.replace(\"?\", \"#\")"
      ],
      "metadata": {
        "id": "wDlEkQ5obwWi"
      },
      "execution_count": null,
      "outputs": []
    },
    {
      "cell_type": "code",
      "source": [
        "print(new_st)"
      ],
      "metadata": {
        "colab": {
          "base_uri": "https://localhost:8080/"
        },
        "id": "JqFaELsjcQ3U",
        "outputId": "64735ab4-d791-4187-bf71-58203c9bb1de"
      },
      "execution_count": null,
      "outputs": [
        {
          "output_type": "stream",
          "name": "stdout",
          "text": [
            "How are you guys#####\n"
          ]
        }
      ]
    },
    {
      "cell_type": "code",
      "source": [
        "new_stt = st.replace(\"??\", \"#\")"
      ],
      "metadata": {
        "id": "ih1NCozScSMY"
      },
      "execution_count": null,
      "outputs": []
    },
    {
      "cell_type": "code",
      "source": [
        "print(new_stt)"
      ],
      "metadata": {
        "colab": {
          "base_uri": "https://localhost:8080/"
        },
        "id": "C_vUpI3Dccvy",
        "outputId": "5ae7762f-3338-47e7-ee90-4dcba5428d9d"
      },
      "execution_count": null,
      "outputs": [
        {
          "output_type": "stream",
          "name": "stdout",
          "text": [
            "How are you guys##?\n"
          ]
        }
      ]
    },
    {
      "cell_type": "code",
      "source": [
        "#count()"
      ],
      "metadata": {
        "id": "ZnvLjdnxceWG"
      },
      "execution_count": null,
      "outputs": []
    },
    {
      "cell_type": "code",
      "source": [
        "s = \"Hello everyone!!!!!\"\n",
        "\n",
        "print(s.count(\"l\"))"
      ],
      "metadata": {
        "colab": {
          "base_uri": "https://localhost:8080/"
        },
        "id": "rxRtWkNHclOR",
        "outputId": "3d1c1ee9-2500-446a-a8ce-7b1e31eb2b97"
      },
      "execution_count": null,
      "outputs": [
        {
          "output_type": "stream",
          "name": "stdout",
          "text": [
            "2\n"
          ]
        }
      ]
    },
    {
      "cell_type": "code",
      "source": [
        "print(s.count(\"ll\"))"
      ],
      "metadata": {
        "colab": {
          "base_uri": "https://localhost:8080/"
        },
        "id": "qoBfITbUcso7",
        "outputId": "e11628cd-b5cf-4567-fb6b-ab080c4f9982"
      },
      "execution_count": null,
      "outputs": [
        {
          "output_type": "stream",
          "name": "stdout",
          "text": [
            "1\n"
          ]
        }
      ]
    },
    {
      "cell_type": "code",
      "source": [
        "print(s.count(\"llO\"))"
      ],
      "metadata": {
        "colab": {
          "base_uri": "https://localhost:8080/"
        },
        "id": "4lN9Fd2qc6eA",
        "outputId": "3d6e285a-3af8-410e-cea5-3b268dee4159"
      },
      "execution_count": null,
      "outputs": [
        {
          "output_type": "stream",
          "name": "stdout",
          "text": [
            "0\n"
          ]
        }
      ]
    },
    {
      "cell_type": "code",
      "source": [
        "print(s.count(\"llo\"))"
      ],
      "metadata": {
        "colab": {
          "base_uri": "https://localhost:8080/"
        },
        "id": "BGSENvOWdCfe",
        "outputId": "5996a5ff-bbae-488d-9705-b4f667c79f43"
      },
      "execution_count": null,
      "outputs": [
        {
          "output_type": "stream",
          "name": "stdout",
          "text": [
            "1\n"
          ]
        }
      ]
    },
    {
      "cell_type": "code",
      "source": [
        "s = \"ajajajajaja\"\n",
        "\n",
        "print(s.count(\"jaj\"))"
      ],
      "metadata": {
        "colab": {
          "base_uri": "https://localhost:8080/"
        },
        "id": "m_tVpFJNdLLw",
        "outputId": "922722b3-d029-4815-a391-4ee76a152c0f"
      },
      "execution_count": null,
      "outputs": [
        {
          "output_type": "stream",
          "name": "stdout",
          "text": [
            "2\n"
          ]
        }
      ]
    },
    {
      "cell_type": "code",
      "source": [
        "'''\n",
        "Q1 -\n",
        "\n",
        "Take a string as input\n",
        "Convert  the string to lower case without using any inbuild functions\n",
        "\n",
        "eg:\n",
        "ip: \"This is a StRING\"\n",
        "op: \"this is a string\"\n",
        "'''"
      ],
      "metadata": {
        "colab": {
          "base_uri": "https://localhost:8080/",
          "height": 53
        },
        "id": "LJefZUj0dm78",
        "outputId": "8c7de5bc-4e03-4c2d-fb55-04f6dd1aa00b"
      },
      "execution_count": null,
      "outputs": [
        {
          "output_type": "execute_result",
          "data": {
            "text/plain": [
              "'\\nQ1 -\\n\\nTake a string as input\\nConvert  the string to lower case without using any inbuild functions\\n\\neg:\\nip: \"This is a StRING\"\\nop: \"this is a string\"\\n'"
            ],
            "application/vnd.google.colaboratory.intrinsic+json": {
              "type": "string"
            }
          },
          "metadata": {},
          "execution_count": 36
        }
      ]
    },
    {
      "cell_type": "code",
      "source": [
        "a = \"This is a StRING\"\n",
        "\n",
        "result = \"\"\n",
        "\n",
        "for c in a:\n",
        "  val = ord(c)\n",
        "\n",
        "  new_val = val+32\n",
        "\n",
        "  new_c = chr(new_val)\n",
        "\n",
        "  result = result + new_c\n",
        "\n",
        "\n",
        "print(result)"
      ],
      "metadata": {
        "colab": {
          "base_uri": "https://localhost:8080/"
        },
        "id": "zg3DJnjYfxQw",
        "outputId": "8ca21138-1156-43f5-b6ed-ed62df4fa68b"
      },
      "execution_count": null,
      "outputs": [
        {
          "output_type": "stream",
          "name": "stdout",
          "text": [
            "t@@@sring\n"
          ]
        }
      ]
    },
    {
      "cell_type": "code",
      "source": [
        "a = \"This is a StRING\"\n",
        "\n",
        "result = \"\"\n",
        "\n",
        "for c in a:\n",
        "\n",
        "  if c.isupper():\n",
        "    val = ord(c)\n",
        "\n",
        "    new_val = val+32\n",
        "\n",
        "    new_c = chr(new_val)\n",
        "\n",
        "    result = result + new_c\n",
        "\n",
        "\n",
        "\n",
        "print(result)"
      ],
      "metadata": {
        "colab": {
          "base_uri": "https://localhost:8080/"
        },
        "id": "qNdQXhV7gTaL",
        "outputId": "c07bd009-a170-4ba8-af83-ca7d2268046e"
      },
      "execution_count": null,
      "outputs": [
        {
          "output_type": "stream",
          "name": "stdout",
          "text": [
            "tsring\n"
          ]
        }
      ]
    },
    {
      "cell_type": "code",
      "source": [
        "a = \"This is a StRING\"\n",
        "\n",
        "result = \"\"\n",
        "\n",
        "for c in a:\n",
        "\n",
        "  if c.isupper():\n",
        "    val = ord(c)\n",
        "\n",
        "    new_val = val+32\n",
        "\n",
        "    new_c = chr(new_val)\n",
        "\n",
        "    result = result + new_c\n",
        "  else:\n",
        "    result = result + c\n",
        "\n",
        "print(result)"
      ],
      "metadata": {
        "colab": {
          "base_uri": "https://localhost:8080/"
        },
        "id": "6LtW4Fsdg0G5",
        "outputId": "89c45ee7-a9b3-4648-e19f-f6017bad52bb"
      },
      "execution_count": null,
      "outputs": [
        {
          "output_type": "stream",
          "name": "stdout",
          "text": [
            "this is a string\n"
          ]
        }
      ]
    },
    {
      "cell_type": "code",
      "source": [
        "\"This is a StRING\".lower()"
      ],
      "metadata": {
        "colab": {
          "base_uri": "https://localhost:8080/",
          "height": 35
        },
        "id": "tzwN7FmshMwb",
        "outputId": "2dad431a-fb84-45e4-fb6c-dfa8941a8346"
      },
      "execution_count": null,
      "outputs": [
        {
          "output_type": "execute_result",
          "data": {
            "text/plain": [
              "'this is a string'"
            ],
            "application/vnd.google.colaboratory.intrinsic+json": {
              "type": "string"
            }
          },
          "metadata": {},
          "execution_count": 40
        }
      ]
    },
    {
      "cell_type": "code",
      "source": [
        "\"This is a StRING\".upper()"
      ],
      "metadata": {
        "colab": {
          "base_uri": "https://localhost:8080/",
          "height": 35
        },
        "id": "peD30MhbhrS1",
        "outputId": "312a127b-3bb5-41de-c4e0-c5a187b9e51a"
      },
      "execution_count": null,
      "outputs": [
        {
          "output_type": "execute_result",
          "data": {
            "text/plain": [
              "'THIS IS A STRING'"
            ],
            "application/vnd.google.colaboratory.intrinsic+json": {
              "type": "string"
            }
          },
          "metadata": {},
          "execution_count": 41
        }
      ]
    },
    {
      "cell_type": "code",
      "source": [
        "#membership operator"
      ],
      "metadata": {
        "id": "3vORg0jKhb2F"
      },
      "execution_count": null,
      "outputs": []
    },
    {
      "cell_type": "code",
      "source": [
        "\"amazing\" in \"you guys are amazing\""
      ],
      "metadata": {
        "colab": {
          "base_uri": "https://localhost:8080/"
        },
        "id": "gYmliqdnhzN0",
        "outputId": "b532ead6-242c-4114-a6aa-28b2c54467fe"
      },
      "execution_count": null,
      "outputs": [
        {
          "output_type": "execute_result",
          "data": {
            "text/plain": [
              "True"
            ]
          },
          "metadata": {},
          "execution_count": 43
        }
      ]
    },
    {
      "cell_type": "code",
      "source": [
        "\"Are\" in \"you guys are amazing\""
      ],
      "metadata": {
        "colab": {
          "base_uri": "https://localhost:8080/"
        },
        "id": "TpPnQYY2h45w",
        "outputId": "b8b1b42c-8682-47ba-928d-068a3390ef7b"
      },
      "execution_count": null,
      "outputs": [
        {
          "output_type": "execute_result",
          "data": {
            "text/plain": [
              "False"
            ]
          },
          "metadata": {},
          "execution_count": 44
        }
      ]
    },
    {
      "cell_type": "code",
      "source": [
        "\"are\" in \"you guys are amazing\""
      ],
      "metadata": {
        "colab": {
          "base_uri": "https://localhost:8080/"
        },
        "id": "_kdVsQA3h_PK",
        "outputId": "35f5c349-7960-48eb-fc5c-5d658c061f0d"
      },
      "execution_count": null,
      "outputs": [
        {
          "output_type": "execute_result",
          "data": {
            "text/plain": [
              "True"
            ]
          },
          "metadata": {},
          "execution_count": 45
        }
      ]
    },
    {
      "cell_type": "code",
      "source": [
        "\"6\".isdigit()"
      ],
      "metadata": {
        "colab": {
          "base_uri": "https://localhost:8080/"
        },
        "id": "uGj3RVD8iCp6",
        "outputId": "82516834-53d3-456a-af2b-9072b5e868ff"
      },
      "execution_count": null,
      "outputs": [
        {
          "output_type": "execute_result",
          "data": {
            "text/plain": [
              "True"
            ]
          },
          "metadata": {},
          "execution_count": 46
        }
      ]
    },
    {
      "cell_type": "code",
      "source": [
        "\"678\".isdigit()"
      ],
      "metadata": {
        "colab": {
          "base_uri": "https://localhost:8080/"
        },
        "id": "VN5yQ-LKiOmd",
        "outputId": "c9045e61-c6c2-4ed4-b144-62ec7c5355c9"
      },
      "execution_count": null,
      "outputs": [
        {
          "output_type": "execute_result",
          "data": {
            "text/plain": [
              "True"
            ]
          },
          "metadata": {},
          "execution_count": 47
        }
      ]
    },
    {
      "cell_type": "code",
      "source": [
        "\"6756a\".isdigit()"
      ],
      "metadata": {
        "colab": {
          "base_uri": "https://localhost:8080/"
        },
        "id": "tcbGtF4ciWZC",
        "outputId": "02bbe119-0eb6-404d-bceb-913bb39ce579"
      },
      "execution_count": null,
      "outputs": [
        {
          "output_type": "execute_result",
          "data": {
            "text/plain": [
              "False"
            ]
          },
          "metadata": {},
          "execution_count": 48
        }
      ]
    },
    {
      "cell_type": "code",
      "source": [
        "\"a\".isalpha()"
      ],
      "metadata": {
        "colab": {
          "base_uri": "https://localhost:8080/"
        },
        "id": "Cgh6nd72iaeE",
        "outputId": "66a88321-c182-48af-ab74-f18ebb21ae87"
      },
      "execution_count": null,
      "outputs": [
        {
          "output_type": "execute_result",
          "data": {
            "text/plain": [
              "True"
            ]
          },
          "metadata": {},
          "execution_count": 49
        }
      ]
    },
    {
      "cell_type": "code",
      "source": [
        "\"agjdfjaj444adfkasjfk\".isalpha()"
      ],
      "metadata": {
        "colab": {
          "base_uri": "https://localhost:8080/"
        },
        "id": "j_bwtvUkiqIw",
        "outputId": "2b5ff0e4-1ca8-42ff-88d7-c9dca4a9cd24"
      },
      "execution_count": null,
      "outputs": [
        {
          "output_type": "execute_result",
          "data": {
            "text/plain": [
              "False"
            ]
          },
          "metadata": {},
          "execution_count": 50
        }
      ]
    },
    {
      "cell_type": "code",
      "source": [
        "\"dfjkAAAAdjkfjk\".isalpha()"
      ],
      "metadata": {
        "colab": {
          "base_uri": "https://localhost:8080/"
        },
        "id": "mnBd9ctmizR9",
        "outputId": "5189ae13-8896-479d-a914-c9767b291ec8"
      },
      "execution_count": null,
      "outputs": [
        {
          "output_type": "execute_result",
          "data": {
            "text/plain": [
              "True"
            ]
          },
          "metadata": {},
          "execution_count": 51
        }
      ]
    },
    {
      "cell_type": "code",
      "source": [
        "\"AB\".isupper()"
      ],
      "metadata": {
        "colab": {
          "base_uri": "https://localhost:8080/"
        },
        "id": "QOZNe3Rai6R9",
        "outputId": "23a9fe30-4491-4c5c-e913-28445f6bcff1"
      },
      "execution_count": null,
      "outputs": [
        {
          "output_type": "execute_result",
          "data": {
            "text/plain": [
              "True"
            ]
          },
          "metadata": {},
          "execution_count": 52
        }
      ]
    },
    {
      "cell_type": "code",
      "source": [
        "\"ABc\".isupper()"
      ],
      "metadata": {
        "colab": {
          "base_uri": "https://localhost:8080/"
        },
        "id": "dk7pEoC6jA4C",
        "outputId": "0b222dcd-cc11-4914-f5e2-5325c35daa18"
      },
      "execution_count": null,
      "outputs": [
        {
          "output_type": "execute_result",
          "data": {
            "text/plain": [
              "False"
            ]
          },
          "metadata": {},
          "execution_count": 53
        }
      ]
    },
    {
      "cell_type": "code",
      "source": [
        "\"ccdd\".islower()"
      ],
      "metadata": {
        "colab": {
          "base_uri": "https://localhost:8080/"
        },
        "id": "AuFF-xTUjH_u",
        "outputId": "42cf3c03-19a1-4f8c-f2ca-a30071cf286e"
      },
      "execution_count": null,
      "outputs": [
        {
          "output_type": "execute_result",
          "data": {
            "text/plain": [
              "True"
            ]
          },
          "metadata": {},
          "execution_count": 54
        }
      ]
    },
    {
      "cell_type": "code",
      "source": [
        "\"fhdfkdkffKKKK\".islower()"
      ],
      "metadata": {
        "colab": {
          "base_uri": "https://localhost:8080/"
        },
        "id": "E6uiFik1jL-e",
        "outputId": "fa812137-ec34-45b2-9112-97b3a35604bb"
      },
      "execution_count": null,
      "outputs": [
        {
          "output_type": "execute_result",
          "data": {
            "text/plain": [
              "False"
            ]
          },
          "metadata": {},
          "execution_count": 55
        }
      ]
    },
    {
      "cell_type": "code",
      "source": [
        "\" \".isspace()"
      ],
      "metadata": {
        "colab": {
          "base_uri": "https://localhost:8080/"
        },
        "id": "li8ZznQwjPDA",
        "outputId": "c9f277fe-c0b9-4b12-934f-a949234e872d"
      },
      "execution_count": null,
      "outputs": [
        {
          "output_type": "execute_result",
          "data": {
            "text/plain": [
              "True"
            ]
          },
          "metadata": {},
          "execution_count": 56
        }
      ]
    },
    {
      "cell_type": "code",
      "source": [
        "\" \\t  \".isspace()"
      ],
      "metadata": {
        "colab": {
          "base_uri": "https://localhost:8080/"
        },
        "id": "EjFHeJ3JQSqo",
        "outputId": "f08a17e2-d6c3-4981-fdbd-88983faca51e"
      },
      "execution_count": null,
      "outputs": [
        {
          "output_type": "execute_result",
          "data": {
            "text/plain": [
              "True"
            ]
          },
          "metadata": {},
          "execution_count": 7
        }
      ]
    },
    {
      "cell_type": "code",
      "source": [
        "\"hello guys you are doing great!\".isspace()"
      ],
      "metadata": {
        "colab": {
          "base_uri": "https://localhost:8080/"
        },
        "id": "PSZhJIsfjZJu",
        "outputId": "99930732-99a4-476a-8269-9cfc54e12bae"
      },
      "execution_count": null,
      "outputs": [
        {
          "output_type": "execute_result",
          "data": {
            "text/plain": [
              "False"
            ]
          },
          "metadata": {},
          "execution_count": 57
        }
      ]
    },
    {
      "cell_type": "code",
      "source": [
        "'''\n",
        "\n",
        "'''"
      ],
      "metadata": {
        "id": "QKNAKIdHjhxv"
      },
      "execution_count": null,
      "outputs": []
    },
    {
      "cell_type": "code",
      "source": [
        "# 10:07"
      ],
      "metadata": {
        "id": "37MeStCKj2uX"
      },
      "execution_count": null,
      "outputs": []
    },
    {
      "cell_type": "code",
      "source": [
        "'''\n",
        "Q3\n",
        "Take a string as input.\n",
        "\n",
        "Replace all the '#' by 'space'\n",
        "\n",
        "ip: \"You#are#doing#really#great#guys\"\n",
        "op: \"You are doing really great guys\"\n",
        "\n",
        "'''"
      ],
      "metadata": {
        "id": "81Km5yaHmbRn"
      },
      "execution_count": null,
      "outputs": []
    },
    {
      "cell_type": "code",
      "source": [
        "s = input()\n",
        "\n",
        "result_s = s.replace(\"#\", \" \")\n",
        "\n",
        "print(result_s)"
      ],
      "metadata": {
        "colab": {
          "base_uri": "https://localhost:8080/"
        },
        "id": "VFdPDRurnvqF",
        "outputId": "e6e7f142-f053-4c0d-a4eb-29ef3ad3ab4b"
      },
      "execution_count": null,
      "outputs": [
        {
          "output_type": "stream",
          "name": "stdout",
          "text": [
            "You#are#doing#really#great#guys\n",
            "You are doing really great guys\n"
          ]
        }
      ]
    },
    {
      "cell_type": "code",
      "source": [
        "#do this without using replace()"
      ],
      "metadata": {
        "id": "062Ykmayn7Pr"
      },
      "execution_count": null,
      "outputs": []
    },
    {
      "cell_type": "code",
      "source": [
        "s =  \"You#are#doing#really#great#guys\"\n",
        "result = \"\"\n",
        "\n",
        "for c in s:\n",
        "  if c == \"#\":\n",
        "    result = result + \" \"\n",
        "\n",
        "\n",
        "print(result)\n"
      ],
      "metadata": {
        "colab": {
          "base_uri": "https://localhost:8080/"
        },
        "id": "8prD5eBioKeP",
        "outputId": "efea97cf-7aad-49bc-d3cb-222c25526c84"
      },
      "execution_count": null,
      "outputs": [
        {
          "output_type": "stream",
          "name": "stdout",
          "text": [
            "You are doing really great guys\n"
          ]
        }
      ]
    },
    {
      "cell_type": "code",
      "source": [
        "s =  \"You#are#doing#really#great#guys\"\n",
        "result = \"\"\n",
        "\n",
        "for c in s:\n",
        "  if c == \"#\":\n",
        "    result = result + \" \"\n",
        "  else:\n",
        "    result = result + c\n",
        "\n",
        "print(result)\n"
      ],
      "metadata": {
        "id": "qxd5EPIFpkJT"
      },
      "execution_count": null,
      "outputs": []
    },
    {
      "cell_type": "code",
      "source": [
        "\"amazing\" == \"amazing hi\""
      ],
      "metadata": {
        "colab": {
          "base_uri": "https://localhost:8080/"
        },
        "id": "cfakGr1up7ne",
        "outputId": "e16f3483-1d29-49d1-be9a-c55fe893aeb6"
      },
      "execution_count": null,
      "outputs": [
        {
          "output_type": "execute_result",
          "data": {
            "text/plain": [
              "False"
            ]
          },
          "metadata": {},
          "execution_count": 64
        }
      ]
    },
    {
      "cell_type": "code",
      "source": [
        "\"amazing\" == \"amazing\""
      ],
      "metadata": {
        "colab": {
          "base_uri": "https://localhost:8080/"
        },
        "id": "WFMl0KMEp_ya",
        "outputId": "a03c2e22-ac88-4a00-f2c9-e9baedc8addd"
      },
      "execution_count": null,
      "outputs": [
        {
          "output_type": "execute_result",
          "data": {
            "text/plain": [
              "True"
            ]
          },
          "metadata": {},
          "execution_count": 65
        }
      ]
    },
    {
      "cell_type": "code",
      "source": [
        "'''\n",
        "Glossary of string methods\n",
        "'''\n",
        "\n",
        "1. split() --> \"this is a string\".split()\n",
        "String to list of words\n",
        "\n",
        "\n",
        "2. join() --> \" \".join([\"this\", \"is\", \"a\", \"string\"])\n",
        "list of strings to a single string\n",
        "\n",
        "\n",
        "3. replace() --> \"this is a string\".replace(\" \", \"_\")\n",
        "replaces all the occurances of the first string by the second string\n",
        "VIMP- it creates a new string and returns it\n",
        "\n",
        "\n",
        "\n",
        "4. find() --> \"this is a string\".find(\"a\")\n",
        "finds the exact sequence of char/string in the original string and returns the index of first occurancce of it.\n",
        "Returns -1 if the pattern is not present in the string.\n",
        "\n",
        "5. count() --> \"this is a string\".count(\"a\")\n",
        "counts the number of times a char or string is present in the given string\n",
        "\n",
        "\n",
        "6. isdigit() --> \"585676875895\".isdigit()\n",
        "returns True if all the characters in the string are digits, else returns False\n",
        "\n",
        "\n",
        "7. isalpha() --> \"dfkjldfjAAAA\".isalpha()\n",
        "returns True if all the characters in the string are alphabets- small or captials\n",
        "\n",
        "\n",
        "8. islower() -->\n",
        "returns True if all the characters in the string are lowercase alphabets - else returns False\n",
        "\n",
        "9. isupper() -->\n",
        "returns True if all the characters in the string are uppercase alphabets - else returns False\n",
        "\n",
        "10. isspace()\n",
        "returns True if all the characters in the string are space - else returns False\n",
        "\n",
        "11. lower() --> \"hello GuYs\".lower()\n",
        "converts the given string to ALL lowercase alphabets\n",
        "\n",
        "12. upper() --> \"heLLo guys\".upper()\n",
        "converts the given string to ALL uppercase alphabets\n",
        "\n",
        "\n",
        "Special mentions:\n",
        "\n",
        "Membership:\n",
        "\n",
        "\"amazing\" in \"you guys are amazing\"\n",
        "Returns true if the pattern is present in the string\n",
        "\n",
        "\n",
        "ord(\"A\") --> gives the ASCII value of the character\n",
        "\n",
        "chr(65) --> returns the character having the ASCII value as input\n"
      ],
      "metadata": {
        "id": "wggvLZgYqE0l"
      },
      "execution_count": null,
      "outputs": []
    }
  ]
}